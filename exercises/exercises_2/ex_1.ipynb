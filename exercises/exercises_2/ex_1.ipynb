{
 "cells": [
  {
   "cell_type": "markdown",
   "id": "39a6b477",
   "metadata": {},
   "source": [
    "# 1. Internet usage historical"
   ]
  },
  {
   "cell_type": "code",
   "execution_count": 4,
   "id": "b6cdcb6b",
   "metadata": {},
   "outputs": [
    {
     "data": {
      "text/html": [
       "<div>\n",
       "<style scoped>\n",
       "    .dataframe tbody tr th:only-of-type {\n",
       "        vertical-align: middle;\n",
       "    }\n",
       "\n",
       "    .dataframe tbody tr th {\n",
       "        vertical-align: top;\n",
       "    }\n",
       "\n",
       "    .dataframe thead th {\n",
       "        text-align: right;\n",
       "    }\n",
       "</style>\n",
       "<table border=\"1\" class=\"dataframe\">\n",
       "  <thead>\n",
       "    <tr style=\"text-align: right;\">\n",
       "      <th></th>\n",
       "      <th>Entity</th>\n",
       "      <th>Code</th>\n",
       "      <th>Year</th>\n",
       "      <th>Individuals using the Internet (% of population)</th>\n",
       "    </tr>\n",
       "  </thead>\n",
       "  <tbody>\n",
       "    <tr>\n",
       "      <th>0</th>\n",
       "      <td>Afghanistan</td>\n",
       "      <td>AFG</td>\n",
       "      <td>1990</td>\n",
       "      <td>0.0</td>\n",
       "    </tr>\n",
       "    <tr>\n",
       "      <th>1</th>\n",
       "      <td>Afghanistan</td>\n",
       "      <td>AFG</td>\n",
       "      <td>1991</td>\n",
       "      <td>0.0</td>\n",
       "    </tr>\n",
       "    <tr>\n",
       "      <th>2</th>\n",
       "      <td>Afghanistan</td>\n",
       "      <td>AFG</td>\n",
       "      <td>1992</td>\n",
       "      <td>0.0</td>\n",
       "    </tr>\n",
       "    <tr>\n",
       "      <th>3</th>\n",
       "      <td>Afghanistan</td>\n",
       "      <td>AFG</td>\n",
       "      <td>1993</td>\n",
       "      <td>0.0</td>\n",
       "    </tr>\n",
       "    <tr>\n",
       "      <th>4</th>\n",
       "      <td>Afghanistan</td>\n",
       "      <td>AFG</td>\n",
       "      <td>1994</td>\n",
       "      <td>0.0</td>\n",
       "    </tr>\n",
       "  </tbody>\n",
       "</table>\n",
       "</div>"
      ],
      "text/plain": [
       "        Entity Code  Year  Individuals using the Internet (% of population)\n",
       "0  Afghanistan  AFG  1990                                               0.0\n",
       "1  Afghanistan  AFG  1991                                               0.0\n",
       "2  Afghanistan  AFG  1992                                               0.0\n",
       "3  Afghanistan  AFG  1993                                               0.0\n",
       "4  Afghanistan  AFG  1994                                               0.0"
      ]
     },
     "execution_count": 4,
     "metadata": {},
     "output_type": "execute_result"
    }
   ],
   "source": [
    "import plotly.express as px\n",
    "import pandas as pd\n",
    "import duckdb as db\n",
    "import plotly.graph_objects as go\n",
    "\n",
    "df = pd.read_csv(\"data/share-of-individuals-using-the-internet.csv\")\n",
    "\n",
    "df.head()"
   ]
  },
  {
   "cell_type": "code",
   "execution_count": 5,
   "id": "796ffecd",
   "metadata": {},
   "outputs": [],
   "source": [
    "continents = df[df[\"Entity\"].isin([ \"South Asia (WB)\", \"North America (WB)\", \"Sub-Saharan Africa (WB)\",\n",
    "      \"East Asia and Pacific (WB)\",\n",
    "      \"Middle East and North Africa (WB)\",\n",
    "      \"Europe and Central Asia (WB)\",\n",
    "      \"Latin America and Caribbean (WB)\",\n",
    "      \"World\"])]"
   ]
  },
  {
   "cell_type": "code",
   "execution_count": 6,
   "id": "72f24468",
   "metadata": {},
   "outputs": [],
   "source": [
    "continents_time = db.query(\"\"\"--sql\n",
    "    SELECT \"Entity\",\"Year\",\"Individuals using the Internet (% of population)\" as \"Internet\"\n",
    "    FROM continents\n",
    "      WHERE (Entity LIKE '%WB%'\n",
    "             OR Entity LIKE 'World')\n",
    "            OR (Entity LIKE 'South Asia (WB)')\n",
    "    ORDER BY \"Year\"\n",
    "\"\"\").df()"
   ]
  },
  {
   "cell_type": "code",
   "execution_count": 7,
   "id": "6de53202",
   "metadata": {},
   "outputs": [
    {
     "data": {
      "text/html": [
       "<div>\n",
       "<style scoped>\n",
       "    .dataframe tbody tr th:only-of-type {\n",
       "        vertical-align: middle;\n",
       "    }\n",
       "\n",
       "    .dataframe tbody tr th {\n",
       "        vertical-align: top;\n",
       "    }\n",
       "\n",
       "    .dataframe thead th {\n",
       "        text-align: right;\n",
       "    }\n",
       "</style>\n",
       "<table border=\"1\" class=\"dataframe\">\n",
       "  <thead>\n",
       "    <tr style=\"text-align: right;\">\n",
       "      <th></th>\n",
       "      <th>Entity</th>\n",
       "      <th>Year</th>\n",
       "      <th>Internet</th>\n",
       "    </tr>\n",
       "  </thead>\n",
       "  <tbody>\n",
       "    <tr>\n",
       "      <th>0</th>\n",
       "      <td>East Asia and Pacific (WB)</td>\n",
       "      <td>1990</td>\n",
       "      <td>0.007348</td>\n",
       "    </tr>\n",
       "    <tr>\n",
       "      <th>1</th>\n",
       "      <td>Europe and Central Asia (WB)</td>\n",
       "      <td>1990</td>\n",
       "      <td>0.048031</td>\n",
       "    </tr>\n",
       "    <tr>\n",
       "      <th>2</th>\n",
       "      <td>Latin America and Caribbean (WB)</td>\n",
       "      <td>1990</td>\n",
       "      <td>0.000000</td>\n",
       "    </tr>\n",
       "    <tr>\n",
       "      <th>3</th>\n",
       "      <td>Middle East and North Africa (WB)</td>\n",
       "      <td>1990</td>\n",
       "      <td>0.002073</td>\n",
       "    </tr>\n",
       "    <tr>\n",
       "      <th>4</th>\n",
       "      <td>North America (WB)</td>\n",
       "      <td>1990</td>\n",
       "      <td>0.742073</td>\n",
       "    </tr>\n",
       "    <tr>\n",
       "      <th>5</th>\n",
       "      <td>South Asia (WB)</td>\n",
       "      <td>1990</td>\n",
       "      <td>0.000000</td>\n",
       "    </tr>\n",
       "    <tr>\n",
       "      <th>6</th>\n",
       "      <td>Sub-Saharan Africa (WB)</td>\n",
       "      <td>1990</td>\n",
       "      <td>0.000000</td>\n",
       "    </tr>\n",
       "    <tr>\n",
       "      <th>7</th>\n",
       "      <td>World</td>\n",
       "      <td>1990</td>\n",
       "      <td>0.048825</td>\n",
       "    </tr>\n",
       "  </tbody>\n",
       "</table>\n",
       "</div>"
      ],
      "text/plain": [
       "                              Entity  Year  Internet\n",
       "0         East Asia and Pacific (WB)  1990  0.007348\n",
       "1       Europe and Central Asia (WB)  1990  0.048031\n",
       "2   Latin America and Caribbean (WB)  1990  0.000000\n",
       "3  Middle East and North Africa (WB)  1990  0.002073\n",
       "4                 North America (WB)  1990  0.742073\n",
       "5                    South Asia (WB)  1990  0.000000\n",
       "6            Sub-Saharan Africa (WB)  1990  0.000000\n",
       "7                              World  1990  0.048825"
      ]
     },
     "execution_count": 7,
     "metadata": {},
     "output_type": "execute_result"
    }
   ],
   "source": [
    "continents_time.head(8)"
   ]
  },
  {
   "cell_type": "code",
   "execution_count": 8,
   "id": "53998c04",
   "metadata": {},
   "outputs": [
    {
     "data": {
      "application/vnd.plotly.v1+json": {
       "config": {
        "plotlyServerURL": "https://plot.ly"
       },
       "data": [
        {
         "hovertemplate": "Entity=East Asia and Pacific (WB)<br>Year=%{x}<br>Internet=%{y}<extra></extra>",
         "legendgroup": "East Asia and Pacific (WB)",
         "line": {
          "color": "#636efa",
          "dash": "solid",
          "width": 2
         },
         "marker": {
          "size": 4,
          "symbol": "circle"
         },
         "mode": "lines+markers",
         "name": "East Asia and Pacific (WB)",
         "orientation": "v",
         "showlegend": true,
         "type": "scatter",
         "x": {
          "bdata": "xgfHB8gHyQfKB8sHzAfNB84HzwfQB9EH0gfTB9QH1QfWB9cH2AfZB9oH2wfcB90H3gffB+AH4QfiB+MH5AflB+YH5wc=",
          "dtype": "i2"
         },
         "xaxis": "x",
         "y": {
          "bdata": "MrV//i8Zfj8YOxQX3QCPP01yjb2BQ6A/JO1nLdwksD8qDxzh/u27P0+8NXaq+Mg/jmJvGLsz3j/aCYp6HIHxPyhtYGF3cP4/ymKsgIyKC0BGfZI7bIIWQIVgVb38Lh1A9KPhlLkRIkBp4h3gSTclQDscXaW7SylAZmZmZmZmLUAzMzMzM7MwQM3MzMzMzDRAzczMzMxMOUAAAAAAAIA9QJqZmZmZGUFAZmZmZmamQkAzMzMzMzNEQGZmZmZmpkVAAAAAAADARkBmZmZmZiZIQJqZmZmZ2UlAZmZmZmbmSkAzMzMzM3NNQGZmZmZm5k9AAAAAAABAUUAzMzMzMzNSQGZmZmZm5lJAAAAAAADAU0A=",
          "dtype": "f8"
         },
         "yaxis": "y"
        },
        {
         "hovertemplate": "Entity=Europe and Central Asia (WB)<br>Year=%{x}<br>Internet=%{y}<extra></extra>",
         "legendgroup": "Europe and Central Asia (WB)",
         "line": {
          "color": "#EF553B",
          "dash": "solid",
          "width": 2
         },
         "marker": {
          "size": 4,
          "symbol": "circle"
         },
         "mode": "lines+markers",
         "name": "Europe and Central Asia (WB)",
         "orientation": "v",
         "showlegend": true,
         "type": "scatter",
         "x": {
          "bdata": "xgfHB8gHyQfKB8sHzAfNB84HzwfQB9EH0gfTB9QH1QfWB9cH2AfZB9oH2wfcB90H3gffB+AH4QfiB+MH5AflB+YH5wc=",
          "dtype": "i2"
         },
         "xaxis": "x",
         "y": {
          "bdata": "uZQMY3+XqD+Elvk3/RO6PycyMWX5Hcc/KyvykM7l0T/N6h1uh8bgP4pt9xfmqe8/ph6z/XVY/T8AcsKE0bwKQIURVr7CpRVAavgW1o1nIkDZJD/iV0QqQA05tp4hXDBA+5KNB1v4NkB3acNhaUA8QCv2l92TH0BAmpmZmZlZQUAAAAAAAABDQM3MzMzMzEVAzczMzMwMSECamZmZmVlKQAAAAAAAgExAmpmZmZkZTkAzMzMzM/NPQDMzMzMzk1BAMzMzMzMzUUAzMzMzM3NRQDMzMzMzE1JAmpmZmZmZUkBmZmZmZoZTQDMzMzMzE1RAmpmZmZnZVEAAAAAAAIBVQJqZmZmZ+VVAZmZmZmaGVkA=",
          "dtype": "f8"
         },
         "yaxis": "y"
        },
        {
         "hovertemplate": "Entity=Latin America and Caribbean (WB)<br>Year=%{x}<br>Internet=%{y}<extra></extra>",
         "legendgroup": "Latin America and Caribbean (WB)",
         "line": {
          "color": "#00cc96",
          "dash": "solid",
          "width": 2
         },
         "marker": {
          "size": 4,
          "symbol": "circle"
         },
         "mode": "lines+markers",
         "name": "Latin America and Caribbean (WB)",
         "orientation": "v",
         "showlegend": true,
         "type": "scatter",
         "x": {
          "bdata": "xgfHB8gHyQfKB8sHzAfNB84HzwfQB9EH0gfTB9QH1QfWB9cH2AfZB9oH2wfcB90H3gffB+AH4QfiB+MH5AflB+YH5wc=",
          "dtype": "i2"
         },
         "xaxis": "x",
         "y": {
          "bdata": "AAAAAAAAAAAPh+rDQR1iPzd7hsETsoM/vqFTBPaglT9ccoviHSymP3D8eej1Brs/JQgVJM/Y0z//D2bJ0n3jPz8DRYcbq/M/UC4ypgVkAEA23JH7ZxcPQH5VLlT+hRZAelbSim+4IUDyBwPPvYcmQPJfIAiQySxAmpmZmZmZMEAzMzMzM7M0QDMzMzMzszdAAAAAAACAOkAAAAAAAAA/QJqZmZmZWUFAZmZmZmamQ0AAAAAAAIBFQM3MzMzMDEdAmpmZmZlZSEBmZmZmZiZLQAAAAAAAwExAZmZmZmYmT0AzMzMzM1NQQAAAAAAAAFFAZmZmZmaGUkAAAAAAAABTQGZmZmZmZlNAAAAAAABAVEA=",
          "dtype": "f8"
         },
         "yaxis": "y"
        },
        {
         "hovertemplate": "Entity=Middle East and North Africa (WB)<br>Year=%{x}<br>Internet=%{y}<extra></extra>",
         "legendgroup": "Middle East and North Africa (WB)",
         "line": {
          "color": "#ab63fa",
          "dash": "solid",
          "width": 2
         },
         "marker": {
          "size": 4,
          "symbol": "circle"
         },
         "mode": "lines+markers",
         "name": "Middle East and North Africa (WB)",
         "orientation": "v",
         "showlegend": true,
         "type": "scatter",
         "x": {
          "bdata": "xgfHB8gHyQfKB8sHzAfNB84HzwfQB9EH0gfTB9QH1QfWB9cH2AfZB9oH2wfcB90H3gffB+AH4QfiB+MH5AflB+YH5wc=",
          "dtype": "i2"
         },
         "xaxis": "x",
         "y": {
          "bdata": "TXyU3m76YD/+hs0jJnhwP4QFq7731nc/KvoOQX/ogD9BGWn9u6uLP6wYMkckRKA/W49GLs3ntT+2CJRmVuPNP7uPipwR598/S+TlXbMk7j9WPaqrTIL7P0D8/PfglQBA9k1QeSoGDkByCAvd23MUQEJ8YMd/0SBAmpmZmZmZI0CamZmZmZknQDMzMzMzMy5AzczMzMzMMkAzMzMzM7M1QGZmZmZm5jhAzczMzMzMO0AzMzMzMzM/QJqZmZmZmUFAMzMzMzPzQ0DNzMzMzAxGQJqZmZmZGUhAZmZmZmZmS0DNzMzMzAxNQDMzMzMzs09AMzMzMzNzUUBmZmZmZiZSQAAAAAAA4FJAzczMzMxsU0A=",
          "dtype": "f8"
         },
         "yaxis": "y"
        },
        {
         "hovertemplate": "Entity=North America (WB)<br>Year=%{x}<br>Internet=%{y}<extra></extra>",
         "legendgroup": "North America (WB)",
         "line": {
          "color": "#FFA15A",
          "dash": "solid",
          "width": 2
         },
         "marker": {
          "size": 4,
          "symbol": "circle"
         },
         "mode": "lines+markers",
         "name": "North America (WB)",
         "orientation": "v",
         "showlegend": true,
         "type": "scatter",
         "x": {
          "bdata": "xgfHB8gHyQfKB8sHzAfNB84HzwfQB9EH0gfTB9QH1QfWB9cH2AfZB9oH2wfcB90H3gffB+AH4QfiB+MH5AflB+YH5wc=",
          "dtype": "i2"
         },
         "xaxis": "x",
         "y": {
          "bdata": "IS0hYRC/5z/5JvLJL6jxPykaEMb0Sfo/esybHm9NAUBA2v8Aa3USQHxkc9U8dyFAPwCpTZzsLkCFlnX/WPg0QJxrmKHxlD1AW8064/vwQUA8TtGRXPJFQHrCEg8oF0lAvwrw3eaHTUBK0cq9wPhOQKDgYkUNOFBAMzMzMzMTUUAzMzMzM1NRQDMzMzMzs1JAMzMzMzOTUkCamZmZmflRQAAAAAAAIFJAAAAAAADAUUAAAAAAAOBSQDMzMzMzM1JAmpmZmZmZUkBmZmZmZgZTQGZmZmZmhlVAMzMzMzPzVUBmZmZmZkZWQM3MzMzMbFZAZmZmZmYGWECamZmZmRlYQDMzMzMzM1hAMzMzMzNTWEA=",
          "dtype": "f8"
         },
         "yaxis": "y"
        },
        {
         "hovertemplate": "Entity=South Asia (WB)<br>Year=%{x}<br>Internet=%{y}<extra></extra>",
         "legendgroup": "South Asia (WB)",
         "line": {
          "color": "#19d3f3",
          "dash": "solid",
          "width": 2
         },
         "marker": {
          "size": 4,
          "symbol": "circle"
         },
         "mode": "lines+markers",
         "name": "South Asia (WB)",
         "orientation": "v",
         "showlegend": true,
         "type": "scatter",
         "x": {
          "bdata": "xgfHB8gHyQfKB8sHzAfNB84HzwfQB9EH0gfTB9QH1QfWB9cH2AfZB9oH2wfcB90H3gffB+AH4QfiB+MH5AflBw==",
          "dtype": "i2"
         },
         "xaxis": "x",
         "y": {
          "bdata": "AAAAAAAAAAAAAAAAAAAAAEwi4wCENRY/Fn7AqW66JT+3ZKk6CuVLP1KyiKDrdJQ/4lOJfcXEpD91dcwbVb2uP1Qq8jUV870/DJ2uWfTvzD8yzvgh40/eP6UUdHtJY+U/ZVr2f2mM9z9NbJlngOb9P3aTc73IvwFANlCF5AmpBEAHlPL/TyoIQAeaz7nbBRBAxpOTP866EUAKdNzfj5EUQCvZsRGIpxxApDUGnRBqIkAkRWRYxSskQF9gVijSlSZAGCe+2lGkKUBhpu1fWWEsQIpW7gVmMTBAG2SSkbMQMkCXqN4a2C40QNS7eD9u9ztAzGH3HcOHQ0BjuDoA4mxFQA==",
          "dtype": "f8"
         },
         "yaxis": "y"
        },
        {
         "hovertemplate": "Entity=Sub-Saharan Africa (WB)<br>Year=%{x}<br>Internet=%{y}<extra></extra>",
         "legendgroup": "Sub-Saharan Africa (WB)",
         "line": {
          "color": "#FF6692",
          "dash": "solid",
          "width": 2
         },
         "marker": {
          "size": 4,
          "symbol": "circle"
         },
         "mode": "lines+markers",
         "name": "Sub-Saharan Africa (WB)",
         "orientation": "v",
         "showlegend": true,
         "type": "scatter",
         "x": {
          "bdata": "xgfHB8gHyQfKB8sHzAfNB84HzwfQB9EH0gfTB9QH1QfWB9cH2AfZB9oH2wfcB90H3gffB+AH4QfiB+MH5AflB+YH5wc=",
          "dtype": "i2"
         },
         "xaxis": "x",
         "y": {
          "bdata": "AAAAAAAAAACWwUEQWu5QP2oBhlcloGg/pOfogSfegT+fEc2Fj12TP+uvkQP6bao/BByEsWyDsj9hFTW5lErBP/UQbOA3U88/fJR0QTvv1z+fPZepSXDgP9R8OsN53eQ/CTyLOWOz6j++q9Si9LvxP+yEPCdi1vc/AAAAAAAAAEAAAAAAAAAEQGZmZmZmZgpAZmZmZmZmDkCamZmZmZkRQGZmZmZmZhhAZmZmZmZmHkBmZmZmZmYiQDMzMzMzMyZAZmZmZmZmKkAAAAAAAAAvQGZmZmZmZjFAMzMzMzOzM0AzMzMzMzM2QM3MzMzMTDlAmpmZmZmZPEBmZmZmZmY/QM3MzMzMzEBAmpmZmZlZQkA=",
          "dtype": "f8"
         },
         "yaxis": "y"
        },
        {
         "hovertemplate": "Entity=World<br>Year=%{x}<br>Internet=%{y}<extra></extra>",
         "legendgroup": "World",
         "line": {
          "color": "#B6E880",
          "dash": "solid",
          "width": 2
         },
         "marker": {
          "size": 4,
          "symbol": "circle"
         },
         "mode": "lines+markers",
         "name": "World",
         "orientation": "v",
         "showlegend": true,
         "type": "scatter",
         "x": {
          "bdata": "xgfHB8gHyQfKB8sHzAfNB84HzwfQB9EH0gfTB9QH1QfWB9cH2AfZB9oH2wfcB90H3gffB+AH4QfiB+MH5AflB+YH5wc=",
          "dtype": "i2"
         },
         "xaxis": "x",
         "y": {
          "bdata": "0DXv34z/qD/s9Afz7Cy0P10+J/caBsA/7cku3rDpxj96ec+7kBLXP2weyd3O2+U/AiQ/h5459T83GVWGcVcAQBja7z/oHwlApzaCnheIEkAUzm4tk+EaQIJxcOmYCyBAdelfksr0JEAKhQg4hFIoQFWEm4wqEyxAMzMzMzMzL0DNzMzMzEwxQM3MzMzMTDRAzczMzMzMNkBmZmZmZmY5QAAAAAAAgDxAAAAAAAAAP0AAAAAAAMBAQDMzMzMzs0FAAAAAAADAQkAzMzMzM/NDQDMzMzMzc0VAMzMzMzOzRkDNzMzMzExIQJqZmZmZmUpAZmZmZmamTUCamZmZmRlPQJqZmZmZGVBAmpmZmZnZUEA=",
          "dtype": "f8"
         },
         "yaxis": "y"
        }
       ],
       "layout": {
        "legend": {
         "title": {
          "text": "Entity"
         },
         "tracegroupgap": 0
        },
        "plot_bgcolor": "white",
        "template": {
         "data": {
          "bar": [
           {
            "error_x": {
             "color": "#2a3f5f"
            },
            "error_y": {
             "color": "#2a3f5f"
            },
            "marker": {
             "line": {
              "color": "#E5ECF6",
              "width": 0.5
             },
             "pattern": {
              "fillmode": "overlay",
              "size": 10,
              "solidity": 0.2
             }
            },
            "type": "bar"
           }
          ],
          "barpolar": [
           {
            "marker": {
             "line": {
              "color": "#E5ECF6",
              "width": 0.5
             },
             "pattern": {
              "fillmode": "overlay",
              "size": 10,
              "solidity": 0.2
             }
            },
            "type": "barpolar"
           }
          ],
          "carpet": [
           {
            "aaxis": {
             "endlinecolor": "#2a3f5f",
             "gridcolor": "white",
             "linecolor": "white",
             "minorgridcolor": "white",
             "startlinecolor": "#2a3f5f"
            },
            "baxis": {
             "endlinecolor": "#2a3f5f",
             "gridcolor": "white",
             "linecolor": "white",
             "minorgridcolor": "white",
             "startlinecolor": "#2a3f5f"
            },
            "type": "carpet"
           }
          ],
          "choropleth": [
           {
            "colorbar": {
             "outlinewidth": 0,
             "ticks": ""
            },
            "type": "choropleth"
           }
          ],
          "contour": [
           {
            "colorbar": {
             "outlinewidth": 0,
             "ticks": ""
            },
            "colorscale": [
             [
              0,
              "#0d0887"
             ],
             [
              0.1111111111111111,
              "#46039f"
             ],
             [
              0.2222222222222222,
              "#7201a8"
             ],
             [
              0.3333333333333333,
              "#9c179e"
             ],
             [
              0.4444444444444444,
              "#bd3786"
             ],
             [
              0.5555555555555556,
              "#d8576b"
             ],
             [
              0.6666666666666666,
              "#ed7953"
             ],
             [
              0.7777777777777778,
              "#fb9f3a"
             ],
             [
              0.8888888888888888,
              "#fdca26"
             ],
             [
              1,
              "#f0f921"
             ]
            ],
            "type": "contour"
           }
          ],
          "contourcarpet": [
           {
            "colorbar": {
             "outlinewidth": 0,
             "ticks": ""
            },
            "type": "contourcarpet"
           }
          ],
          "heatmap": [
           {
            "colorbar": {
             "outlinewidth": 0,
             "ticks": ""
            },
            "colorscale": [
             [
              0,
              "#0d0887"
             ],
             [
              0.1111111111111111,
              "#46039f"
             ],
             [
              0.2222222222222222,
              "#7201a8"
             ],
             [
              0.3333333333333333,
              "#9c179e"
             ],
             [
              0.4444444444444444,
              "#bd3786"
             ],
             [
              0.5555555555555556,
              "#d8576b"
             ],
             [
              0.6666666666666666,
              "#ed7953"
             ],
             [
              0.7777777777777778,
              "#fb9f3a"
             ],
             [
              0.8888888888888888,
              "#fdca26"
             ],
             [
              1,
              "#f0f921"
             ]
            ],
            "type": "heatmap"
           }
          ],
          "histogram": [
           {
            "marker": {
             "pattern": {
              "fillmode": "overlay",
              "size": 10,
              "solidity": 0.2
             }
            },
            "type": "histogram"
           }
          ],
          "histogram2d": [
           {
            "colorbar": {
             "outlinewidth": 0,
             "ticks": ""
            },
            "colorscale": [
             [
              0,
              "#0d0887"
             ],
             [
              0.1111111111111111,
              "#46039f"
             ],
             [
              0.2222222222222222,
              "#7201a8"
             ],
             [
              0.3333333333333333,
              "#9c179e"
             ],
             [
              0.4444444444444444,
              "#bd3786"
             ],
             [
              0.5555555555555556,
              "#d8576b"
             ],
             [
              0.6666666666666666,
              "#ed7953"
             ],
             [
              0.7777777777777778,
              "#fb9f3a"
             ],
             [
              0.8888888888888888,
              "#fdca26"
             ],
             [
              1,
              "#f0f921"
             ]
            ],
            "type": "histogram2d"
           }
          ],
          "histogram2dcontour": [
           {
            "colorbar": {
             "outlinewidth": 0,
             "ticks": ""
            },
            "colorscale": [
             [
              0,
              "#0d0887"
             ],
             [
              0.1111111111111111,
              "#46039f"
             ],
             [
              0.2222222222222222,
              "#7201a8"
             ],
             [
              0.3333333333333333,
              "#9c179e"
             ],
             [
              0.4444444444444444,
              "#bd3786"
             ],
             [
              0.5555555555555556,
              "#d8576b"
             ],
             [
              0.6666666666666666,
              "#ed7953"
             ],
             [
              0.7777777777777778,
              "#fb9f3a"
             ],
             [
              0.8888888888888888,
              "#fdca26"
             ],
             [
              1,
              "#f0f921"
             ]
            ],
            "type": "histogram2dcontour"
           }
          ],
          "mesh3d": [
           {
            "colorbar": {
             "outlinewidth": 0,
             "ticks": ""
            },
            "type": "mesh3d"
           }
          ],
          "parcoords": [
           {
            "line": {
             "colorbar": {
              "outlinewidth": 0,
              "ticks": ""
             }
            },
            "type": "parcoords"
           }
          ],
          "pie": [
           {
            "automargin": true,
            "type": "pie"
           }
          ],
          "scatter": [
           {
            "fillpattern": {
             "fillmode": "overlay",
             "size": 10,
             "solidity": 0.2
            },
            "type": "scatter"
           }
          ],
          "scatter3d": [
           {
            "line": {
             "colorbar": {
              "outlinewidth": 0,
              "ticks": ""
             }
            },
            "marker": {
             "colorbar": {
              "outlinewidth": 0,
              "ticks": ""
             }
            },
            "type": "scatter3d"
           }
          ],
          "scattercarpet": [
           {
            "marker": {
             "colorbar": {
              "outlinewidth": 0,
              "ticks": ""
             }
            },
            "type": "scattercarpet"
           }
          ],
          "scattergeo": [
           {
            "marker": {
             "colorbar": {
              "outlinewidth": 0,
              "ticks": ""
             }
            },
            "type": "scattergeo"
           }
          ],
          "scattergl": [
           {
            "marker": {
             "colorbar": {
              "outlinewidth": 0,
              "ticks": ""
             }
            },
            "type": "scattergl"
           }
          ],
          "scattermap": [
           {
            "marker": {
             "colorbar": {
              "outlinewidth": 0,
              "ticks": ""
             }
            },
            "type": "scattermap"
           }
          ],
          "scattermapbox": [
           {
            "marker": {
             "colorbar": {
              "outlinewidth": 0,
              "ticks": ""
             }
            },
            "type": "scattermapbox"
           }
          ],
          "scatterpolar": [
           {
            "marker": {
             "colorbar": {
              "outlinewidth": 0,
              "ticks": ""
             }
            },
            "type": "scatterpolar"
           }
          ],
          "scatterpolargl": [
           {
            "marker": {
             "colorbar": {
              "outlinewidth": 0,
              "ticks": ""
             }
            },
            "type": "scatterpolargl"
           }
          ],
          "scatterternary": [
           {
            "marker": {
             "colorbar": {
              "outlinewidth": 0,
              "ticks": ""
             }
            },
            "type": "scatterternary"
           }
          ],
          "surface": [
           {
            "colorbar": {
             "outlinewidth": 0,
             "ticks": ""
            },
            "colorscale": [
             [
              0,
              "#0d0887"
             ],
             [
              0.1111111111111111,
              "#46039f"
             ],
             [
              0.2222222222222222,
              "#7201a8"
             ],
             [
              0.3333333333333333,
              "#9c179e"
             ],
             [
              0.4444444444444444,
              "#bd3786"
             ],
             [
              0.5555555555555556,
              "#d8576b"
             ],
             [
              0.6666666666666666,
              "#ed7953"
             ],
             [
              0.7777777777777778,
              "#fb9f3a"
             ],
             [
              0.8888888888888888,
              "#fdca26"
             ],
             [
              1,
              "#f0f921"
             ]
            ],
            "type": "surface"
           }
          ],
          "table": [
           {
            "cells": {
             "fill": {
              "color": "#EBF0F8"
             },
             "line": {
              "color": "white"
             }
            },
            "header": {
             "fill": {
              "color": "#C8D4E3"
             },
             "line": {
              "color": "white"
             }
            },
            "type": "table"
           }
          ]
         },
         "layout": {
          "annotationdefaults": {
           "arrowcolor": "#2a3f5f",
           "arrowhead": 0,
           "arrowwidth": 1
          },
          "autotypenumbers": "strict",
          "coloraxis": {
           "colorbar": {
            "outlinewidth": 0,
            "ticks": ""
           }
          },
          "colorscale": {
           "diverging": [
            [
             0,
             "#8e0152"
            ],
            [
             0.1,
             "#c51b7d"
            ],
            [
             0.2,
             "#de77ae"
            ],
            [
             0.3,
             "#f1b6da"
            ],
            [
             0.4,
             "#fde0ef"
            ],
            [
             0.5,
             "#f7f7f7"
            ],
            [
             0.6,
             "#e6f5d0"
            ],
            [
             0.7,
             "#b8e186"
            ],
            [
             0.8,
             "#7fbc41"
            ],
            [
             0.9,
             "#4d9221"
            ],
            [
             1,
             "#276419"
            ]
           ],
           "sequential": [
            [
             0,
             "#0d0887"
            ],
            [
             0.1111111111111111,
             "#46039f"
            ],
            [
             0.2222222222222222,
             "#7201a8"
            ],
            [
             0.3333333333333333,
             "#9c179e"
            ],
            [
             0.4444444444444444,
             "#bd3786"
            ],
            [
             0.5555555555555556,
             "#d8576b"
            ],
            [
             0.6666666666666666,
             "#ed7953"
            ],
            [
             0.7777777777777778,
             "#fb9f3a"
            ],
            [
             0.8888888888888888,
             "#fdca26"
            ],
            [
             1,
             "#f0f921"
            ]
           ],
           "sequentialminus": [
            [
             0,
             "#0d0887"
            ],
            [
             0.1111111111111111,
             "#46039f"
            ],
            [
             0.2222222222222222,
             "#7201a8"
            ],
            [
             0.3333333333333333,
             "#9c179e"
            ],
            [
             0.4444444444444444,
             "#bd3786"
            ],
            [
             0.5555555555555556,
             "#d8576b"
            ],
            [
             0.6666666666666666,
             "#ed7953"
            ],
            [
             0.7777777777777778,
             "#fb9f3a"
            ],
            [
             0.8888888888888888,
             "#fdca26"
            ],
            [
             1,
             "#f0f921"
            ]
           ]
          },
          "colorway": [
           "#636efa",
           "#EF553B",
           "#00cc96",
           "#ab63fa",
           "#FFA15A",
           "#19d3f3",
           "#FF6692",
           "#B6E880",
           "#FF97FF",
           "#FECB52"
          ],
          "font": {
           "color": "#2a3f5f"
          },
          "geo": {
           "bgcolor": "white",
           "lakecolor": "white",
           "landcolor": "#E5ECF6",
           "showlakes": true,
           "showland": true,
           "subunitcolor": "white"
          },
          "hoverlabel": {
           "align": "left"
          },
          "hovermode": "closest",
          "mapbox": {
           "style": "light"
          },
          "paper_bgcolor": "white",
          "plot_bgcolor": "#E5ECF6",
          "polar": {
           "angularaxis": {
            "gridcolor": "white",
            "linecolor": "white",
            "ticks": ""
           },
           "bgcolor": "#E5ECF6",
           "radialaxis": {
            "gridcolor": "white",
            "linecolor": "white",
            "ticks": ""
           }
          },
          "scene": {
           "xaxis": {
            "backgroundcolor": "#E5ECF6",
            "gridcolor": "white",
            "gridwidth": 2,
            "linecolor": "white",
            "showbackground": true,
            "ticks": "",
            "zerolinecolor": "white"
           },
           "yaxis": {
            "backgroundcolor": "#E5ECF6",
            "gridcolor": "white",
            "gridwidth": 2,
            "linecolor": "white",
            "showbackground": true,
            "ticks": "",
            "zerolinecolor": "white"
           },
           "zaxis": {
            "backgroundcolor": "#E5ECF6",
            "gridcolor": "white",
            "gridwidth": 2,
            "linecolor": "white",
            "showbackground": true,
            "ticks": "",
            "zerolinecolor": "white"
           }
          },
          "shapedefaults": {
           "line": {
            "color": "#2a3f5f"
           }
          },
          "ternary": {
           "aaxis": {
            "gridcolor": "white",
            "linecolor": "white",
            "ticks": ""
           },
           "baxis": {
            "gridcolor": "white",
            "linecolor": "white",
            "ticks": ""
           },
           "bgcolor": "#E5ECF6",
           "caxis": {
            "gridcolor": "white",
            "linecolor": "white",
            "ticks": ""
           }
          },
          "title": {
           "x": 0.05
          },
          "xaxis": {
           "automargin": true,
           "gridcolor": "white",
           "linecolor": "white",
           "ticks": "",
           "title": {
            "standoff": 15
           },
           "zerolinecolor": "white",
           "zerolinewidth": 2
          },
          "yaxis": {
           "automargin": true,
           "gridcolor": "white",
           "linecolor": "white",
           "ticks": "",
           "title": {
            "standoff": 15
           },
           "zerolinecolor": "white",
           "zerolinewidth": 2
          }
         }
        },
        "title": {
         "text": "Share of the population using the Internet"
        },
        "xaxis": {
         "anchor": "y",
         "domain": [
          0,
          1
         ],
         "title": {
          "text": "Year"
         }
        },
        "yaxis": {
         "anchor": "x",
         "domain": [
          0,
          1
         ],
         "title": {
          "text": "Internet"
         }
        }
       }
      }
     },
     "metadata": {},
     "output_type": "display_data"
    }
   ],
   "source": [
    "fig = px.line(continents_time, x=\"Year\", y=\"Internet\", title= \"Share of the population using the Internet\", markers=True, color=\"Entity\")\n",
    "\n",
    "fig.update_traces(line=dict(width= 2), marker=dict(symbol=\"circle\", size=4))\n",
    "fig.update_layout(plot_bgcolor=\"white\")\n",
    "\n",
    "fig.show()"
   ]
  },
  {
   "cell_type": "code",
   "execution_count": 9,
   "id": "db950b52",
   "metadata": {},
   "outputs": [],
   "source": [
    "tickvals = list(range(1990,2020,5))\n",
    "tickvals.append(2023)"
   ]
  },
  {
   "cell_type": "code",
   "execution_count": 10,
   "id": "b524f1ea",
   "metadata": {},
   "outputs": [
    {
     "data": {
      "application/vnd.plotly.v1+json": {
       "config": {
        "plotlyServerURL": "https://plot.ly"
       },
       "data": [
        {
         "hovertemplate": "Entity=East Asia and Pacific (WB)<br>Year=%{x}<br>Internet=%{y}<extra></extra>",
         "legendgroup": "East Asia and Pacific (WB)",
         "line": {
          "color": "#526998",
          "dash": "solid",
          "width": 2
         },
         "marker": {
          "size": 5,
          "symbol": "circle"
         },
         "mode": "lines+markers",
         "name": "East Asia and Pacific (WB)",
         "orientation": "v",
         "showlegend": true,
         "type": "scatter",
         "x": {
          "bdata": "xgfHB8gHyQfKB8sHzAfNB84HzwfQB9EH0gfTB9QH1QfWB9cH2AfZB9oH2wfcB90H3gffB+AH4QfiB+MH5AflB+YH5wc=",
          "dtype": "i2"
         },
         "xaxis": "x",
         "y": {
          "bdata": "MrV//i8Zfj8YOxQX3QCPP01yjb2BQ6A/JO1nLdwksD8qDxzh/u27P0+8NXaq+Mg/jmJvGLsz3j/aCYp6HIHxPyhtYGF3cP4/ymKsgIyKC0BGfZI7bIIWQIVgVb38Lh1A9KPhlLkRIkBp4h3gSTclQDscXaW7SylAZmZmZmZmLUAzMzMzM7MwQM3MzMzMzDRAzczMzMxMOUAAAAAAAIA9QJqZmZmZGUFAZmZmZmamQkAzMzMzMzNEQGZmZmZmpkVAAAAAAADARkBmZmZmZiZIQJqZmZmZ2UlAZmZmZmbmSkAzMzMzM3NNQGZmZmZm5k9AAAAAAABAUUAzMzMzMzNSQGZmZmZm5lJAAAAAAADAU0A=",
          "dtype": "f8"
         },
         "yaxis": "y"
        },
        {
         "hovertemplate": "Entity=Europe and Central Asia (WB)<br>Year=%{x}<br>Internet=%{y}<extra></extra>",
         "legendgroup": "Europe and Central Asia (WB)",
         "line": {
          "color": "#a33e1d",
          "dash": "solid",
          "width": 2
         },
         "marker": {
          "size": 5,
          "symbol": "circle"
         },
         "mode": "lines+markers",
         "name": "Europe and Central Asia (WB)",
         "orientation": "v",
         "showlegend": true,
         "type": "scatter",
         "x": {
          "bdata": "xgfHB8gHyQfKB8sHzAfNB84HzwfQB9EH0gfTB9QH1QfWB9cH2AfZB9oH2wfcB90H3gffB+AH4QfiB+MH5AflB+YH5wc=",
          "dtype": "i2"
         },
         "xaxis": "x",
         "y": {
          "bdata": "uZQMY3+XqD+Elvk3/RO6PycyMWX5Hcc/KyvykM7l0T/N6h1uh8bgP4pt9xfmqe8/ph6z/XVY/T8AcsKE0bwKQIURVr7CpRVAavgW1o1nIkDZJD/iV0QqQA05tp4hXDBA+5KNB1v4NkB3acNhaUA8QCv2l92TH0BAmpmZmZlZQUAAAAAAAABDQM3MzMzMzEVAzczMzMwMSECamZmZmVlKQAAAAAAAgExAmpmZmZkZTkAzMzMzM/NPQDMzMzMzk1BAMzMzMzMzUUAzMzMzM3NRQDMzMzMzE1JAmpmZmZmZUkBmZmZmZoZTQDMzMzMzE1RAmpmZmZnZVEAAAAAAAIBVQJqZmZmZ+VVAZmZmZmaGVkA=",
          "dtype": "f8"
         },
         "yaxis": "y"
        },
        {
         "hovertemplate": "Entity=Latin America and Caribbean (WB)<br>Year=%{x}<br>Internet=%{y}<extra></extra>",
         "legendgroup": "Latin America and Caribbean (WB)",
         "line": {
          "color": "#926f41",
          "dash": "solid",
          "width": 2
         },
         "marker": {
          "size": 5,
          "symbol": "circle"
         },
         "mode": "lines+markers",
         "name": "Latin America and Caribbean (WB)",
         "orientation": "v",
         "showlegend": true,
         "type": "scatter",
         "x": {
          "bdata": "xgfHB8gHyQfKB8sHzAfNB84HzwfQB9EH0gfTB9QH1QfWB9cH2AfZB9oH2wfcB90H3gffB+AH4QfiB+MH5AflB+YH5wc=",
          "dtype": "i2"
         },
         "xaxis": "x",
         "y": {
          "bdata": "AAAAAAAAAAAPh+rDQR1iPzd7hsETsoM/vqFTBPaglT9ccoviHSymP3D8eej1Brs/JQgVJM/Y0z//D2bJ0n3jPz8DRYcbq/M/UC4ypgVkAEA23JH7ZxcPQH5VLlT+hRZAelbSim+4IUDyBwPPvYcmQPJfIAiQySxAmpmZmZmZMEAzMzMzM7M0QDMzMzMzszdAAAAAAACAOkAAAAAAAAA/QJqZmZmZWUFAZmZmZmamQ0AAAAAAAIBFQM3MzMzMDEdAmpmZmZlZSEBmZmZmZiZLQAAAAAAAwExAZmZmZmYmT0AzMzMzM1NQQAAAAAAAAFFAZmZmZmaGUkAAAAAAAABTQGZmZmZmZlNAAAAAAABAVEA=",
          "dtype": "f8"
         },
         "yaxis": "y"
        },
        {
         "hovertemplate": "Entity=Middle East and North Africa (WB)<br>Year=%{x}<br>Internet=%{y}<extra></extra>",
         "legendgroup": "Middle East and North Africa (WB)",
         "line": {
          "color": "#578e76",
          "dash": "solid",
          "width": 2
         },
         "marker": {
          "size": 5,
          "symbol": "circle"
         },
         "mode": "lines+markers",
         "name": "Middle East and North Africa (WB)",
         "orientation": "v",
         "showlegend": true,
         "type": "scatter",
         "x": {
          "bdata": "xgfHB8gHyQfKB8sHzAfNB84HzwfQB9EH0gfTB9QH1QfWB9cH2AfZB9oH2wfcB90H3gffB+AH4QfiB+MH5AflB+YH5wc=",
          "dtype": "i2"
         },
         "xaxis": "x",
         "y": {
          "bdata": "TXyU3m76YD/+hs0jJnhwP4QFq7731nc/KvoOQX/ogD9BGWn9u6uLP6wYMkckRKA/W49GLs3ntT+2CJRmVuPNP7uPipwR598/S+TlXbMk7j9WPaqrTIL7P0D8/PfglQBA9k1QeSoGDkByCAvd23MUQEJ8YMd/0SBAmpmZmZmZI0CamZmZmZknQDMzMzMzMy5AzczMzMzMMkAzMzMzM7M1QGZmZmZm5jhAzczMzMzMO0AzMzMzMzM/QJqZmZmZmUFAMzMzMzPzQ0DNzMzMzAxGQJqZmZmZGUhAZmZmZmZmS0DNzMzMzAxNQDMzMzMzs09AMzMzMzNzUUBmZmZmZiZSQAAAAAAA4FJAzczMzMxsU0A=",
          "dtype": "f8"
         },
         "yaxis": "y"
        },
        {
         "hovertemplate": "Entity=North America (WB)<br>Year=%{x}<br>Internet=%{y}<extra></extra>",
         "legendgroup": "North America (WB)",
         "line": {
          "color": "#68428d",
          "dash": "solid",
          "width": 2
         },
         "marker": {
          "size": 5,
          "symbol": "circle"
         },
         "mode": "lines+markers",
         "name": "North America (WB)",
         "orientation": "v",
         "showlegend": true,
         "type": "scatter",
         "x": {
          "bdata": "xgfHB8gHyQfKB8sHzAfNB84HzwfQB9EH0gfTB9QH1QfWB9cH2AfZB9oH2wfcB90H3gffB+AH4QfiB+MH5AflB+YH5wc=",
          "dtype": "i2"
         },
         "xaxis": "x",
         "y": {
          "bdata": "IS0hYRC/5z/5JvLJL6jxPykaEMb0Sfo/esybHm9NAUBA2v8Aa3USQHxkc9U8dyFAPwCpTZzsLkCFlnX/WPg0QJxrmKHxlD1AW8064/vwQUA8TtGRXPJFQHrCEg8oF0lAvwrw3eaHTUBK0cq9wPhOQKDgYkUNOFBAMzMzMzMTUUAzMzMzM1NRQDMzMzMzs1JAMzMzMzOTUkCamZmZmflRQAAAAAAAIFJAAAAAAADAUUAAAAAAAOBSQDMzMzMzM1JAmpmZmZmZUkBmZmZmZgZTQGZmZmZmhlVAMzMzMzPzVUBmZmZmZkZWQM3MzMzMbFZAZmZmZmYGWECamZmZmRlYQDMzMzMzM1hAMzMzMzNTWEA=",
          "dtype": "f8"
         },
         "yaxis": "y"
        },
        {
         "hovertemplate": "Entity=South Asia (WB)<br>Year=%{x}<br>Internet=%{y}<extra></extra>",
         "legendgroup": "South Asia (WB)",
         "line": {
          "color": "#7b353a",
          "dash": "solid",
          "width": 2
         },
         "marker": {
          "size": 5,
          "symbol": "circle"
         },
         "mode": "lines+markers",
         "name": "South Asia (WB)",
         "orientation": "v",
         "showlegend": true,
         "type": "scatter",
         "x": {
          "bdata": "xgfHB8gHyQfKB8sHzAfNB84HzwfQB9EH0gfTB9QH1QfWB9cH2AfZB9oH2wfcB90H3gffB+AH4QfiB+MH5AflBw==",
          "dtype": "i2"
         },
         "xaxis": "x",
         "y": {
          "bdata": "AAAAAAAAAAAAAAAAAAAAAEwi4wCENRY/Fn7AqW66JT+3ZKk6CuVLP1KyiKDrdJQ/4lOJfcXEpD91dcwbVb2uP1Qq8jUV870/DJ2uWfTvzD8yzvgh40/eP6UUdHtJY+U/ZVr2f2mM9z9NbJlngOb9P3aTc73IvwFANlCF5AmpBEAHlPL/TyoIQAeaz7nbBRBAxpOTP866EUAKdNzfj5EUQCvZsRGIpxxApDUGnRBqIkAkRWRYxSskQF9gVijSlSZAGCe+2lGkKUBhpu1fWWEsQIpW7gVmMTBAG2SSkbMQMkCXqN4a2C40QNS7eD9u9ztAzGH3HcOHQ0BjuDoA4mxFQA==",
          "dtype": "f8"
         },
         "yaxis": "y"
        },
        {
         "hovertemplate": "Entity=Sub-Saharan Africa (WB)<br>Year=%{x}<br>Internet=%{y}<extra></extra>",
         "legendgroup": "Sub-Saharan Africa (WB)",
         "line": {
          "color": "#0d2958",
          "dash": "solid",
          "width": 2
         },
         "marker": {
          "size": 5,
          "symbol": "circle"
         },
         "mode": "lines+markers",
         "name": "Sub-Saharan Africa (WB)",
         "orientation": "v",
         "showlegend": true,
         "type": "scatter",
         "x": {
          "bdata": "xgfHB8gHyQfKB8sHzAfNB84HzwfQB9EH0gfTB9QH1QfWB9cH2AfZB9oH2wfcB90H3gffB+AH4QfiB+MH5AflB+YH5wc=",
          "dtype": "i2"
         },
         "xaxis": "x",
         "y": {
          "bdata": "AAAAAAAAAACWwUEQWu5QP2oBhlcloGg/pOfogSfegT+fEc2Fj12TP+uvkQP6bao/BByEsWyDsj9hFTW5lErBP/UQbOA3U88/fJR0QTvv1z+fPZepSXDgP9R8OsN53eQ/CTyLOWOz6j++q9Si9LvxP+yEPCdi1vc/AAAAAAAAAEAAAAAAAAAEQGZmZmZmZgpAZmZmZmZmDkCamZmZmZkRQGZmZmZmZhhAZmZmZmZmHkBmZmZmZmYiQDMzMzMzMyZAZmZmZmZmKkAAAAAAAAAvQGZmZmZmZjFAMzMzMzOzM0AzMzMzMzM2QM3MzMzMTDlAmpmZmZmZPEBmZmZmZmY/QM3MzMzMzEBAmpmZmZlZQkA=",
          "dtype": "f8"
         },
         "yaxis": "y"
        },
        {
         "hovertemplate": "Entity=World<br>Year=%{x}<br>Internet=%{y}<extra></extra>",
         "legendgroup": "World",
         "line": {
          "color": "#985998",
          "dash": "solid",
          "width": 2
         },
         "marker": {
          "size": 5,
          "symbol": "circle"
         },
         "mode": "lines+markers",
         "name": "World",
         "orientation": "v",
         "showlegend": true,
         "type": "scatter",
         "x": {
          "bdata": "xgfHB8gHyQfKB8sHzAfNB84HzwfQB9EH0gfTB9QH1QfWB9cH2AfZB9oH2wfcB90H3gffB+AH4QfiB+MH5AflB+YH5wc=",
          "dtype": "i2"
         },
         "xaxis": "x",
         "y": {
          "bdata": "0DXv34z/qD/s9Afz7Cy0P10+J/caBsA/7cku3rDpxj96ec+7kBLXP2weyd3O2+U/AiQ/h5459T83GVWGcVcAQBja7z/oHwlApzaCnheIEkAUzm4tk+EaQIJxcOmYCyBAdelfksr0JEAKhQg4hFIoQFWEm4wqEyxAMzMzMzMzL0DNzMzMzEwxQM3MzMzMTDRAzczMzMzMNkBmZmZmZmY5QAAAAAAAgDxAAAAAAAAAP0AAAAAAAMBAQDMzMzMzs0FAAAAAAADAQkAzMzMzM/NDQDMzMzMzc0VAMzMzMzOzRkDNzMzMzExIQJqZmZmZmUpAZmZmZmamTUCamZmZmRlPQJqZmZmZGVBAmpmZmZnZUEA=",
          "dtype": "f8"
         },
         "yaxis": "y"
        }
       ],
       "layout": {
        "annotations": [
         {
          "showarrow": false,
          "text": "<b> Data sourse: </b>International Telecommunication Union (via World Bank) (2025)",
          "x": -0.1,
          "xref": "paper",
          "y": -0.1,
          "yref": "paper"
         }
        ],
        "font": {
         "family": "Times New Roman",
         "size": 15
        },
        "height": 800,
        "legend": {
         "title": {
          "text": "Entity"
         },
         "tracegroupgap": 0,
         "x": 1.02,
         "y": 0.85
        },
        "plot_bgcolor": "white",
        "polar": {
         "angularaxis": {
          "showgrid": true
         }
        },
        "showlegend": true,
        "template": {
         "data": {
          "bar": [
           {
            "error_x": {
             "color": "#2a3f5f"
            },
            "error_y": {
             "color": "#2a3f5f"
            },
            "marker": {
             "line": {
              "color": "#E5ECF6",
              "width": 0.5
             },
             "pattern": {
              "fillmode": "overlay",
              "size": 10,
              "solidity": 0.2
             }
            },
            "type": "bar"
           }
          ],
          "barpolar": [
           {
            "marker": {
             "line": {
              "color": "#E5ECF6",
              "width": 0.5
             },
             "pattern": {
              "fillmode": "overlay",
              "size": 10,
              "solidity": 0.2
             }
            },
            "type": "barpolar"
           }
          ],
          "carpet": [
           {
            "aaxis": {
             "endlinecolor": "#2a3f5f",
             "gridcolor": "white",
             "linecolor": "white",
             "minorgridcolor": "white",
             "startlinecolor": "#2a3f5f"
            },
            "baxis": {
             "endlinecolor": "#2a3f5f",
             "gridcolor": "white",
             "linecolor": "white",
             "minorgridcolor": "white",
             "startlinecolor": "#2a3f5f"
            },
            "type": "carpet"
           }
          ],
          "choropleth": [
           {
            "colorbar": {
             "outlinewidth": 0,
             "ticks": ""
            },
            "type": "choropleth"
           }
          ],
          "contour": [
           {
            "colorbar": {
             "outlinewidth": 0,
             "ticks": ""
            },
            "colorscale": [
             [
              0,
              "#0d0887"
             ],
             [
              0.1111111111111111,
              "#46039f"
             ],
             [
              0.2222222222222222,
              "#7201a8"
             ],
             [
              0.3333333333333333,
              "#9c179e"
             ],
             [
              0.4444444444444444,
              "#bd3786"
             ],
             [
              0.5555555555555556,
              "#d8576b"
             ],
             [
              0.6666666666666666,
              "#ed7953"
             ],
             [
              0.7777777777777778,
              "#fb9f3a"
             ],
             [
              0.8888888888888888,
              "#fdca26"
             ],
             [
              1,
              "#f0f921"
             ]
            ],
            "type": "contour"
           }
          ],
          "contourcarpet": [
           {
            "colorbar": {
             "outlinewidth": 0,
             "ticks": ""
            },
            "type": "contourcarpet"
           }
          ],
          "heatmap": [
           {
            "colorbar": {
             "outlinewidth": 0,
             "ticks": ""
            },
            "colorscale": [
             [
              0,
              "#0d0887"
             ],
             [
              0.1111111111111111,
              "#46039f"
             ],
             [
              0.2222222222222222,
              "#7201a8"
             ],
             [
              0.3333333333333333,
              "#9c179e"
             ],
             [
              0.4444444444444444,
              "#bd3786"
             ],
             [
              0.5555555555555556,
              "#d8576b"
             ],
             [
              0.6666666666666666,
              "#ed7953"
             ],
             [
              0.7777777777777778,
              "#fb9f3a"
             ],
             [
              0.8888888888888888,
              "#fdca26"
             ],
             [
              1,
              "#f0f921"
             ]
            ],
            "type": "heatmap"
           }
          ],
          "histogram": [
           {
            "marker": {
             "pattern": {
              "fillmode": "overlay",
              "size": 10,
              "solidity": 0.2
             }
            },
            "type": "histogram"
           }
          ],
          "histogram2d": [
           {
            "colorbar": {
             "outlinewidth": 0,
             "ticks": ""
            },
            "colorscale": [
             [
              0,
              "#0d0887"
             ],
             [
              0.1111111111111111,
              "#46039f"
             ],
             [
              0.2222222222222222,
              "#7201a8"
             ],
             [
              0.3333333333333333,
              "#9c179e"
             ],
             [
              0.4444444444444444,
              "#bd3786"
             ],
             [
              0.5555555555555556,
              "#d8576b"
             ],
             [
              0.6666666666666666,
              "#ed7953"
             ],
             [
              0.7777777777777778,
              "#fb9f3a"
             ],
             [
              0.8888888888888888,
              "#fdca26"
             ],
             [
              1,
              "#f0f921"
             ]
            ],
            "type": "histogram2d"
           }
          ],
          "histogram2dcontour": [
           {
            "colorbar": {
             "outlinewidth": 0,
             "ticks": ""
            },
            "colorscale": [
             [
              0,
              "#0d0887"
             ],
             [
              0.1111111111111111,
              "#46039f"
             ],
             [
              0.2222222222222222,
              "#7201a8"
             ],
             [
              0.3333333333333333,
              "#9c179e"
             ],
             [
              0.4444444444444444,
              "#bd3786"
             ],
             [
              0.5555555555555556,
              "#d8576b"
             ],
             [
              0.6666666666666666,
              "#ed7953"
             ],
             [
              0.7777777777777778,
              "#fb9f3a"
             ],
             [
              0.8888888888888888,
              "#fdca26"
             ],
             [
              1,
              "#f0f921"
             ]
            ],
            "type": "histogram2dcontour"
           }
          ],
          "mesh3d": [
           {
            "colorbar": {
             "outlinewidth": 0,
             "ticks": ""
            },
            "type": "mesh3d"
           }
          ],
          "parcoords": [
           {
            "line": {
             "colorbar": {
              "outlinewidth": 0,
              "ticks": ""
             }
            },
            "type": "parcoords"
           }
          ],
          "pie": [
           {
            "automargin": true,
            "type": "pie"
           }
          ],
          "scatter": [
           {
            "fillpattern": {
             "fillmode": "overlay",
             "size": 10,
             "solidity": 0.2
            },
            "type": "scatter"
           }
          ],
          "scatter3d": [
           {
            "line": {
             "colorbar": {
              "outlinewidth": 0,
              "ticks": ""
             }
            },
            "marker": {
             "colorbar": {
              "outlinewidth": 0,
              "ticks": ""
             }
            },
            "type": "scatter3d"
           }
          ],
          "scattercarpet": [
           {
            "marker": {
             "colorbar": {
              "outlinewidth": 0,
              "ticks": ""
             }
            },
            "type": "scattercarpet"
           }
          ],
          "scattergeo": [
           {
            "marker": {
             "colorbar": {
              "outlinewidth": 0,
              "ticks": ""
             }
            },
            "type": "scattergeo"
           }
          ],
          "scattergl": [
           {
            "marker": {
             "colorbar": {
              "outlinewidth": 0,
              "ticks": ""
             }
            },
            "type": "scattergl"
           }
          ],
          "scattermap": [
           {
            "marker": {
             "colorbar": {
              "outlinewidth": 0,
              "ticks": ""
             }
            },
            "type": "scattermap"
           }
          ],
          "scattermapbox": [
           {
            "marker": {
             "colorbar": {
              "outlinewidth": 0,
              "ticks": ""
             }
            },
            "type": "scattermapbox"
           }
          ],
          "scatterpolar": [
           {
            "marker": {
             "colorbar": {
              "outlinewidth": 0,
              "ticks": ""
             }
            },
            "type": "scatterpolar"
           }
          ],
          "scatterpolargl": [
           {
            "marker": {
             "colorbar": {
              "outlinewidth": 0,
              "ticks": ""
             }
            },
            "type": "scatterpolargl"
           }
          ],
          "scatterternary": [
           {
            "marker": {
             "colorbar": {
              "outlinewidth": 0,
              "ticks": ""
             }
            },
            "type": "scatterternary"
           }
          ],
          "surface": [
           {
            "colorbar": {
             "outlinewidth": 0,
             "ticks": ""
            },
            "colorscale": [
             [
              0,
              "#0d0887"
             ],
             [
              0.1111111111111111,
              "#46039f"
             ],
             [
              0.2222222222222222,
              "#7201a8"
             ],
             [
              0.3333333333333333,
              "#9c179e"
             ],
             [
              0.4444444444444444,
              "#bd3786"
             ],
             [
              0.5555555555555556,
              "#d8576b"
             ],
             [
              0.6666666666666666,
              "#ed7953"
             ],
             [
              0.7777777777777778,
              "#fb9f3a"
             ],
             [
              0.8888888888888888,
              "#fdca26"
             ],
             [
              1,
              "#f0f921"
             ]
            ],
            "type": "surface"
           }
          ],
          "table": [
           {
            "cells": {
             "fill": {
              "color": "#EBF0F8"
             },
             "line": {
              "color": "white"
             }
            },
            "header": {
             "fill": {
              "color": "#C8D4E3"
             },
             "line": {
              "color": "white"
             }
            },
            "type": "table"
           }
          ]
         },
         "layout": {
          "annotationdefaults": {
           "arrowcolor": "#2a3f5f",
           "arrowhead": 0,
           "arrowwidth": 1
          },
          "autotypenumbers": "strict",
          "coloraxis": {
           "colorbar": {
            "outlinewidth": 0,
            "ticks": ""
           }
          },
          "colorscale": {
           "diverging": [
            [
             0,
             "#8e0152"
            ],
            [
             0.1,
             "#c51b7d"
            ],
            [
             0.2,
             "#de77ae"
            ],
            [
             0.3,
             "#f1b6da"
            ],
            [
             0.4,
             "#fde0ef"
            ],
            [
             0.5,
             "#f7f7f7"
            ],
            [
             0.6,
             "#e6f5d0"
            ],
            [
             0.7,
             "#b8e186"
            ],
            [
             0.8,
             "#7fbc41"
            ],
            [
             0.9,
             "#4d9221"
            ],
            [
             1,
             "#276419"
            ]
           ],
           "sequential": [
            [
             0,
             "#0d0887"
            ],
            [
             0.1111111111111111,
             "#46039f"
            ],
            [
             0.2222222222222222,
             "#7201a8"
            ],
            [
             0.3333333333333333,
             "#9c179e"
            ],
            [
             0.4444444444444444,
             "#bd3786"
            ],
            [
             0.5555555555555556,
             "#d8576b"
            ],
            [
             0.6666666666666666,
             "#ed7953"
            ],
            [
             0.7777777777777778,
             "#fb9f3a"
            ],
            [
             0.8888888888888888,
             "#fdca26"
            ],
            [
             1,
             "#f0f921"
            ]
           ],
           "sequentialminus": [
            [
             0,
             "#0d0887"
            ],
            [
             0.1111111111111111,
             "#46039f"
            ],
            [
             0.2222222222222222,
             "#7201a8"
            ],
            [
             0.3333333333333333,
             "#9c179e"
            ],
            [
             0.4444444444444444,
             "#bd3786"
            ],
            [
             0.5555555555555556,
             "#d8576b"
            ],
            [
             0.6666666666666666,
             "#ed7953"
            ],
            [
             0.7777777777777778,
             "#fb9f3a"
            ],
            [
             0.8888888888888888,
             "#fdca26"
            ],
            [
             1,
             "#f0f921"
            ]
           ]
          },
          "colorway": [
           "#636efa",
           "#EF553B",
           "#00cc96",
           "#ab63fa",
           "#FFA15A",
           "#19d3f3",
           "#FF6692",
           "#B6E880",
           "#FF97FF",
           "#FECB52"
          ],
          "font": {
           "color": "#2a3f5f"
          },
          "geo": {
           "bgcolor": "white",
           "lakecolor": "white",
           "landcolor": "#E5ECF6",
           "showlakes": true,
           "showland": true,
           "subunitcolor": "white"
          },
          "hoverlabel": {
           "align": "left"
          },
          "hovermode": "closest",
          "mapbox": {
           "style": "light"
          },
          "paper_bgcolor": "white",
          "plot_bgcolor": "#E5ECF6",
          "polar": {
           "angularaxis": {
            "gridcolor": "white",
            "linecolor": "white",
            "ticks": ""
           },
           "bgcolor": "#E5ECF6",
           "radialaxis": {
            "gridcolor": "white",
            "linecolor": "white",
            "ticks": ""
           }
          },
          "scene": {
           "xaxis": {
            "backgroundcolor": "#E5ECF6",
            "gridcolor": "white",
            "gridwidth": 2,
            "linecolor": "white",
            "showbackground": true,
            "ticks": "",
            "zerolinecolor": "white"
           },
           "yaxis": {
            "backgroundcolor": "#E5ECF6",
            "gridcolor": "white",
            "gridwidth": 2,
            "linecolor": "white",
            "showbackground": true,
            "ticks": "",
            "zerolinecolor": "white"
           },
           "zaxis": {
            "backgroundcolor": "#E5ECF6",
            "gridcolor": "white",
            "gridwidth": 2,
            "linecolor": "white",
            "showbackground": true,
            "ticks": "",
            "zerolinecolor": "white"
           }
          },
          "shapedefaults": {
           "line": {
            "color": "#2a3f5f"
           }
          },
          "ternary": {
           "aaxis": {
            "gridcolor": "white",
            "linecolor": "white",
            "ticks": ""
           },
           "baxis": {
            "gridcolor": "white",
            "linecolor": "white",
            "ticks": ""
           },
           "bgcolor": "#E5ECF6",
           "caxis": {
            "gridcolor": "white",
            "linecolor": "white",
            "ticks": ""
           }
          },
          "title": {
           "x": 0.05
          },
          "xaxis": {
           "automargin": true,
           "gridcolor": "white",
           "linecolor": "white",
           "ticks": "",
           "title": {
            "standoff": 15
           },
           "zerolinecolor": "white",
           "zerolinewidth": 2
          },
          "yaxis": {
           "automargin": true,
           "gridcolor": "white",
           "linecolor": "white",
           "ticks": "",
           "title": {
            "standoff": 15
           },
           "zerolinecolor": "white",
           "zerolinewidth": 2
          }
         }
        },
        "title": {
         "font": {
          "family": "Times New Roman",
          "size": 40,
          "weight": "bold"
         },
         "subtitle": {
          "text": "Share of the population who used the Internet in the last three months."
         },
         "text": "Share of the population using the Internet"
        },
        "width": 1200,
        "xaxis": {
         "anchor": "y",
         "domain": [
          0,
          1
         ],
         "linecolor": "rgb(204, 204, 204)",
         "linewidth": 2,
         "range": [
          1990,
          2024
         ],
         "showgrid": false,
         "showline": true,
         "showticklabels": true,
         "ticks": "outside",
         "tickvals": [
          1990,
          1995,
          2000,
          2005,
          2010,
          2015,
          2023
         ],
         "title": {
          "text": ""
         }
        },
        "yaxis": {
         "anchor": "x",
         "domain": [
          0,
          1
         ],
         "gridcolor": "black",
         "griddash": "dash",
         "linecolor": "gray",
         "linewidth": 0.3,
         "range": [
          0,
          120
         ],
         "showline": false,
         "showticklabels": true,
         "tickfont": {
          "family": "Times New Roman",
          "size": 20,
          "weight": "bold"
         },
         "tickmode": "array",
         "ticktext": [
          "0%",
          "20%",
          "40%",
          "60%",
          "80%",
          "100%"
         ],
         "tickvals": [
          0,
          20,
          40,
          60,
          80,
          100
         ],
         "title": {
          "text": ""
         }
        }
       }
      }
     },
     "metadata": {},
     "output_type": "display_data"
    }
   ],
   "source": [
    "fig = px.line(continents_time,\n",
    "            x=\"Year\", \n",
    "            y=\"Internet\", \n",
    "            title=\"Share of the population using the Internet\",\n",
    "            subtitle=\"Share of the population who used the Internet in the last three months.\",\n",
    "            color=\"Entity\",\n",
    "            markers=True,\n",
    "            color_discrete_sequence=px.colors.qualitative.Dark24,\n",
    "            color_discrete_map={\n",
    "                \"East Asia and Pacific (WB)\": \"#526998\",\n",
    "                \"Europe and Central Asia (WB)\": \"#a33e1d\",\n",
    "                \"Latin America and Caribbean (WB)\": \"#926f41\",\n",
    "                \"Middle East and North Africa (WB)\": \"#578e76\",\n",
    "                \"North America (WB)\": \"#68428d\",\n",
    "                \"South Asia (WB)\": \"#7b353a\",\n",
    "                \"Sub-Saharan Africa (WB)\": \"#0d2958\",\n",
    "                \"World\": \"#985998\",},\n",
    "            )\n",
    "\n",
    "\n",
    "fig.update_traces(line=dict(width= 2), marker=dict(symbol=\"circle\", size=5))\n",
    "\n",
    "fig.update_yaxes(gridcolor='black', griddash='dash',)\n",
    "\n",
    "\n",
    "fig.update_layout(plot_bgcolor = \"white\",\n",
    "                showlegend=True,\n",
    "                xaxis_title='',\n",
    "                yaxis_title='',\n",
    "                polar = dict(angularaxis=dict(showgrid=True)),\n",
    "                xaxis=dict(showline=True,\n",
    "                        showticklabels=True,\n",
    "                        showgrid=False,\n",
    "                        linecolor='rgb(204, 204, 204)',\n",
    "                        linewidth=2,\n",
    "                        ticks='outside',\n",
    "                        tickvals = tickvals, \n",
    "                        range=(1990,2024)\n",
    "                        ),\n",
    "                yaxis=dict(showline=False,\n",
    "                        showticklabels=True,\n",
    "                        linewidth=0.3,\n",
    "                        range=[0,120],\n",
    "                        linecolor=\"gray\",\n",
    "                        tickmode = 'array',\n",
    "                        tickvals = [0, 20, 40, 60, 80, 100],\n",
    "                        ticktext = ['0%', '20%', '40%', '60%', '80%', '100%']),\n",
    "                legend=dict(\n",
    "                        y=0.85,\n",
    "                        x=1.02),\n",
    "                width=1200,\n",
    "                height=800,\n",
    "                title_font=dict(family=\"Times New Roman\", size=40, weight=\"bold\"),\n",
    "                font=dict(family=\"Times New Roman\", size=15),\n",
    "                yaxis_tickfont=dict(family=\"Times New Roman\", size=20,weight=\"bold\"),\n",
    "                annotations=[dict(\n",
    "                        x=-0.1,\n",
    "                        y=-0.1,\n",
    "                        xref=\"paper\",\n",
    "                        yref=\"paper\",\n",
    "                        text=\"<b> Data sourse: </b>International Telecommunication Union (via World Bank) (2025)\",\n",
    "                        showarrow=False)],\n",
    "                        )\n",
    "fig.show()\n"
   ]
  },
  {
   "cell_type": "code",
   "execution_count": null,
   "id": "85fcfecb",
   "metadata": {},
   "outputs": [],
   "source": []
  }
 ],
 "metadata": {
  "kernelspec": {
   "display_name": ".venv",
   "language": "python",
   "name": "python3"
  },
  "language_info": {
   "codemirror_mode": {
    "name": "ipython",
    "version": 3
   },
   "file_extension": ".py",
   "mimetype": "text/x-python",
   "name": "python",
   "nbconvert_exporter": "python",
   "pygments_lexer": "ipython3",
   "version": "3.12.5"
  }
 },
 "nbformat": 4,
 "nbformat_minor": 5
}
