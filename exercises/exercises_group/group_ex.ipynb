{
 "cells": [
  {
   "cell_type": "markdown",
   "id": "f434fb5e",
   "metadata": {},
   "source": [
    "# Group Exercises"
   ]
  },
  {
   "cell_type": "code",
   "execution_count": 207,
   "id": "97f157e6",
   "metadata": {},
   "outputs": [
    {
     "data": {
      "text/html": [
       "<div>\n",
       "<style scoped>\n",
       "    .dataframe tbody tr th:only-of-type {\n",
       "        vertical-align: middle;\n",
       "    }\n",
       "\n",
       "    .dataframe tbody tr th {\n",
       "        vertical-align: top;\n",
       "    }\n",
       "\n",
       "    .dataframe thead th {\n",
       "        text-align: right;\n",
       "    }\n",
       "</style>\n",
       "<table border=\"1\" class=\"dataframe\">\n",
       "  <thead>\n",
       "    <tr style=\"text-align: right;\">\n",
       "      <th></th>\n",
       "      <th>Datum</th>\n",
       "      <th>Vårdform</th>\n",
       "      <th>Mått</th>\n",
       "      <th>DATA</th>\n",
       "    </tr>\n",
       "  </thead>\n",
       "  <tbody>\n",
       "    <tr>\n",
       "      <th>0</th>\n",
       "      <td>2015-07-09</td>\n",
       "      <td>Slutenvård</td>\n",
       "      <td>Antal</td>\n",
       "      <td>0.0</td>\n",
       "    </tr>\n",
       "    <tr>\n",
       "      <th>1</th>\n",
       "      <td>2015-07-09</td>\n",
       "      <td>Slutenvård</td>\n",
       "      <td>Per 100 000</td>\n",
       "      <td>0.000</td>\n",
       "    </tr>\n",
       "    <tr>\n",
       "      <th>2</th>\n",
       "      <td>2015-07-09</td>\n",
       "      <td>Intensivvård</td>\n",
       "      <td>Antal</td>\n",
       "      <td>0.0</td>\n",
       "    </tr>\n",
       "    <tr>\n",
       "      <th>3</th>\n",
       "      <td>2015-07-09</td>\n",
       "      <td>Intensivvård</td>\n",
       "      <td>Per 100 000</td>\n",
       "      <td>0.000</td>\n",
       "    </tr>\n",
       "    <tr>\n",
       "      <th>4</th>\n",
       "      <td>2015-07-16</td>\n",
       "      <td>Slutenvård</td>\n",
       "      <td>Antal</td>\n",
       "      <td>0.0</td>\n",
       "    </tr>\n",
       "    <tr>\n",
       "      <th>...</th>\n",
       "      <td>...</td>\n",
       "      <td>...</td>\n",
       "      <td>...</td>\n",
       "      <td>...</td>\n",
       "    </tr>\n",
       "    <tr>\n",
       "      <th>2035</th>\n",
       "      <td>2025-04-03</td>\n",
       "      <td>Intensivvård</td>\n",
       "      <td>Per 100 000</td>\n",
       "      <td>0.016</td>\n",
       "    </tr>\n",
       "    <tr>\n",
       "      <th>2036</th>\n",
       "      <td>2025-04-10</td>\n",
       "      <td>Slutenvård</td>\n",
       "      <td>Antal</td>\n",
       "      <td>.</td>\n",
       "    </tr>\n",
       "    <tr>\n",
       "      <th>2037</th>\n",
       "      <td>2025-04-10</td>\n",
       "      <td>Slutenvård</td>\n",
       "      <td>Per 100 000</td>\n",
       "      <td>.</td>\n",
       "    </tr>\n",
       "    <tr>\n",
       "      <th>2038</th>\n",
       "      <td>2025-04-10</td>\n",
       "      <td>Intensivvård</td>\n",
       "      <td>Antal</td>\n",
       "      <td>1.1</td>\n",
       "    </tr>\n",
       "    <tr>\n",
       "      <th>2039</th>\n",
       "      <td>2025-04-10</td>\n",
       "      <td>Intensivvård</td>\n",
       "      <td>Per 100 000</td>\n",
       "      <td>0.011</td>\n",
       "    </tr>\n",
       "  </tbody>\n",
       "</table>\n",
       "<p>2040 rows × 4 columns</p>\n",
       "</div>"
      ],
      "text/plain": [
       "           Datum      Vårdform         Mått   DATA\n",
       "0     2015-07-09    Slutenvård        Antal    0.0\n",
       "1     2015-07-09    Slutenvård  Per 100 000  0.000\n",
       "2     2015-07-09  Intensivvård        Antal    0.0\n",
       "3     2015-07-09  Intensivvård  Per 100 000  0.000\n",
       "4     2015-07-16    Slutenvård        Antal    0.0\n",
       "...          ...           ...          ...    ...\n",
       "2035  2025-04-03  Intensivvård  Per 100 000  0.016\n",
       "2036  2025-04-10    Slutenvård        Antal      .\n",
       "2037  2025-04-10    Slutenvård  Per 100 000      .\n",
       "2038  2025-04-10  Intensivvård        Antal    1.1\n",
       "2039  2025-04-10  Intensivvård  Per 100 000  0.011\n",
       "\n",
       "[2040 rows x 4 columns]"
      ]
     },
     "execution_count": 207,
     "metadata": {},
     "output_type": "execute_result"
    }
   ],
   "source": [
    "import plotly.express as px\n",
    "import pandas as pd\n",
    "import duckdb as db\n",
    "\n",
    "df = pd.read_csv(\"data/influensa.csv\")\n",
    "\n",
    "df"
   ]
  },
  {
   "cell_type": "code",
   "execution_count": 208,
   "id": "e6e2734b",
   "metadata": {},
   "outputs": [
    {
     "name": "stdout",
     "output_type": "stream",
     "text": [
      "<class 'pandas.core.frame.DataFrame'>\n",
      "RangeIndex: 2040 entries, 0 to 2039\n",
      "Data columns (total 4 columns):\n",
      " #   Column    Non-Null Count  Dtype \n",
      "---  ------    --------------  ----- \n",
      " 0   Datum     2040 non-null   object\n",
      " 1   Vårdform  2040 non-null   object\n",
      " 2   Mått      2040 non-null   object\n",
      " 3   DATA      2040 non-null   object\n",
      "dtypes: object(4)\n",
      "memory usage: 63.9+ KB\n"
     ]
    }
   ],
   "source": [
    "df.info()"
   ]
  },
  {
   "cell_type": "code",
   "execution_count": 209,
   "id": "ad6ac85a",
   "metadata": {},
   "outputs": [],
   "source": [
    "df[\"DATA\"] = df[\"DATA\"].str.replace(\".\", \"0\").astype(float)"
   ]
  },
  {
   "cell_type": "code",
   "execution_count": 210,
   "id": "3742d763",
   "metadata": {},
   "outputs": [
    {
     "name": "stdout",
     "output_type": "stream",
     "text": [
      "<class 'pandas.core.frame.DataFrame'>\n",
      "RangeIndex: 2040 entries, 0 to 2039\n",
      "Data columns (total 4 columns):\n",
      " #   Column    Non-Null Count  Dtype  \n",
      "---  ------    --------------  -----  \n",
      " 0   Datum     2040 non-null   object \n",
      " 1   Vårdform  2040 non-null   object \n",
      " 2   Mått      2040 non-null   object \n",
      " 3   DATA      2040 non-null   float64\n",
      "dtypes: float64(1), object(3)\n",
      "memory usage: 63.9+ KB\n"
     ]
    }
   ],
   "source": [
    "df.info()"
   ]
  },
  {
   "cell_type": "code",
   "execution_count": 211,
   "id": "1476f99b",
   "metadata": {},
   "outputs": [],
   "source": [
    "df['Datum'] = pd.to_datetime(df['Datum'])\n",
    "  "
   ]
  },
  {
   "cell_type": "code",
   "execution_count": 212,
   "id": "a6239602",
   "metadata": {},
   "outputs": [],
   "source": [
    "df[\"År\"] = df[\"Datum\"].dt.year\n",
    "df[\"Månad\"] = df[\"Datum\"].dt.month\n"
   ]
  },
  {
   "cell_type": "code",
   "execution_count": 213,
   "id": "3166e2d1",
   "metadata": {},
   "outputs": [
    {
     "data": {
      "text/html": [
       "<div>\n",
       "<style scoped>\n",
       "    .dataframe tbody tr th:only-of-type {\n",
       "        vertical-align: middle;\n",
       "    }\n",
       "\n",
       "    .dataframe tbody tr th {\n",
       "        vertical-align: top;\n",
       "    }\n",
       "\n",
       "    .dataframe thead th {\n",
       "        text-align: right;\n",
       "    }\n",
       "</style>\n",
       "<table border=\"1\" class=\"dataframe\">\n",
       "  <thead>\n",
       "    <tr style=\"text-align: right;\">\n",
       "      <th></th>\n",
       "      <th>Datum</th>\n",
       "      <th>Vårdform</th>\n",
       "      <th>Mått</th>\n",
       "      <th>DATA</th>\n",
       "      <th>År</th>\n",
       "      <th>Månad</th>\n",
       "    </tr>\n",
       "  </thead>\n",
       "  <tbody>\n",
       "    <tr>\n",
       "      <th>0</th>\n",
       "      <td>2015-07-09</td>\n",
       "      <td>Slutenvård</td>\n",
       "      <td>Antal</td>\n",
       "      <td>0.0</td>\n",
       "      <td>2015</td>\n",
       "      <td>7</td>\n",
       "    </tr>\n",
       "    <tr>\n",
       "      <th>1</th>\n",
       "      <td>2015-07-09</td>\n",
       "      <td>Slutenvård</td>\n",
       "      <td>Per 100 000</td>\n",
       "      <td>0.0</td>\n",
       "      <td>2015</td>\n",
       "      <td>7</td>\n",
       "    </tr>\n",
       "    <tr>\n",
       "      <th>2</th>\n",
       "      <td>2015-07-09</td>\n",
       "      <td>Intensivvård</td>\n",
       "      <td>Antal</td>\n",
       "      <td>0.0</td>\n",
       "      <td>2015</td>\n",
       "      <td>7</td>\n",
       "    </tr>\n",
       "    <tr>\n",
       "      <th>3</th>\n",
       "      <td>2015-07-09</td>\n",
       "      <td>Intensivvård</td>\n",
       "      <td>Per 100 000</td>\n",
       "      <td>0.0</td>\n",
       "      <td>2015</td>\n",
       "      <td>7</td>\n",
       "    </tr>\n",
       "    <tr>\n",
       "      <th>4</th>\n",
       "      <td>2015-07-16</td>\n",
       "      <td>Slutenvård</td>\n",
       "      <td>Antal</td>\n",
       "      <td>0.0</td>\n",
       "      <td>2015</td>\n",
       "      <td>7</td>\n",
       "    </tr>\n",
       "  </tbody>\n",
       "</table>\n",
       "</div>"
      ],
      "text/plain": [
       "       Datum      Vårdform         Mått  DATA    År  Månad\n",
       "0 2015-07-09    Slutenvård        Antal   0.0  2015      7\n",
       "1 2015-07-09    Slutenvård  Per 100 000   0.0  2015      7\n",
       "2 2015-07-09  Intensivvård        Antal   0.0  2015      7\n",
       "3 2015-07-09  Intensivvård  Per 100 000   0.0  2015      7\n",
       "4 2015-07-16    Slutenvård        Antal   0.0  2015      7"
      ]
     },
     "execution_count": 213,
     "metadata": {},
     "output_type": "execute_result"
    }
   ],
   "source": [
    "df.head()"
   ]
  },
  {
   "cell_type": "code",
   "execution_count": 214,
   "id": "b90f4dbd",
   "metadata": {},
   "outputs": [
    {
     "data": {
      "text/plain": [
       "0             Antal\n",
       "1       Per 100 000\n",
       "2             Antal\n",
       "3       Per 100 000\n",
       "4             Antal\n",
       "           ...     \n",
       "2035    Per 100 000\n",
       "2036          Antal\n",
       "2037    Per 100 000\n",
       "2038          Antal\n",
       "2039    Per 100 000\n",
       "Name: Mått, Length: 2040, dtype: object"
      ]
     },
     "execution_count": 214,
     "metadata": {},
     "output_type": "execute_result"
    }
   ],
   "source": [
    "df[\"Mått\"]"
   ]
  },
  {
   "cell_type": "code",
   "execution_count": 215,
   "id": "43375e81",
   "metadata": {},
   "outputs": [
    {
     "data": {
      "text/html": [
       "<div>\n",
       "<style scoped>\n",
       "    .dataframe tbody tr th:only-of-type {\n",
       "        vertical-align: middle;\n",
       "    }\n",
       "\n",
       "    .dataframe tbody tr th {\n",
       "        vertical-align: top;\n",
       "    }\n",
       "\n",
       "    .dataframe thead th {\n",
       "        text-align: right;\n",
       "    }\n",
       "</style>\n",
       "<table border=\"1\" class=\"dataframe\">\n",
       "  <thead>\n",
       "    <tr style=\"text-align: right;\">\n",
       "      <th></th>\n",
       "      <th>År</th>\n",
       "      <th>Månad</th>\n",
       "      <th>Vårdform</th>\n",
       "      <th>DATA</th>\n",
       "      <th>Mått</th>\n",
       "    </tr>\n",
       "  </thead>\n",
       "  <tbody>\n",
       "    <tr>\n",
       "      <th>0</th>\n",
       "      <td>2015</td>\n",
       "      <td>7</td>\n",
       "      <td>Slutenvård</td>\n",
       "      <td>0.0</td>\n",
       "      <td>Antal</td>\n",
       "    </tr>\n",
       "    <tr>\n",
       "      <th>1</th>\n",
       "      <td>2015</td>\n",
       "      <td>7</td>\n",
       "      <td>Intensivvård</td>\n",
       "      <td>0.0</td>\n",
       "      <td>Antal</td>\n",
       "    </tr>\n",
       "    <tr>\n",
       "      <th>2</th>\n",
       "      <td>2015</td>\n",
       "      <td>7</td>\n",
       "      <td>Slutenvård</td>\n",
       "      <td>0.0</td>\n",
       "      <td>Antal</td>\n",
       "    </tr>\n",
       "    <tr>\n",
       "      <th>3</th>\n",
       "      <td>2015</td>\n",
       "      <td>7</td>\n",
       "      <td>Intensivvård</td>\n",
       "      <td>0.0</td>\n",
       "      <td>Antal</td>\n",
       "    </tr>\n",
       "    <tr>\n",
       "      <th>4</th>\n",
       "      <td>2015</td>\n",
       "      <td>7</td>\n",
       "      <td>Slutenvård</td>\n",
       "      <td>6.0</td>\n",
       "      <td>Antal</td>\n",
       "    </tr>\n",
       "    <tr>\n",
       "      <th>...</th>\n",
       "      <td>...</td>\n",
       "      <td>...</td>\n",
       "      <td>...</td>\n",
       "      <td>...</td>\n",
       "      <td>...</td>\n",
       "    </tr>\n",
       "    <tr>\n",
       "      <th>1015</th>\n",
       "      <td>2025</td>\n",
       "      <td>3</td>\n",
       "      <td>Intensivvård</td>\n",
       "      <td>206.0</td>\n",
       "      <td>Antal</td>\n",
       "    </tr>\n",
       "    <tr>\n",
       "      <th>1016</th>\n",
       "      <td>2025</td>\n",
       "      <td>4</td>\n",
       "      <td>Slutenvård</td>\n",
       "      <td>0.0</td>\n",
       "      <td>Antal</td>\n",
       "    </tr>\n",
       "    <tr>\n",
       "      <th>1017</th>\n",
       "      <td>2025</td>\n",
       "      <td>4</td>\n",
       "      <td>Intensivvård</td>\n",
       "      <td>107.0</td>\n",
       "      <td>Antal</td>\n",
       "    </tr>\n",
       "    <tr>\n",
       "      <th>1018</th>\n",
       "      <td>2025</td>\n",
       "      <td>4</td>\n",
       "      <td>Slutenvård</td>\n",
       "      <td>0.0</td>\n",
       "      <td>Antal</td>\n",
       "    </tr>\n",
       "    <tr>\n",
       "      <th>1019</th>\n",
       "      <td>2025</td>\n",
       "      <td>4</td>\n",
       "      <td>Intensivvård</td>\n",
       "      <td>101.0</td>\n",
       "      <td>Antal</td>\n",
       "    </tr>\n",
       "  </tbody>\n",
       "</table>\n",
       "<p>1020 rows × 5 columns</p>\n",
       "</div>"
      ],
      "text/plain": [
       "        År  Månad      Vårdform   DATA   Mått\n",
       "0     2015      7    Slutenvård    0.0  Antal\n",
       "1     2015      7  Intensivvård    0.0  Antal\n",
       "2     2015      7    Slutenvård    0.0  Antal\n",
       "3     2015      7  Intensivvård    0.0  Antal\n",
       "4     2015      7    Slutenvård    6.0  Antal\n",
       "...    ...    ...           ...    ...    ...\n",
       "1015  2025      3  Intensivvård  206.0  Antal\n",
       "1016  2025      4    Slutenvård    0.0  Antal\n",
       "1017  2025      4  Intensivvård  107.0  Antal\n",
       "1018  2025      4    Slutenvård    0.0  Antal\n",
       "1019  2025      4  Intensivvård  101.0  Antal\n",
       "\n",
       "[1020 rows x 5 columns]"
      ]
     },
     "execution_count": 215,
     "metadata": {},
     "output_type": "execute_result"
    }
   ],
   "source": [
    "df_vård = db.query(\"\"\"--sql\n",
    "         SELECT År, Månad , Vårdform ,Data, Mått\n",
    "         FROM df\n",
    "         WHERE (Mått == 'Antal')\n",
    "         \"\"\").df()\n",
    "\n",
    "df_vård"
   ]
  },
  {
   "cell_type": "code",
   "execution_count": 217,
   "id": "d808223f",
   "metadata": {},
   "outputs": [
    {
     "data": {
      "text/html": [
       "<div>\n",
       "<style scoped>\n",
       "    .dataframe tbody tr th:only-of-type {\n",
       "        vertical-align: middle;\n",
       "    }\n",
       "\n",
       "    .dataframe tbody tr th {\n",
       "        vertical-align: top;\n",
       "    }\n",
       "\n",
       "    .dataframe thead th {\n",
       "        text-align: right;\n",
       "    }\n",
       "</style>\n",
       "<table border=\"1\" class=\"dataframe\">\n",
       "  <thead>\n",
       "    <tr style=\"text-align: right;\">\n",
       "      <th></th>\n",
       "      <th>Datum</th>\n",
       "      <th>Vårdform</th>\n",
       "      <th>DATA</th>\n",
       "      <th>Mått</th>\n",
       "    </tr>\n",
       "  </thead>\n",
       "  <tbody>\n",
       "    <tr>\n",
       "      <th>0</th>\n",
       "      <td>2015-07</td>\n",
       "      <td>Slutenvård</td>\n",
       "      <td>0.0</td>\n",
       "      <td>Antal</td>\n",
       "    </tr>\n",
       "    <tr>\n",
       "      <th>1</th>\n",
       "      <td>2015-07</td>\n",
       "      <td>Intensivvård</td>\n",
       "      <td>0.0</td>\n",
       "      <td>Antal</td>\n",
       "    </tr>\n",
       "    <tr>\n",
       "      <th>2</th>\n",
       "      <td>2015-07</td>\n",
       "      <td>Slutenvård</td>\n",
       "      <td>0.0</td>\n",
       "      <td>Antal</td>\n",
       "    </tr>\n",
       "    <tr>\n",
       "      <th>3</th>\n",
       "      <td>2015-07</td>\n",
       "      <td>Intensivvård</td>\n",
       "      <td>0.0</td>\n",
       "      <td>Antal</td>\n",
       "    </tr>\n",
       "    <tr>\n",
       "      <th>4</th>\n",
       "      <td>2015-07</td>\n",
       "      <td>Slutenvård</td>\n",
       "      <td>6.0</td>\n",
       "      <td>Antal</td>\n",
       "    </tr>\n",
       "    <tr>\n",
       "      <th>...</th>\n",
       "      <td>...</td>\n",
       "      <td>...</td>\n",
       "      <td>...</td>\n",
       "      <td>...</td>\n",
       "    </tr>\n",
       "    <tr>\n",
       "      <th>1015</th>\n",
       "      <td>2025-03</td>\n",
       "      <td>Intensivvård</td>\n",
       "      <td>206.0</td>\n",
       "      <td>Antal</td>\n",
       "    </tr>\n",
       "    <tr>\n",
       "      <th>1016</th>\n",
       "      <td>2025-04</td>\n",
       "      <td>Slutenvård</td>\n",
       "      <td>0.0</td>\n",
       "      <td>Antal</td>\n",
       "    </tr>\n",
       "    <tr>\n",
       "      <th>1017</th>\n",
       "      <td>2025-04</td>\n",
       "      <td>Intensivvård</td>\n",
       "      <td>107.0</td>\n",
       "      <td>Antal</td>\n",
       "    </tr>\n",
       "    <tr>\n",
       "      <th>1018</th>\n",
       "      <td>2025-04</td>\n",
       "      <td>Slutenvård</td>\n",
       "      <td>0.0</td>\n",
       "      <td>Antal</td>\n",
       "    </tr>\n",
       "    <tr>\n",
       "      <th>1019</th>\n",
       "      <td>2025-04</td>\n",
       "      <td>Intensivvård</td>\n",
       "      <td>101.0</td>\n",
       "      <td>Antal</td>\n",
       "    </tr>\n",
       "  </tbody>\n",
       "</table>\n",
       "<p>1020 rows × 4 columns</p>\n",
       "</div>"
      ],
      "text/plain": [
       "        Datum      Vårdform   DATA   Mått\n",
       "0     2015-07    Slutenvård    0.0  Antal\n",
       "1     2015-07  Intensivvård    0.0  Antal\n",
       "2     2015-07    Slutenvård    0.0  Antal\n",
       "3     2015-07  Intensivvård    0.0  Antal\n",
       "4     2015-07    Slutenvård    6.0  Antal\n",
       "...       ...           ...    ...    ...\n",
       "1015  2025-03  Intensivvård  206.0  Antal\n",
       "1016  2025-04    Slutenvård    0.0  Antal\n",
       "1017  2025-04  Intensivvård  107.0  Antal\n",
       "1018  2025-04    Slutenvård    0.0  Antal\n",
       "1019  2025-04  Intensivvård  101.0  Antal\n",
       "\n",
       "[1020 rows x 4 columns]"
      ]
     },
     "execution_count": 217,
     "metadata": {},
     "output_type": "execute_result"
    }
   ],
   "source": [
    "df_vård = db.query(\"\"\"--sql\n",
    "         SELECT År || '-' || LPAD(CAST(Månad AS VARCHAR),2,'0') AS Datum, Vårdform ,Data, Mått\n",
    "         FROM df\n",
    "         WHERE (Mått == 'Antal')\n",
    "         \"\"\").df()\n",
    "\n",
    "df_vård"
   ]
  },
  {
   "cell_type": "code",
   "execution_count": 218,
   "id": "06881a3e",
   "metadata": {},
   "outputs": [
    {
     "data": {
      "text/html": [
       "<div>\n",
       "<style scoped>\n",
       "    .dataframe tbody tr th:only-of-type {\n",
       "        vertical-align: middle;\n",
       "    }\n",
       "\n",
       "    .dataframe tbody tr th {\n",
       "        vertical-align: top;\n",
       "    }\n",
       "\n",
       "    .dataframe thead th {\n",
       "        text-align: right;\n",
       "    }\n",
       "</style>\n",
       "<table border=\"1\" class=\"dataframe\">\n",
       "  <thead>\n",
       "    <tr style=\"text-align: right;\">\n",
       "      <th></th>\n",
       "      <th>Datum</th>\n",
       "      <th>Vårdform</th>\n",
       "      <th>DATA</th>\n",
       "      <th>Mått</th>\n",
       "    </tr>\n",
       "  </thead>\n",
       "  <tbody>\n",
       "    <tr>\n",
       "      <th>0</th>\n",
       "      <td>2015-07</td>\n",
       "      <td>Slutenvård</td>\n",
       "      <td>0.0</td>\n",
       "      <td>Antal</td>\n",
       "    </tr>\n",
       "    <tr>\n",
       "      <th>1</th>\n",
       "      <td>2015-07</td>\n",
       "      <td>Intensivvård</td>\n",
       "      <td>0.0</td>\n",
       "      <td>Antal</td>\n",
       "    </tr>\n",
       "    <tr>\n",
       "      <th>2</th>\n",
       "      <td>2015-07</td>\n",
       "      <td>Slutenvård</td>\n",
       "      <td>0.0</td>\n",
       "      <td>Antal</td>\n",
       "    </tr>\n",
       "    <tr>\n",
       "      <th>3</th>\n",
       "      <td>2015-07</td>\n",
       "      <td>Intensivvård</td>\n",
       "      <td>0.0</td>\n",
       "      <td>Antal</td>\n",
       "    </tr>\n",
       "    <tr>\n",
       "      <th>4</th>\n",
       "      <td>2015-07</td>\n",
       "      <td>Slutenvård</td>\n",
       "      <td>6.0</td>\n",
       "      <td>Antal</td>\n",
       "    </tr>\n",
       "  </tbody>\n",
       "</table>\n",
       "</div>"
      ],
      "text/plain": [
       "     Datum      Vårdform  DATA   Mått\n",
       "0  2015-07    Slutenvård   0.0  Antal\n",
       "1  2015-07  Intensivvård   0.0  Antal\n",
       "2  2015-07    Slutenvård   0.0  Antal\n",
       "3  2015-07  Intensivvård   0.0  Antal\n",
       "4  2015-07    Slutenvård   6.0  Antal"
      ]
     },
     "execution_count": 218,
     "metadata": {},
     "output_type": "execute_result"
    }
   ],
   "source": [
    "df_vård.head()"
   ]
  },
  {
   "cell_type": "code",
   "execution_count": 219,
   "id": "060e5c3f",
   "metadata": {},
   "outputs": [],
   "source": [
    "df_summerad = (df_vård.groupby([\"Datum\", \"Vårdform\"], as_index=False).agg({\"DATA\": \"sum\"}))"
   ]
  },
  {
   "cell_type": "code",
   "execution_count": 220,
   "id": "2967d8fc",
   "metadata": {},
   "outputs": [
    {
     "data": {
      "text/html": [
       "<div>\n",
       "<style scoped>\n",
       "    .dataframe tbody tr th:only-of-type {\n",
       "        vertical-align: middle;\n",
       "    }\n",
       "\n",
       "    .dataframe tbody tr th {\n",
       "        vertical-align: top;\n",
       "    }\n",
       "\n",
       "    .dataframe thead th {\n",
       "        text-align: right;\n",
       "    }\n",
       "</style>\n",
       "<table border=\"1\" class=\"dataframe\">\n",
       "  <thead>\n",
       "    <tr style=\"text-align: right;\">\n",
       "      <th></th>\n",
       "      <th>Datum</th>\n",
       "      <th>Vårdform</th>\n",
       "      <th>DATA</th>\n",
       "    </tr>\n",
       "  </thead>\n",
       "  <tbody>\n",
       "    <tr>\n",
       "      <th>0</th>\n",
       "      <td>2015-07</td>\n",
       "      <td>Intensivvård</td>\n",
       "      <td>0.0</td>\n",
       "    </tr>\n",
       "    <tr>\n",
       "      <th>1</th>\n",
       "      <td>2015-07</td>\n",
       "      <td>Slutenvård</td>\n",
       "      <td>12.0</td>\n",
       "    </tr>\n",
       "    <tr>\n",
       "      <th>2</th>\n",
       "      <td>2015-08</td>\n",
       "      <td>Intensivvård</td>\n",
       "      <td>0.0</td>\n",
       "    </tr>\n",
       "    <tr>\n",
       "      <th>3</th>\n",
       "      <td>2015-08</td>\n",
       "      <td>Slutenvård</td>\n",
       "      <td>15.0</td>\n",
       "    </tr>\n",
       "    <tr>\n",
       "      <th>4</th>\n",
       "      <td>2015-09</td>\n",
       "      <td>Intensivvård</td>\n",
       "      <td>0.0</td>\n",
       "    </tr>\n",
       "    <tr>\n",
       "      <th>...</th>\n",
       "      <td>...</td>\n",
       "      <td>...</td>\n",
       "      <td>...</td>\n",
       "    </tr>\n",
       "    <tr>\n",
       "      <th>231</th>\n",
       "      <td>2025-02</td>\n",
       "      <td>Slutenvård</td>\n",
       "      <td>41223.0</td>\n",
       "    </tr>\n",
       "    <tr>\n",
       "      <th>232</th>\n",
       "      <td>2025-03</td>\n",
       "      <td>Intensivvård</td>\n",
       "      <td>1117.0</td>\n",
       "    </tr>\n",
       "    <tr>\n",
       "      <th>233</th>\n",
       "      <td>2025-03</td>\n",
       "      <td>Slutenvård</td>\n",
       "      <td>31325.0</td>\n",
       "    </tr>\n",
       "    <tr>\n",
       "      <th>234</th>\n",
       "      <td>2025-04</td>\n",
       "      <td>Intensivvård</td>\n",
       "      <td>208.0</td>\n",
       "    </tr>\n",
       "    <tr>\n",
       "      <th>235</th>\n",
       "      <td>2025-04</td>\n",
       "      <td>Slutenvård</td>\n",
       "      <td>0.0</td>\n",
       "    </tr>\n",
       "  </tbody>\n",
       "</table>\n",
       "<p>236 rows × 3 columns</p>\n",
       "</div>"
      ],
      "text/plain": [
       "       Datum      Vårdform     DATA\n",
       "0    2015-07  Intensivvård      0.0\n",
       "1    2015-07    Slutenvård     12.0\n",
       "2    2015-08  Intensivvård      0.0\n",
       "3    2015-08    Slutenvård     15.0\n",
       "4    2015-09  Intensivvård      0.0\n",
       "..       ...           ...      ...\n",
       "231  2025-02    Slutenvård  41223.0\n",
       "232  2025-03  Intensivvård   1117.0\n",
       "233  2025-03    Slutenvård  31325.0\n",
       "234  2025-04  Intensivvård    208.0\n",
       "235  2025-04    Slutenvård      0.0\n",
       "\n",
       "[236 rows x 3 columns]"
      ]
     },
     "execution_count": 220,
     "metadata": {},
     "output_type": "execute_result"
    }
   ],
   "source": [
    "df_summerad"
   ]
  },
  {
   "cell_type": "code",
   "execution_count": 221,
   "id": "d8fb94d5",
   "metadata": {},
   "outputs": [
    {
     "data": {
      "application/vnd.plotly.v1+json": {
       "config": {
        "plotlyServerURL": "https://plot.ly"
       },
       "data": [
        {
         "hovertemplate": "Vårdform=Slutenvård<br>Datum=%{x}<br>DATA=%{y}<extra></extra>",
         "legendgroup": "Slutenvård",
         "line": {
          "color": "#636efa",
          "dash": "solid",
          "width": 3
         },
         "marker": {
          "symbol": "circle"
         },
         "mode": "lines",
         "name": "Slutenvård",
         "showlegend": true,
         "type": "scattergl",
         "x": [
          "2015-07",
          "2015-07",
          "2015-07",
          "2015-07",
          "2015-08",
          "2015-08",
          "2015-08",
          "2015-08",
          "2015-09",
          "2015-09",
          "2015-09",
          "2015-09",
          "2015-10",
          "2015-10",
          "2015-10",
          "2015-10",
          "2015-10",
          "2015-11",
          "2015-11",
          "2015-11",
          "2015-11",
          "2015-12",
          "2015-12",
          "2015-12",
          "2015-12",
          "2015-12",
          "2016-01",
          "2016-01",
          "2016-01",
          "2016-01",
          "2016-02",
          "2016-02",
          "2016-02",
          "2016-02",
          "2016-03",
          "2016-03",
          "2016-03",
          "2016-03",
          "2016-03",
          "2016-04",
          "2016-04",
          "2016-04",
          "2016-04",
          "2016-05",
          "2016-05",
          "2016-05",
          "2016-05",
          "2016-06",
          "2016-06",
          "2016-06",
          "2016-06",
          "2016-06",
          "2016-07",
          "2016-07",
          "2016-07",
          "2016-07",
          "2016-08",
          "2016-08",
          "2016-08",
          "2016-08",
          "2016-09",
          "2016-09",
          "2016-09",
          "2016-09",
          "2016-09",
          "2016-10",
          "2016-10",
          "2016-10",
          "2016-10",
          "2016-11",
          "2016-11",
          "2016-11",
          "2016-11",
          "2016-12",
          "2016-12",
          "2016-12",
          "2016-12",
          "2016-12",
          "2017-01",
          "2017-01",
          "2017-01",
          "2017-01",
          "2017-02",
          "2017-02",
          "2017-02",
          "2017-02",
          "2017-03",
          "2017-03",
          "2017-03",
          "2017-03",
          "2017-03",
          "2017-04",
          "2017-04",
          "2017-04",
          "2017-04",
          "2017-05",
          "2017-05",
          "2017-05",
          "2017-05",
          "2017-06",
          "2017-06",
          "2017-06",
          "2017-06",
          "2017-06",
          "2017-07",
          "2017-07",
          "2017-07",
          "2017-07",
          "2017-08",
          "2017-08",
          "2017-08",
          "2017-08",
          "2017-08",
          "2017-09",
          "2017-09",
          "2017-09",
          "2017-09",
          "2017-10",
          "2017-10",
          "2017-10",
          "2017-10",
          "2017-11",
          "2017-11",
          "2017-11",
          "2017-11",
          "2017-11",
          "2017-12",
          "2017-12",
          "2017-12",
          "2017-12",
          "2018-01",
          "2018-01",
          "2018-01",
          "2018-01",
          "2018-02",
          "2018-02",
          "2018-02",
          "2018-02",
          "2018-03",
          "2018-03",
          "2018-03",
          "2018-03",
          "2018-03",
          "2018-04",
          "2018-04",
          "2018-04",
          "2018-04",
          "2018-05",
          "2018-05",
          "2018-05",
          "2018-05",
          "2018-05",
          "2018-06",
          "2018-06",
          "2018-06",
          "2018-06",
          "2018-07",
          "2018-07",
          "2018-07",
          "2018-07",
          "2018-08",
          "2018-08",
          "2018-08",
          "2018-08",
          "2018-08",
          "2018-09",
          "2018-09",
          "2018-09",
          "2018-09",
          "2018-10",
          "2018-10",
          "2018-10",
          "2018-10",
          "2018-11",
          "2018-11",
          "2018-11",
          "2018-11",
          "2018-11",
          "2018-12",
          "2018-12",
          "2018-12",
          "2018-12",
          "2019-01",
          "2019-01",
          "2019-01",
          "2019-01",
          "2019-01",
          "2019-02",
          "2019-02",
          "2019-02",
          "2019-02",
          "2019-03",
          "2019-03",
          "2019-03",
          "2019-03",
          "2019-04",
          "2019-04",
          "2019-04",
          "2019-04",
          "2019-05",
          "2019-05",
          "2019-05",
          "2019-05",
          "2019-05",
          "2019-06",
          "2019-06",
          "2019-06",
          "2019-06",
          "2019-07",
          "2019-07",
          "2019-07",
          "2019-07",
          "2019-08",
          "2019-08",
          "2019-08",
          "2019-08",
          "2019-08",
          "2019-09",
          "2019-09",
          "2019-09",
          "2019-09",
          "2019-10",
          "2019-10",
          "2019-10",
          "2019-10",
          "2019-10",
          "2019-11",
          "2019-11",
          "2019-11",
          "2019-11",
          "2019-12",
          "2019-12",
          "2019-12",
          "2019-12",
          "2020-01",
          "2020-01",
          "2020-01",
          "2020-01",
          "2020-01",
          "2020-02",
          "2020-02",
          "2020-02",
          "2020-02",
          "2020-03",
          "2020-03",
          "2020-03",
          "2020-03",
          "2020-04",
          "2020-04",
          "2020-04",
          "2020-04",
          "2020-04",
          "2020-05",
          "2020-05",
          "2020-05",
          "2020-05",
          "2020-06",
          "2020-06",
          "2020-06",
          "2020-06",
          "2020-07",
          "2020-07",
          "2020-07",
          "2020-07",
          "2020-07",
          "2020-08",
          "2020-08",
          "2020-08",
          "2020-08",
          "2020-09",
          "2020-09",
          "2020-09",
          "2020-09",
          "2020-10",
          "2020-10",
          "2020-10",
          "2020-10",
          "2020-10",
          "2020-11",
          "2020-11",
          "2020-11",
          "2020-11",
          "2020-12",
          "2020-12",
          "2020-12",
          "2020-12",
          "2020-12",
          "2021-01",
          "2021-01",
          "2021-01",
          "2021-01",
          "2021-02",
          "2021-02",
          "2021-02",
          "2021-02",
          "2021-03",
          "2021-03",
          "2021-03",
          "2021-03",
          "2021-04",
          "2021-04",
          "2021-04",
          "2021-04",
          "2021-04",
          "2021-05",
          "2021-05",
          "2021-05",
          "2021-05",
          "2021-06",
          "2021-06",
          "2021-06",
          "2021-06",
          "2021-07",
          "2021-07",
          "2021-07",
          "2021-07",
          "2021-07",
          "2021-08",
          "2021-08",
          "2021-08",
          "2021-08",
          "2021-09",
          "2021-09",
          "2021-09",
          "2021-09",
          "2021-09",
          "2021-10",
          "2021-10",
          "2021-10",
          "2021-10",
          "2021-11",
          "2021-11",
          "2021-11",
          "2021-11",
          "2021-12",
          "2021-12",
          "2021-12",
          "2021-12",
          "2021-12",
          "2022-01",
          "2022-01",
          "2022-01",
          "2022-01",
          "2022-02",
          "2022-02",
          "2022-02",
          "2022-02",
          "2022-03",
          "2022-03",
          "2022-03",
          "2022-03",
          "2022-03",
          "2022-04",
          "2022-04",
          "2022-04",
          "2022-04",
          "2022-05",
          "2022-05",
          "2022-05",
          "2022-05",
          "2022-06",
          "2022-06",
          "2022-06",
          "2022-06",
          "2022-06",
          "2022-07",
          "2022-07",
          "2022-07",
          "2022-07",
          "2022-08",
          "2022-08",
          "2022-08",
          "2022-08",
          "2022-09",
          "2022-09",
          "2022-09",
          "2022-09",
          "2022-09",
          "2022-10",
          "2022-10",
          "2022-10",
          "2022-10",
          "2022-11",
          "2022-11",
          "2022-11",
          "2022-11",
          "2022-12",
          "2022-12",
          "2022-12",
          "2022-12",
          "2022-12",
          "2023-01",
          "2023-01",
          "2023-01",
          "2023-01",
          "2023-02",
          "2023-02",
          "2023-02",
          "2023-02",
          "2023-03",
          "2023-03",
          "2023-03",
          "2023-03",
          "2023-03",
          "2023-04",
          "2023-04",
          "2023-04",
          "2023-04",
          "2023-05",
          "2023-05",
          "2023-05",
          "2023-05",
          "2023-06",
          "2023-06",
          "2023-06",
          "2023-06",
          "2023-06",
          "2023-07",
          "2023-07",
          "2023-07",
          "2023-07",
          "2023-08",
          "2023-08",
          "2023-08",
          "2023-08",
          "2023-08",
          "2023-09",
          "2023-09",
          "2023-09",
          "2023-09",
          "2023-10",
          "2023-10",
          "2023-10",
          "2023-10",
          "2023-11",
          "2023-11",
          "2023-11",
          "2023-11",
          "2023-11",
          "2023-12",
          "2023-12",
          "2023-12",
          "2023-12",
          "2024-01",
          "2024-01",
          "2024-01",
          "2024-01",
          "2024-02",
          "2024-02",
          "2024-02",
          "2024-02",
          "2024-02",
          "2024-03",
          "2024-03",
          "2024-03",
          "2024-03",
          "2024-04",
          "2024-04",
          "2024-04",
          "2024-04",
          "2024-05",
          "2024-05",
          "2024-05",
          "2024-05",
          "2024-05",
          "2024-06",
          "2024-06",
          "2024-06",
          "2024-06",
          "2024-07",
          "2024-07",
          "2024-07",
          "2024-07",
          "2024-08",
          "2024-08",
          "2024-08",
          "2024-08",
          "2024-08",
          "2024-09",
          "2024-09",
          "2024-09",
          "2024-09",
          "2024-10",
          "2024-10",
          "2024-10",
          "2024-10",
          "2024-10",
          "2024-11",
          "2024-11",
          "2024-11",
          "2024-11",
          "2024-12",
          "2024-12",
          "2024-12",
          "2024-12",
          "2025-01",
          "2025-01",
          "2025-01",
          "2025-01",
          "2025-01",
          "2025-02",
          "2025-02",
          "2025-02",
          "2025-02",
          "2025-03",
          "2025-03",
          "2025-03",
          "2025-03",
          "2025-04",
          "2025-04"
         ],
         "xaxis": "x",
         "y": {
          "bdata": "AAAAAAAAAAAAAAAAAAAAAAAAAAAAABhAAAAAAAAAGEAAAAAAAAAAAAAAAAAAAAhAAAAAAAAAGEAAAAAAAAAYQAAAAAAAAAAAAAAAAAAAAAAAAAAAAAAAAAAAAAAAAAhAAAAAAAAAGEAAAAAAAABaQAAAAAAAACJAAAAAAAAACEAAAAAAAAAIQAAAAAAAAAhAAAAAAAAAWkAAAAAAAEBZQAAAAAAAAGlAAAAAAADwckAAAAAAAJB5QAAAAAAAGIlAAAAAAADglUAAAAAAAOyVQAAAAAAAbJRAAAAAAABolEAAAAAAAEyfQAAAAAAAoqpAAAAAAADTsEAAAAAAAPuxQAAAAAAAsq1AAAAAAACYqkAAAAAAAFKkQAAAAAAA0qJAAAAAAABMn0AAAAAAALydQAAAAAAAdJRAAAAAAAA4jEAAAAAAANB/QAAAAAAAMHlAAAAAAABgaUAAAAAAAGBpQAAAAAAAwFpAAAAAAABAWUAAAAAAAEBZQAAAAAAAABhAAAAAAAAAGEAAAAAAAAAIQAAAAAAAAAhAAAAAAAAACEAAAAAAAAAIQAAAAAAAACJAAAAAAAAACEAAAAAAAAAAAAAAAAAAAAAAAAAAAAAACEAAAAAAAAAIQAAAAAAAAAhAAAAAAAAACEAAAAAAAAAIQAAAAAAAACJAAAAAAAAAIkAAAAAAAABaQAAAAAAAACJAAAAAAAAAGEAAAAAAAEBZQAAAAAAAAFpAAAAAAADAWkAAAAAAACBqQAAAAAAA+IVAAAAAAAA4iUAAAAAAAEyRQAAAAAAA0qJAAAAAAABMr0AAAAAAANS3QAAAAACAaMBAAAAAAABItkAAAAAAAGiwQAAAAAAAnKpAAAAAAAC2rUAAAAAAAHiuQAAAAAAAlLFAAAAAAADvs0AAAAAAABy1QAAAAAAA8KxAAAAAAADCokAAAAAAAHSgQAAAAAAAlJpAAAAAAABglEAAAAAAAGiMQAAAAAAAGIlAAAAAAABweUAAAAAAAGB5QAAAAAAAMHlAAAAAAADQf0AAAAAAADBzQAAAAAAAgGlAAAAAAADAWkAAAAAAAABaQAAAAAAAAFpAAAAAAAAAIkAAAAAAAAAIQAAAAAAAAFpAAAAAAAAACEAAAAAAAAAAAAAAAAAAAAhAAAAAAAAACEAAAAAAAAAIQAAAAAAAAAAAAAAAAAAACEAAAAAAAAAIQAAAAAAAACJAAAAAAAAACEAAAAAAAAAYQAAAAAAAACJAAAAAAAAAAAAAAAAAAAAYQAAAAAAAACJAAAAAAABAWUAAAAAAAOBpQAAAAAAAIHNAAAAAAAAgakAAAAAAAMByQAAAAAAAIHNAAAAAAAAohkAAAAAAAEyRQAAAAAAAkJpAAAAAAABKqEAAAAAAADioQAAAAAAAtqZAAAAAAAC8rUAAAAAAACWzQAAAAAAAwrtAAAAAAIBdwkAAAAAAgHzFQAAAAACA8MNAAAAAAIAkw0AAAAAAAGXBQAAAAAAAlrpAAAAAAACRukAAAAAAABm1QAAAAAAAl7FAAAAAAACUo0AAAAAAACScQAAAAAAAaIxAAAAAAABAf0AAAAAAAGBpQAAAAAAAwFpAAAAAAAAAGEAAAAAAAAAIQAAAAAAAAAhAAAAAAAAACEAAAAAAAAAIQAAAAAAAABhAAAAAAAAACEAAAAAAAAAIQAAAAAAAAAhAAAAAAAAAIkAAAAAAAAAIQAAAAAAAAAhAAAAAAAAAGEAAAAAAAAAAAAAAAAAAABhAAAAAAAAAGEAAAAAAAAAYQAAAAAAAAAhAAAAAAAAAGEAAAAAAAAAAAAAAAAAAAAhAAAAAAAAAIkAAAAAAAAAIQAAAAAAAQFlAAAAAAABAWUAAAAAAAAAiQAAAAAAAwFpAAAAAAABQc0AAAAAAANB/QAAAAAAAYJRAAAAAAADMnUAAAAAAAECvQAAAAAAAKKxAAAAAAAAIqUAAAAAAABKpQAAAAAAABbBAAAAAAACxtkAAAAAAAHS3QAAAAAAAgrVAAAAAAADEskAAAAAAADaxQAAAAAAA1KlAAAAAAAAGqUAAAAAAAOKlQAAAAAAAXqRAAAAAAABWpEAAAAAAADKhQAAAAAAAaqBAAAAAAAC8nUAAAAAAADyRQAAAAAAA4IJAAAAAAABQc0AAAAAAAPByQAAAAAAAwHJAAAAAAAAAaUAAAAAAAAAYQAAAAAAAAAhAAAAAAAAACEAAAAAAAAAIQAAAAAAAABhAAAAAAAAACEAAAAAAAAAIQAAAAAAAAAhAAAAAAAAACEAAAAAAAAAIQAAAAAAAQFlAAAAAAABAWUAAAAAAAAAYQAAAAAAAAAhAAAAAAAAACEAAAAAAAAAYQAAAAAAAAAAAAAAAAABAWUAAAAAAAAAYQAAAAAAAABhAAAAAAABAWUAAAAAAAMBaQAAAAAAAwFpAAAAAAABgaUAAAAAAAMByQAAAAAAA+IJAAAAAAAD4hUAAAAAAAGiUQAAAAAAAGJlAAAAAAABAn0AAAAAAAJSaQAAAAAAAMJFAAAAAAABclEAAAAAAALSdQAAAAAAAaqBAAAAAAAAqpUAAAAAAAF6kQAAAAAAAfKdAAAAAAAA4qEAAAAAAAI6jQAAAAAAAdJRAAAAAAACwf0AAAAAAAABaQAAAAAAAwFlAAAAAAAAAWkAAAAAAAEBZQAAAAAAAAAAAAAAAAAAAAAAAAAAAAAAAAAAAAAAAAAhAAAAAAAAAAAAAAAAAAAAAAAAAAAAAAAhAAAAAAAAAAAAAAAAAAAAAAAAAAAAAAAhAAAAAAAAAAAAAAAAAAAAIQAAAAAAAAAAAAAAAAAAAAAAAAAAAAAAAAAAAAAAAAAAAAAAAAAAAAAAAAAAAAAAAAAAAAAAAAAAAAAAAAAAAAAAAAAAAAAAAAAAAAAAAAAAAAAAAAAAAAAAAAAAAAAAIQAAAAAAAAAAAAAAAAAAAAAAAAAAAAAAIQAAAAAAAAAAAAAAAAAAAAAAAAAAAAAAIQAAAAAAAAAhAAAAAAAAACEAAAAAAAAAAAAAAAAAAAAAAAAAAAAAAAAAAAAAAAAAIQAAAAAAAAAhAAAAAAAAAAAAAAAAAAAAYQAAAAAAAABhAAAAAAAAAAAAAAAAAAAAAAAAAAAAAAAhAAAAAAAAAAAAAAAAAAAAYQAAAAAAAABhAAAAAAAAAAAAAAAAAAAAAAAAAAAAAAAAAAAAAAAAAAAAAAAAAAAAAAAAAAAAAAAAAAAAAAAAAAAAAAAAAAAAAAAAAAAAAAAhAAAAAAAAACEAAAAAAAAAAAAAAAAAAAAAAAAAAAAAAAAAAAAAAAAAYQAAAAAAAAAAAAAAAAAAACEAAAAAAAAAAAAAAAAAAAAAAAAAAAAAAAAAAAAAAAAAAAAAAAAAAAAAAAAAAAAAAGEAAAAAAAAAYQAAAAAAAAAAAAAAAAAAAGEAAAAAAAAAIQAAAAAAAAAhAAAAAAAAAAAAAAAAAAAAAAAAAAAAAABhAAAAAAAAAIkAAAAAAAEBZQAAAAAAAQFlAAAAAAAAAWkAAAAAAACBzQAAAAAAAAHlAAAAAAAD4gkAAAAAAAFifQAAAAAAATq9AAAAAAAC9tEAAAAAAACqzQAAAAAAAi7NAAAAAAACWo0AAAAAAAOCFQAAAAAAAAHNAAAAAAABAWUAAAAAAAEBZQAAAAAAAQFlAAAAAAAAAGEAAAAAAAEBZQAAAAAAAAFpAAAAAAAAAaUAAAAAAANByQAAAAAAAkHlAAAAAAAD4gkAAAAAAAFCUQAAAAAAARJxAAAAAAAA4nEAAAAAAAPCVQAAAAAAASJFAAAAAAABYj0AAAAAAABCGQAAAAAAA+IJAAAAAAABweUAAAAAAACBzQAAAAAAA0HJAAAAAAADAWkAAAAAAAEBZQAAAAAAAQFlAAAAAAAAAIkAAAAAAAAAiQAAAAAAAABhAAAAAAAAAaUAAAAAAAEBZQAAAAAAAAFpAAAAAAAAAWkAAAAAAAAAYQAAAAAAAQFlAAAAAAAAAGEAAAAAAAAAYQAAAAAAAQFlAAAAAAAAAWkAAAAAAAEBZQAAAAAAAAFpAAAAAAAAAWkAAAAAAAABaQAAAAAAAQFtAAAAAAABgaUAAAAAAAHB/QAAAAAAA2JJAAAAAAABQpEAAAAAAADOxQAAAAAAAzsBAAAAAAIA/x0AAAAAAACC8QAAAAAAAQq9AAAAAAAA8oUAAAAAAAP6hQAAAAAAAXKRAAAAAAAACqUAAAAAAANqpQAAAAAAAIKVAAAAAAAAOqUAAAAAAAFKkQAAAAAAAXKRAAAAAAADOokAAAAAAAByZQAAAAAAARJ9AAAAAAABolEAAAAAAAEiJQAAAAAAA4IJAAAAAAABgeUAAAAAAAOiFQAAAAAAAAHNAAAAAAACAaUAAAAAAAABpQAAAAAAAAGlAAAAAAADAWkAAAAAAAABpQAAAAAAAABhAAAAAAAAAIkAAAAAAAAAYQAAAAAAAAFpAAAAAAAAAAAAAAAAAAAAiQAAAAAAAACJAAAAAAAAAIkAAAAAAAAAYQAAAAAAAACJAAAAAAAAACEAAAAAAAAAYQAAAAAAAACJAAAAAAAAAWkAAAAAAAAAiQAAAAAAAwFpAAAAAAAAAWkAAAAAAAOBpQAAAAAAA4IJAAAAAAAAIg0AAAAAAAAiDQAAAAAAAWIxAAAAAAABooEAAAAAAAAipQAAAAAAAULRAAAAAAABquUAAAAAAAHy+QAAAAAAA6bVAAAAAAAD/sUAAAAAAAHGwQAAAAAAARq9AAAAAAAB4rkAAAAAAALKtQAAAAAAAeq5AAAAAAAAgrEAAAAAAAIKnQAAAAAAAtJ1AAAAAAAAAokAAAAAAAMySQAAAAAAAOIxAAAAAAABQjEAAAAAAAEB/QAAAAAAAgH9AAAAAAABAeUAAAAAAAAB5QAAAAAAAgH9AAAAAAACAf0AAAAAAAGBpQAAAAAAAYGlAAAAAAAAAWkAAAAAAAMBaQAAAAAAAwFpAAAAAAAAAWkAAAAAAAMBaQAAAAAAAACJAAAAAAADAWkAAAAAAAAAiQAAAAAAAAFpAAAAAAAAAWkAAAAAAAABaQAAAAAAAACJAAAAAAADAWkAAAAAAAAAiQAAAAAAAAAhAAAAAAABAWUAAAAAAAAAYQAAAAAAAQFlAAAAAAAAAWkAAAAAAAABaQAAAAAAAYGlAAAAAAAAAWkAAAAAAAABaQAAAAAAAQFtAAAAAAADAWkAAAAAAAPByQAAAAAAACINAAAAAAAB0l0AAAAAAAACpQAAAAAAAb7BAAAAAAABmq0AAAAAAAC6sQAAAAAAAsK1AAAAAAAD7sUAAAAAAAA+3QAAAAAAANbpAAAAAAID7wUAAAAAAAJ/IQAAAAACAzshAAAAAAIC1xEAAAAAAAH6+QAAAAAAAebdAAAAAAAD7ukAAAAAAAAAAAAAAAAAAAAAA",
          "dtype": "f8"
         },
         "yaxis": "y"
        },
        {
         "hovertemplate": "Vårdform=Intensivvård<br>Datum=%{x}<br>DATA=%{y}<extra></extra>",
         "legendgroup": "Intensivvård",
         "line": {
          "color": "#EF553B",
          "dash": "solid",
          "width": 3
         },
         "marker": {
          "symbol": "circle"
         },
         "mode": "lines",
         "name": "Intensivvård",
         "showlegend": true,
         "type": "scattergl",
         "x": [
          "2015-07",
          "2015-07",
          "2015-07",
          "2015-07",
          "2015-08",
          "2015-08",
          "2015-08",
          "2015-08",
          "2015-09",
          "2015-09",
          "2015-09",
          "2015-09",
          "2015-10",
          "2015-10",
          "2015-10",
          "2015-10",
          "2015-10",
          "2015-11",
          "2015-11",
          "2015-11",
          "2015-11",
          "2015-12",
          "2015-12",
          "2015-12",
          "2015-12",
          "2015-12",
          "2016-01",
          "2016-01",
          "2016-01",
          "2016-01",
          "2016-02",
          "2016-02",
          "2016-02",
          "2016-02",
          "2016-03",
          "2016-03",
          "2016-03",
          "2016-03",
          "2016-03",
          "2016-04",
          "2016-04",
          "2016-04",
          "2016-04",
          "2016-05",
          "2016-05",
          "2016-05",
          "2016-05",
          "2016-06",
          "2016-06",
          "2016-06",
          "2016-06",
          "2016-06",
          "2016-07",
          "2016-07",
          "2016-07",
          "2016-07",
          "2016-08",
          "2016-08",
          "2016-08",
          "2016-08",
          "2016-09",
          "2016-09",
          "2016-09",
          "2016-09",
          "2016-09",
          "2016-10",
          "2016-10",
          "2016-10",
          "2016-10",
          "2016-11",
          "2016-11",
          "2016-11",
          "2016-11",
          "2016-12",
          "2016-12",
          "2016-12",
          "2016-12",
          "2016-12",
          "2017-01",
          "2017-01",
          "2017-01",
          "2017-01",
          "2017-02",
          "2017-02",
          "2017-02",
          "2017-02",
          "2017-03",
          "2017-03",
          "2017-03",
          "2017-03",
          "2017-03",
          "2017-04",
          "2017-04",
          "2017-04",
          "2017-04",
          "2017-05",
          "2017-05",
          "2017-05",
          "2017-05",
          "2017-06",
          "2017-06",
          "2017-06",
          "2017-06",
          "2017-06",
          "2017-07",
          "2017-07",
          "2017-07",
          "2017-07",
          "2017-08",
          "2017-08",
          "2017-08",
          "2017-08",
          "2017-08",
          "2017-09",
          "2017-09",
          "2017-09",
          "2017-09",
          "2017-10",
          "2017-10",
          "2017-10",
          "2017-10",
          "2017-11",
          "2017-11",
          "2017-11",
          "2017-11",
          "2017-11",
          "2017-12",
          "2017-12",
          "2017-12",
          "2017-12",
          "2018-01",
          "2018-01",
          "2018-01",
          "2018-01",
          "2018-02",
          "2018-02",
          "2018-02",
          "2018-02",
          "2018-03",
          "2018-03",
          "2018-03",
          "2018-03",
          "2018-03",
          "2018-04",
          "2018-04",
          "2018-04",
          "2018-04",
          "2018-05",
          "2018-05",
          "2018-05",
          "2018-05",
          "2018-05",
          "2018-06",
          "2018-06",
          "2018-06",
          "2018-06",
          "2018-07",
          "2018-07",
          "2018-07",
          "2018-07",
          "2018-08",
          "2018-08",
          "2018-08",
          "2018-08",
          "2018-08",
          "2018-09",
          "2018-09",
          "2018-09",
          "2018-09",
          "2018-10",
          "2018-10",
          "2018-10",
          "2018-10",
          "2018-11",
          "2018-11",
          "2018-11",
          "2018-11",
          "2018-11",
          "2018-12",
          "2018-12",
          "2018-12",
          "2018-12",
          "2019-01",
          "2019-01",
          "2019-01",
          "2019-01",
          "2019-01",
          "2019-02",
          "2019-02",
          "2019-02",
          "2019-02",
          "2019-03",
          "2019-03",
          "2019-03",
          "2019-03",
          "2019-04",
          "2019-04",
          "2019-04",
          "2019-04",
          "2019-05",
          "2019-05",
          "2019-05",
          "2019-05",
          "2019-05",
          "2019-06",
          "2019-06",
          "2019-06",
          "2019-06",
          "2019-07",
          "2019-07",
          "2019-07",
          "2019-07",
          "2019-08",
          "2019-08",
          "2019-08",
          "2019-08",
          "2019-08",
          "2019-09",
          "2019-09",
          "2019-09",
          "2019-09",
          "2019-10",
          "2019-10",
          "2019-10",
          "2019-10",
          "2019-10",
          "2019-11",
          "2019-11",
          "2019-11",
          "2019-11",
          "2019-12",
          "2019-12",
          "2019-12",
          "2019-12",
          "2020-01",
          "2020-01",
          "2020-01",
          "2020-01",
          "2020-01",
          "2020-02",
          "2020-02",
          "2020-02",
          "2020-02",
          "2020-03",
          "2020-03",
          "2020-03",
          "2020-03",
          "2020-04",
          "2020-04",
          "2020-04",
          "2020-04",
          "2020-04",
          "2020-05",
          "2020-05",
          "2020-05",
          "2020-05",
          "2020-06",
          "2020-06",
          "2020-06",
          "2020-06",
          "2020-07",
          "2020-07",
          "2020-07",
          "2020-07",
          "2020-07",
          "2020-08",
          "2020-08",
          "2020-08",
          "2020-08",
          "2020-09",
          "2020-09",
          "2020-09",
          "2020-09",
          "2020-10",
          "2020-10",
          "2020-10",
          "2020-10",
          "2020-10",
          "2020-11",
          "2020-11",
          "2020-11",
          "2020-11",
          "2020-12",
          "2020-12",
          "2020-12",
          "2020-12",
          "2020-12",
          "2021-01",
          "2021-01",
          "2021-01",
          "2021-01",
          "2021-02",
          "2021-02",
          "2021-02",
          "2021-02",
          "2021-03",
          "2021-03",
          "2021-03",
          "2021-03",
          "2021-04",
          "2021-04",
          "2021-04",
          "2021-04",
          "2021-04",
          "2021-05",
          "2021-05",
          "2021-05",
          "2021-05",
          "2021-06",
          "2021-06",
          "2021-06",
          "2021-06",
          "2021-07",
          "2021-07",
          "2021-07",
          "2021-07",
          "2021-07",
          "2021-08",
          "2021-08",
          "2021-08",
          "2021-08",
          "2021-09",
          "2021-09",
          "2021-09",
          "2021-09",
          "2021-09",
          "2021-10",
          "2021-10",
          "2021-10",
          "2021-10",
          "2021-11",
          "2021-11",
          "2021-11",
          "2021-11",
          "2021-12",
          "2021-12",
          "2021-12",
          "2021-12",
          "2021-12",
          "2022-01",
          "2022-01",
          "2022-01",
          "2022-01",
          "2022-02",
          "2022-02",
          "2022-02",
          "2022-02",
          "2022-03",
          "2022-03",
          "2022-03",
          "2022-03",
          "2022-03",
          "2022-04",
          "2022-04",
          "2022-04",
          "2022-04",
          "2022-05",
          "2022-05",
          "2022-05",
          "2022-05",
          "2022-06",
          "2022-06",
          "2022-06",
          "2022-06",
          "2022-06",
          "2022-07",
          "2022-07",
          "2022-07",
          "2022-07",
          "2022-08",
          "2022-08",
          "2022-08",
          "2022-08",
          "2022-09",
          "2022-09",
          "2022-09",
          "2022-09",
          "2022-09",
          "2022-10",
          "2022-10",
          "2022-10",
          "2022-10",
          "2022-11",
          "2022-11",
          "2022-11",
          "2022-11",
          "2022-12",
          "2022-12",
          "2022-12",
          "2022-12",
          "2022-12",
          "2023-01",
          "2023-01",
          "2023-01",
          "2023-01",
          "2023-02",
          "2023-02",
          "2023-02",
          "2023-02",
          "2023-03",
          "2023-03",
          "2023-03",
          "2023-03",
          "2023-03",
          "2023-04",
          "2023-04",
          "2023-04",
          "2023-04",
          "2023-05",
          "2023-05",
          "2023-05",
          "2023-05",
          "2023-06",
          "2023-06",
          "2023-06",
          "2023-06",
          "2023-06",
          "2023-07",
          "2023-07",
          "2023-07",
          "2023-07",
          "2023-08",
          "2023-08",
          "2023-08",
          "2023-08",
          "2023-08",
          "2023-09",
          "2023-09",
          "2023-09",
          "2023-09",
          "2023-10",
          "2023-10",
          "2023-10",
          "2023-10",
          "2023-11",
          "2023-11",
          "2023-11",
          "2023-11",
          "2023-11",
          "2023-12",
          "2023-12",
          "2023-12",
          "2023-12",
          "2024-01",
          "2024-01",
          "2024-01",
          "2024-01",
          "2024-02",
          "2024-02",
          "2024-02",
          "2024-02",
          "2024-02",
          "2024-03",
          "2024-03",
          "2024-03",
          "2024-03",
          "2024-04",
          "2024-04",
          "2024-04",
          "2024-04",
          "2024-05",
          "2024-05",
          "2024-05",
          "2024-05",
          "2024-05",
          "2024-06",
          "2024-06",
          "2024-06",
          "2024-06",
          "2024-07",
          "2024-07",
          "2024-07",
          "2024-07",
          "2024-08",
          "2024-08",
          "2024-08",
          "2024-08",
          "2024-08",
          "2024-09",
          "2024-09",
          "2024-09",
          "2024-09",
          "2024-10",
          "2024-10",
          "2024-10",
          "2024-10",
          "2024-10",
          "2024-11",
          "2024-11",
          "2024-11",
          "2024-11",
          "2024-12",
          "2024-12",
          "2024-12",
          "2024-12",
          "2025-01",
          "2025-01",
          "2025-01",
          "2025-01",
          "2025-01",
          "2025-02",
          "2025-02",
          "2025-02",
          "2025-02",
          "2025-03",
          "2025-03",
          "2025-03",
          "2025-03",
          "2025-04",
          "2025-04"
         ],
         "xaxis": "x",
         "y": {
          "bdata": "AAAAAAAAAAAAAAAAAAAAAAAAAAAAAAAAAAAAAAAAAAAAAAAAAAAAAAAAAAAAAAAAAAAAAAAAAAAAAAAAAAAAAAAAAAAAAAAAAAAAAAAAAAAAAAAAAAAAAAAAAAAAAAAAAAAAAAAAAAAAAAAAAAAAAAAAAAAAAAAAAAAAAAAAAAAAAAAAAAAAAAAAAAAAAAAAAAAAAAAAAAAAAAAAAAAAAAAAAAAAAAhAAAAAAAAAGEAAAAAAAAAiQAAAAAAAQFlAAAAAAAAAWkAAAAAAAMBaQAAAAAAAYGlAAAAAAAAAaUAAAAAAACBqQAAAAAAAEHlAAAAAAAAweUAAAAAAACiGQAAAAAAAkHlAAAAAAAAgakAAAAAAAMBpQAAAAAAAAFpAAAAAAADAWkAAAAAAAEBZQAAAAAAAACJAAAAAAAAACEAAAAAAAAAIQAAAAAAAAAhAAAAAAAAAAAAAAAAAAAAAAAAAAAAAAAAAAAAAAAAAAAAAAAAAAAAAAAAAAAAAAAAAAAAAAAAAAAAAAAAAAAAAAAAAAAAAAAAAAAAAAAAAAAAAAAAAAAAAAAAAAAAAAAAAAAAAAAAAAAAAAAAAAAAAAAAAAAAAAAAAAAAAAAAAAAAAAAAAAAAAAAAAAAAAAAAAAAAAAAAAAAAAAAAAAAAIQAAAAAAAAAAAAAAAAAAAAAAAAAAAAAAAAAAAAAAAAAAAAAAAAAAAAAAAAAAAAAAAAAAAAAAAAAAAAAAAAAAAAAAAAAAAAAAAAAAAAAAAABhAAAAAAAAACEAAAAAAAAAIQAAAAAAAACJAAAAAAAAAaUAAAAAAAMBaQAAAAAAAQH9AAAAAAADQckAAAAAAAABpQAAAAAAAAGlAAAAAAABgaUAAAAAAAIBpQAAAAAAAYGlAAAAAAACAaUAAAAAAAMBpQAAAAAAAAGlAAAAAAAAgaUAAAAAAAEBZQAAAAAAAACJAAAAAAAAACEAAAAAAAAAYQAAAAAAAAAhAAAAAAAAACEAAAAAAAAAAAAAAAAAAAAAAAAAAAAAAAAAAAAAAAAAIQAAAAAAAAAAAAAAAAAAAAAAAAAAAAAAAAAAAAAAAAAAAAAAAAAAACEAAAAAAAAAAAAAAAAAAAAAAAAAAAAAAAAAAAAAAAAAAAAAAAAAAAAAAAAAAAAAAAAAAAAAAAAAAAAAAAAAAAAAAAAAAAAAAAAAAAAAAAAAAAAAAAAAAAAAAAAAAAAAAAAAAAAAAAAAAAAAAAAAAAAAAAAAAAAAACEAAAAAAAAAAAAAAAAAAAAAAAAAAAAAAAAAAAAAAAAAIQAAAAAAAAAhAAAAAAAAAAAAAAAAAAAAIQAAAAAAAAAhAAAAAAAAACEAAAAAAAAAAAAAAAAAAABhAAAAAAAAAGEAAAAAAAAAiQAAAAAAAACJAAAAAAAAAIkAAAAAAAABaQAAAAAAAAFpAAAAAAADgaUAAAAAAAMBaQAAAAAAAQFlAAAAAAAAAIkAAAAAAAMBaQAAAAAAAAGlAAAAAAACAaUAAAAAAAABaQAAAAAAAAGlAAAAAAAAAWkAAAAAAAEBZQAAAAAAAABhAAAAAAAAAAAAAAAAAAAAAAAAAAAAAAAhAAAAAAAAAAAAAAAAAAAAAAAAAAAAAAAhAAAAAAAAAAAAAAAAAAAAAAAAAAAAAAAAAAAAAAAAAAAAAAAAAAAAAAAAAAAAAAAAAAAAAAAAAAAAAAAAAAAAAAAAAAAAAAAhAAAAAAAAAAAAAAAAAAAAAAAAAAAAAAAAAAAAAAAAAAAAAAAAAAAAAAAAAAAAAAAAAAAAAAAAAAAAAAAAAAAAAAAAAAAAAAAAAAAAAAAAAAAAAAAAAAAAAAAAAAAAAAAAAAAAAAAAACEAAAAAAAAAYQAAAAAAAAAAAAAAAAAAACEAAAAAAAAAYQAAAAAAAAGlAAAAAAAAAWkAAAAAAACBqQAAAAAAAQHlAAAAAAACAaUAAAAAAAOBpQAAAAAAA8HJAAAAAAAAgc0AAAAAAACBzQAAAAAAAMHNAAAAAAADQckAAAAAAAMBpQAAAAAAAYGlAAAAAAACAaUAAAAAAAABaQAAAAAAAwFpAAAAAAAAAWkAAAAAAAEBZQAAAAAAAQFlAAAAAAAAAGEAAAAAAAAAYQAAAAAAAAAAAAAAAAAAAAAAAAAAAAAAAAAAAAAAAAAAAAAAAAAAAAAAAAAAAAAAAAAAAAAAAAAAAAAAAAAAAAAAAAAAAAAAAAAAAAAAAAAhAAAAAAAAAAAAAAAAAAAAAAAAAAAAAAAAAAAAAAAAAAAAAAAAAAAAIQAAAAAAAAAAAAAAAAAAAAAAAAAAAAAAAAAAAAAAAAAAAAAAAAAAAAAAAAAAAAAAAAAAAAAAAAAAAAAAAAAAAAAAAAAAAAAAAAAAAAAAAAAAAAAAAAAAAAAAAAAAAAAAAAAAAAAAAAAAAAAAAAAAAGEAAAAAAAAAYQAAAAAAAAAhAAAAAAAAAGEAAAAAAAEBbQAAAAAAAwFpAAAAAAABAWUAAAAAAAGBpQAAAAAAAACJAAAAAAAAAWkAAAAAAAABpQAAAAAAAwFpAAAAAAAAgaUAAAAAAAABaQAAAAAAAAGlAAAAAAAAAWkAAAAAAAABpQAAAAAAAwFpAAAAAAAAAIkAAAAAAAAAAAAAAAAAAAAAAAAAAAAAAAAAAAAAAAAAAAAAAAAAAAAAAAAAAAAAAAAAAAAAAAAAAAAAAAAAAAAAAAAAAAAAAAAAAAAAAAAAAAAAAAAAAAAAAAAAAAAAAAAAAAAAAAAAAAAAAAAAAAAAAAAAAAAAAAAAAAAAAAAAAAAAAAAAAAAAAAAAAAAAAAAAAAAAAAAAAAAAAAAAAAAAAAAAAAAAAAAAAAAAAAAAAAAAAAAAAAAAAAAAAAAAAAAAAAAAAAAAAAAAAAAAAAAAAAAAAAAAAAAAAAAAAAAAAAAAAAAAAAAAAAAAAAAAAAAAAAAAAAAAAAAAAAAAAAAAAAAAAAAAAAAAAAAAAAAAAAAAAAAAAAAAAAAAAAAAAAAAAAAAAAAAAAAAAAAAAAAAAAAAAAAAAAAAAAAAAAAAAAAAAAAAAAAAAAAAAAAAAAAAAAAAAAAAAAAAAAAAAAAAAAAAAAAAAAAAAAAAAAAAAAAAAAAAAAAAAAAAAAAAAAAAAAAAAAAAAAAAAAAAAAAAAAAAAAAAAAAAAAAAAAAAAAAAAAAAAAAAAAAAAAAAAAAAAAAAAAAAAAAAAAAAAAAAAAAAAAAAAAAAAAAAAAAAAAAAAAAAAAAAAAAAAAAAAAAAAAAAAAAAAAAAAAAAAAAAAAAAAAAAAAAAAAAAAAAAAAAAAAAAAAAAAAAAAAAAAAAAAAAAAAAAAAAAAAAAAAAAAAAAAAAAAAAAAAAAAAAAAAAAAAAAAAAAAAAAAAAAAAAAAAAAAAAAAAAAAAAAAAAAAAAAAAAAAAAAAAAAAAAAAAAAAAAAAAAAAAAAAAAAAAAAAAAAAAAAAAAAAAAAAAAAAAAAAAAAAAAAAAAAAAAAAAAAAAAAAAAhAAAAAAAAAAAAAAAAAAAAIQAAAAAAAAAhAAAAAAAAAGEAAAAAAAABaQAAAAAAAAFpAAAAAAABAWUAAAAAAAIBpQAAAAAAAgGlAAAAAAADAWkAAAAAAAAAYQAAAAAAAABhAAAAAAAAAAAAAAAAAAAAAAAAAAAAAAAAAAAAAAAAAAAAAAAAAAAAAAAAAAAAAAAAAAAAAAAAAAAAAAAAAAAAYQAAAAAAAACJAAAAAAAAAGEAAAAAAAAAiQAAAAAAAAFpAAAAAAAAAWkAAAAAAAAAiQAAAAAAAAAhAAAAAAAAAGEAAAAAAAAAIQAAAAAAAAAhAAAAAAAAAAAAAAAAAAAAIQAAAAAAAAAAAAAAAAAAAAAAAAAAAAAAIQAAAAAAAAAAAAAAAAAAAAAAAAAAAAAAAAAAAAAAAAAAAAAAAAAAAAAAAAAAAAAAAAAAAAAAAAAAAAAAAAAAAAAAAAAAAAAAAAAAAAAAAAAAAAAAAAAAAAAAAAAAAAAAAAAAAAAAAAAAAAAAAAAAAAAAAAAAAAAAAAAAAAAAAAAAAAAAAAAAAAAAAAAAAAAAAAAAAAAAAAAAAAAAAAAAAAAAAAAAAAAAYQAAAAAAAACJAAAAAAAAAaUAAAAAAAMBpQAAAAAAAUHNAAAAAAAAojEAAAAAAAIB/QAAAAAAA4GlAAAAAAADAWkAAAAAAAABpQAAAAAAAwFpAAAAAAADAWkAAAAAAAMBpQAAAAAAAAFpAAAAAAABAWUAAAAAAAABpQAAAAAAAwFpAAAAAAADAWkAAAAAAAEBZQAAAAAAAAFpAAAAAAAAAWkAAAAAAAABaQAAAAAAAACJAAAAAAAAAGEAAAAAAAAAiQAAAAAAAACJAAAAAAAAACEAAAAAAAAAAAAAAAAAAAAhAAAAAAAAACEAAAAAAAAAIQAAAAAAAAAAAAAAAAAAAAAAAAAAAAAAIQAAAAAAAAAAAAAAAAAAAAAAAAAAAAAAAAAAAAAAAAAAAAAAAAAAAAAAAAAAAAAAAAAAAAAAAAAAAAAAAAAAAAAAAAAAAAAAAAAAAAAAAAAAAAAAAAAAACEAAAAAAAAAIQAAAAAAAAAAAAAAAAAAAAAAAAAAAAAAYQAAAAAAAAAhAAAAAAAAACEAAAAAAAAAAAAAAAAAAAAhAAAAAAABAWUAAAAAAAIBpQAAAAAAAAGlAAAAAAAAAc0AAAAAAAHB5QAAAAAAAYHlAAAAAAABQc0AAAAAAAOBpQAAAAAAAAHNAAAAAAAAAc0AAAAAAAABpQAAAAAAAIHNAAAAAAACAaUAAAAAAAABpQAAAAAAAwFpAAAAAAADAWkAAAAAAAAAiQAAAAAAAACJAAAAAAAAACEAAAAAAAAAIQAAAAAAAAAhAAAAAAAAAGEAAAAAAAAAYQAAAAAAAAAhAAAAAAAAACEAAAAAAAAAYQAAAAAAAABhAAAAAAAAAAAAAAAAAAAAIQAAAAAAAAAAAAAAAAAAAAAAAAAAAAAAAAAAAAAAAAAAAAAAAAAAAAAAAAAAAAAAAAAAAAAAAAAAAAAAAAAAACEAAAAAAAAAAAAAAAAAAAAAAAAAAAAAAAAAAAAAAAAAAAAAAAAAAAAAAAAAAAAAAAAAAAAAAAAAAAAAAAAAAAAAAAAAAAAAACEAAAAAAAAAAAAAAAAAAAAAAAAAAAAAAAAAAAAAAAAAAAAAAAAAAAAhAAAAAAAAAAAAAAAAAAAAIQAAAAAAAAAAAAAAAAABAWUAAAAAAAAAiQAAAAAAAwFpAAAAAAADAWkAAAAAAAMBpQAAAAAAAQFtAAAAAAADAWkAAAAAAAABpQAAAAAAAwFpAAAAAAADQckAAAAAAAIB/QAAAAAAAUH9AAAAAAABwf0AAAAAAACBpQAAAAAAA4GlAAAAAAADAaUAAAAAAAMBaQAAAAAAAQFlA",
          "dtype": "f8"
         },
         "yaxis": "y"
        }
       ],
       "layout": {
        "legend": {
         "title": {
          "text": "Vårdform"
         },
         "tracegroupgap": 0
        },
        "margin": {
         "t": 60
        },
        "plot_bgcolor": "white",
        "template": {
         "data": {
          "bar": [
           {
            "error_x": {
             "color": "#2a3f5f"
            },
            "error_y": {
             "color": "#2a3f5f"
            },
            "marker": {
             "line": {
              "color": "#E5ECF6",
              "width": 0.5
             },
             "pattern": {
              "fillmode": "overlay",
              "size": 10,
              "solidity": 0.2
             }
            },
            "type": "bar"
           }
          ],
          "barpolar": [
           {
            "marker": {
             "line": {
              "color": "#E5ECF6",
              "width": 0.5
             },
             "pattern": {
              "fillmode": "overlay",
              "size": 10,
              "solidity": 0.2
             }
            },
            "type": "barpolar"
           }
          ],
          "carpet": [
           {
            "aaxis": {
             "endlinecolor": "#2a3f5f",
             "gridcolor": "white",
             "linecolor": "white",
             "minorgridcolor": "white",
             "startlinecolor": "#2a3f5f"
            },
            "baxis": {
             "endlinecolor": "#2a3f5f",
             "gridcolor": "white",
             "linecolor": "white",
             "minorgridcolor": "white",
             "startlinecolor": "#2a3f5f"
            },
            "type": "carpet"
           }
          ],
          "choropleth": [
           {
            "colorbar": {
             "outlinewidth": 0,
             "ticks": ""
            },
            "type": "choropleth"
           }
          ],
          "contour": [
           {
            "colorbar": {
             "outlinewidth": 0,
             "ticks": ""
            },
            "colorscale": [
             [
              0,
              "#0d0887"
             ],
             [
              0.1111111111111111,
              "#46039f"
             ],
             [
              0.2222222222222222,
              "#7201a8"
             ],
             [
              0.3333333333333333,
              "#9c179e"
             ],
             [
              0.4444444444444444,
              "#bd3786"
             ],
             [
              0.5555555555555556,
              "#d8576b"
             ],
             [
              0.6666666666666666,
              "#ed7953"
             ],
             [
              0.7777777777777778,
              "#fb9f3a"
             ],
             [
              0.8888888888888888,
              "#fdca26"
             ],
             [
              1,
              "#f0f921"
             ]
            ],
            "type": "contour"
           }
          ],
          "contourcarpet": [
           {
            "colorbar": {
             "outlinewidth": 0,
             "ticks": ""
            },
            "type": "contourcarpet"
           }
          ],
          "heatmap": [
           {
            "colorbar": {
             "outlinewidth": 0,
             "ticks": ""
            },
            "colorscale": [
             [
              0,
              "#0d0887"
             ],
             [
              0.1111111111111111,
              "#46039f"
             ],
             [
              0.2222222222222222,
              "#7201a8"
             ],
             [
              0.3333333333333333,
              "#9c179e"
             ],
             [
              0.4444444444444444,
              "#bd3786"
             ],
             [
              0.5555555555555556,
              "#d8576b"
             ],
             [
              0.6666666666666666,
              "#ed7953"
             ],
             [
              0.7777777777777778,
              "#fb9f3a"
             ],
             [
              0.8888888888888888,
              "#fdca26"
             ],
             [
              1,
              "#f0f921"
             ]
            ],
            "type": "heatmap"
           }
          ],
          "histogram": [
           {
            "marker": {
             "pattern": {
              "fillmode": "overlay",
              "size": 10,
              "solidity": 0.2
             }
            },
            "type": "histogram"
           }
          ],
          "histogram2d": [
           {
            "colorbar": {
             "outlinewidth": 0,
             "ticks": ""
            },
            "colorscale": [
             [
              0,
              "#0d0887"
             ],
             [
              0.1111111111111111,
              "#46039f"
             ],
             [
              0.2222222222222222,
              "#7201a8"
             ],
             [
              0.3333333333333333,
              "#9c179e"
             ],
             [
              0.4444444444444444,
              "#bd3786"
             ],
             [
              0.5555555555555556,
              "#d8576b"
             ],
             [
              0.6666666666666666,
              "#ed7953"
             ],
             [
              0.7777777777777778,
              "#fb9f3a"
             ],
             [
              0.8888888888888888,
              "#fdca26"
             ],
             [
              1,
              "#f0f921"
             ]
            ],
            "type": "histogram2d"
           }
          ],
          "histogram2dcontour": [
           {
            "colorbar": {
             "outlinewidth": 0,
             "ticks": ""
            },
            "colorscale": [
             [
              0,
              "#0d0887"
             ],
             [
              0.1111111111111111,
              "#46039f"
             ],
             [
              0.2222222222222222,
              "#7201a8"
             ],
             [
              0.3333333333333333,
              "#9c179e"
             ],
             [
              0.4444444444444444,
              "#bd3786"
             ],
             [
              0.5555555555555556,
              "#d8576b"
             ],
             [
              0.6666666666666666,
              "#ed7953"
             ],
             [
              0.7777777777777778,
              "#fb9f3a"
             ],
             [
              0.8888888888888888,
              "#fdca26"
             ],
             [
              1,
              "#f0f921"
             ]
            ],
            "type": "histogram2dcontour"
           }
          ],
          "mesh3d": [
           {
            "colorbar": {
             "outlinewidth": 0,
             "ticks": ""
            },
            "type": "mesh3d"
           }
          ],
          "parcoords": [
           {
            "line": {
             "colorbar": {
              "outlinewidth": 0,
              "ticks": ""
             }
            },
            "type": "parcoords"
           }
          ],
          "pie": [
           {
            "automargin": true,
            "type": "pie"
           }
          ],
          "scatter": [
           {
            "fillpattern": {
             "fillmode": "overlay",
             "size": 10,
             "solidity": 0.2
            },
            "type": "scatter"
           }
          ],
          "scatter3d": [
           {
            "line": {
             "colorbar": {
              "outlinewidth": 0,
              "ticks": ""
             }
            },
            "marker": {
             "colorbar": {
              "outlinewidth": 0,
              "ticks": ""
             }
            },
            "type": "scatter3d"
           }
          ],
          "scattercarpet": [
           {
            "marker": {
             "colorbar": {
              "outlinewidth": 0,
              "ticks": ""
             }
            },
            "type": "scattercarpet"
           }
          ],
          "scattergeo": [
           {
            "marker": {
             "colorbar": {
              "outlinewidth": 0,
              "ticks": ""
             }
            },
            "type": "scattergeo"
           }
          ],
          "scattergl": [
           {
            "marker": {
             "colorbar": {
              "outlinewidth": 0,
              "ticks": ""
             }
            },
            "type": "scattergl"
           }
          ],
          "scattermap": [
           {
            "marker": {
             "colorbar": {
              "outlinewidth": 0,
              "ticks": ""
             }
            },
            "type": "scattermap"
           }
          ],
          "scattermapbox": [
           {
            "marker": {
             "colorbar": {
              "outlinewidth": 0,
              "ticks": ""
             }
            },
            "type": "scattermapbox"
           }
          ],
          "scatterpolar": [
           {
            "marker": {
             "colorbar": {
              "outlinewidth": 0,
              "ticks": ""
             }
            },
            "type": "scatterpolar"
           }
          ],
          "scatterpolargl": [
           {
            "marker": {
             "colorbar": {
              "outlinewidth": 0,
              "ticks": ""
             }
            },
            "type": "scatterpolargl"
           }
          ],
          "scatterternary": [
           {
            "marker": {
             "colorbar": {
              "outlinewidth": 0,
              "ticks": ""
             }
            },
            "type": "scatterternary"
           }
          ],
          "surface": [
           {
            "colorbar": {
             "outlinewidth": 0,
             "ticks": ""
            },
            "colorscale": [
             [
              0,
              "#0d0887"
             ],
             [
              0.1111111111111111,
              "#46039f"
             ],
             [
              0.2222222222222222,
              "#7201a8"
             ],
             [
              0.3333333333333333,
              "#9c179e"
             ],
             [
              0.4444444444444444,
              "#bd3786"
             ],
             [
              0.5555555555555556,
              "#d8576b"
             ],
             [
              0.6666666666666666,
              "#ed7953"
             ],
             [
              0.7777777777777778,
              "#fb9f3a"
             ],
             [
              0.8888888888888888,
              "#fdca26"
             ],
             [
              1,
              "#f0f921"
             ]
            ],
            "type": "surface"
           }
          ],
          "table": [
           {
            "cells": {
             "fill": {
              "color": "#EBF0F8"
             },
             "line": {
              "color": "white"
             }
            },
            "header": {
             "fill": {
              "color": "#C8D4E3"
             },
             "line": {
              "color": "white"
             }
            },
            "type": "table"
           }
          ]
         },
         "layout": {
          "annotationdefaults": {
           "arrowcolor": "#2a3f5f",
           "arrowhead": 0,
           "arrowwidth": 1
          },
          "autotypenumbers": "strict",
          "coloraxis": {
           "colorbar": {
            "outlinewidth": 0,
            "ticks": ""
           }
          },
          "colorscale": {
           "diverging": [
            [
             0,
             "#8e0152"
            ],
            [
             0.1,
             "#c51b7d"
            ],
            [
             0.2,
             "#de77ae"
            ],
            [
             0.3,
             "#f1b6da"
            ],
            [
             0.4,
             "#fde0ef"
            ],
            [
             0.5,
             "#f7f7f7"
            ],
            [
             0.6,
             "#e6f5d0"
            ],
            [
             0.7,
             "#b8e186"
            ],
            [
             0.8,
             "#7fbc41"
            ],
            [
             0.9,
             "#4d9221"
            ],
            [
             1,
             "#276419"
            ]
           ],
           "sequential": [
            [
             0,
             "#0d0887"
            ],
            [
             0.1111111111111111,
             "#46039f"
            ],
            [
             0.2222222222222222,
             "#7201a8"
            ],
            [
             0.3333333333333333,
             "#9c179e"
            ],
            [
             0.4444444444444444,
             "#bd3786"
            ],
            [
             0.5555555555555556,
             "#d8576b"
            ],
            [
             0.6666666666666666,
             "#ed7953"
            ],
            [
             0.7777777777777778,
             "#fb9f3a"
            ],
            [
             0.8888888888888888,
             "#fdca26"
            ],
            [
             1,
             "#f0f921"
            ]
           ],
           "sequentialminus": [
            [
             0,
             "#0d0887"
            ],
            [
             0.1111111111111111,
             "#46039f"
            ],
            [
             0.2222222222222222,
             "#7201a8"
            ],
            [
             0.3333333333333333,
             "#9c179e"
            ],
            [
             0.4444444444444444,
             "#bd3786"
            ],
            [
             0.5555555555555556,
             "#d8576b"
            ],
            [
             0.6666666666666666,
             "#ed7953"
            ],
            [
             0.7777777777777778,
             "#fb9f3a"
            ],
            [
             0.8888888888888888,
             "#fdca26"
            ],
            [
             1,
             "#f0f921"
            ]
           ]
          },
          "colorway": [
           "#636efa",
           "#EF553B",
           "#00cc96",
           "#ab63fa",
           "#FFA15A",
           "#19d3f3",
           "#FF6692",
           "#B6E880",
           "#FF97FF",
           "#FECB52"
          ],
          "font": {
           "color": "#2a3f5f"
          },
          "geo": {
           "bgcolor": "white",
           "lakecolor": "white",
           "landcolor": "#E5ECF6",
           "showlakes": true,
           "showland": true,
           "subunitcolor": "white"
          },
          "hoverlabel": {
           "align": "left"
          },
          "hovermode": "closest",
          "mapbox": {
           "style": "light"
          },
          "paper_bgcolor": "white",
          "plot_bgcolor": "#E5ECF6",
          "polar": {
           "angularaxis": {
            "gridcolor": "white",
            "linecolor": "white",
            "ticks": ""
           },
           "bgcolor": "#E5ECF6",
           "radialaxis": {
            "gridcolor": "white",
            "linecolor": "white",
            "ticks": ""
           }
          },
          "scene": {
           "xaxis": {
            "backgroundcolor": "#E5ECF6",
            "gridcolor": "white",
            "gridwidth": 2,
            "linecolor": "white",
            "showbackground": true,
            "ticks": "",
            "zerolinecolor": "white"
           },
           "yaxis": {
            "backgroundcolor": "#E5ECF6",
            "gridcolor": "white",
            "gridwidth": 2,
            "linecolor": "white",
            "showbackground": true,
            "ticks": "",
            "zerolinecolor": "white"
           },
           "zaxis": {
            "backgroundcolor": "#E5ECF6",
            "gridcolor": "white",
            "gridwidth": 2,
            "linecolor": "white",
            "showbackground": true,
            "ticks": "",
            "zerolinecolor": "white"
           }
          },
          "shapedefaults": {
           "line": {
            "color": "#2a3f5f"
           }
          },
          "ternary": {
           "aaxis": {
            "gridcolor": "white",
            "linecolor": "white",
            "ticks": ""
           },
           "baxis": {
            "gridcolor": "white",
            "linecolor": "white",
            "ticks": ""
           },
           "bgcolor": "#E5ECF6",
           "caxis": {
            "gridcolor": "white",
            "linecolor": "white",
            "ticks": ""
           }
          },
          "title": {
           "x": 0.05
          },
          "xaxis": {
           "automargin": true,
           "gridcolor": "white",
           "linecolor": "white",
           "ticks": "",
           "title": {
            "standoff": 15
           },
           "zerolinecolor": "white",
           "zerolinewidth": 2
          },
          "yaxis": {
           "automargin": true,
           "gridcolor": "white",
           "linecolor": "white",
           "ticks": "",
           "title": {
            "standoff": 15
           },
           "zerolinecolor": "white",
           "zerolinewidth": 2
          }
         }
        },
        "xaxis": {
         "anchor": "y",
         "domain": [
          0,
          1
         ],
         "title": {
          "text": "Datum"
         }
        },
        "yaxis": {
         "anchor": "x",
         "domain": [
          0,
          1
         ],
         "title": {
          "text": "DATA"
         }
        }
       }
      }
     },
     "metadata": {},
     "output_type": "display_data"
    }
   ],
   "source": [
    "fig = px.line(df_vård, x=\"Datum\", y=\"DATA\",markers=False,color=\"Vårdform\")\n",
    "\n",
    "fig.update_traces(line=dict(width= 3))\n",
    "fig.update_layout(plot_bgcolor=\"white\")\n",
    "\n",
    "fig.show()"
   ]
  },
  {
   "cell_type": "code",
   "execution_count": 222,
   "id": "201aa560",
   "metadata": {},
   "outputs": [
    {
     "data": {
      "application/vnd.plotly.v1+json": {
       "config": {
        "plotlyServerURL": "https://plot.ly"
       },
       "data": [
        {
         "hovertemplate": "Vårdform=Intensivvård<br>Datum=%{x}<br>DATA=%{y}<extra></extra>",
         "legendgroup": "Intensivvård",
         "line": {
          "color": "#636efa",
          "dash": "solid",
          "width": 2
         },
         "marker": {
          "symbol": "circle"
         },
         "mode": "lines+markers",
         "name": "Intensivvård",
         "orientation": "v",
         "showlegend": true,
         "type": "scatter",
         "x": [
          "2015-07",
          "2015-08",
          "2015-09",
          "2015-10",
          "2015-11",
          "2015-12",
          "2016-01",
          "2016-02",
          "2016-03",
          "2016-04",
          "2016-05",
          "2016-06",
          "2016-07",
          "2016-08",
          "2016-09",
          "2016-10",
          "2016-11",
          "2016-12",
          "2017-01",
          "2017-02",
          "2017-03",
          "2017-04",
          "2017-05",
          "2017-06",
          "2017-07",
          "2017-08",
          "2017-09",
          "2017-10",
          "2017-11",
          "2017-12",
          "2018-01",
          "2018-02",
          "2018-03",
          "2018-04",
          "2018-05",
          "2018-06",
          "2018-07",
          "2018-08",
          "2018-09",
          "2018-10",
          "2018-11",
          "2018-12",
          "2019-01",
          "2019-02",
          "2019-03",
          "2019-04",
          "2019-05",
          "2019-06",
          "2019-07",
          "2019-08",
          "2019-09",
          "2019-10",
          "2019-11",
          "2019-12",
          "2020-01",
          "2020-02",
          "2020-03",
          "2020-04",
          "2020-05",
          "2020-06",
          "2020-07",
          "2020-08",
          "2020-09",
          "2020-10",
          "2020-11",
          "2020-12",
          "2021-01",
          "2021-02",
          "2021-03",
          "2021-04",
          "2021-05",
          "2021-06",
          "2021-07",
          "2021-08",
          "2021-09",
          "2021-10",
          "2021-11",
          "2021-12",
          "2022-01",
          "2022-02",
          "2022-03",
          "2022-04",
          "2022-05",
          "2022-06",
          "2022-07",
          "2022-08",
          "2022-09",
          "2022-10",
          "2022-11",
          "2022-12",
          "2023-01",
          "2023-02",
          "2023-03",
          "2023-04",
          "2023-05",
          "2023-06",
          "2023-07",
          "2023-08",
          "2023-09",
          "2023-10",
          "2023-11",
          "2023-12",
          "2024-01",
          "2024-02",
          "2024-03",
          "2024-04",
          "2024-05",
          "2024-06",
          "2024-07",
          "2024-08",
          "2024-09",
          "2024-10",
          "2024-11",
          "2024-12",
          "2025-01",
          "2025-02",
          "2025-03",
          "2025-04"
         ],
         "xaxis": "x",
         "y": {
          "bdata": "AAAAAAAAAAAAAAAAAAAAAAAAAAAAAAAAAAAAAAAAAAAAAAAAAAAIQAAAAAAAcHRAAAAAAACoj0AAAAAAAAibQAAAAAAAeIBAAAAAAAAAIkAAAAAAAAAAAAAAAAAAAAAAAAAAAAAAAAAAAAAAAAAAAAAAAAAAAAhAAAAAAAAAAAAAAAAAAAAiQAAAAAAAmIlAAAAAAABAjEAAAAAAAIiJQAAAAAAAEIBAAAAAAAAAKEAAAAAAAAAIQAAAAAAAAAhAAAAAAAAAAAAAAAAAAAAAAAAAAAAAAAAAAAAAAAAACEAAAAAAAAAoQAAAAAAAAC5AAAAAAABgYEAAAAAAADiAQAAAAAAAgINAAAAAAACweUAAAAAAAAAIQAAAAAAAAAhAAAAAAAAAAAAAAAAAAAAIQAAAAAAAAAAAAAAAAAAAAAAAAAAAAAAoQAAAAAAAOIBAAAAAAABAlkAAAAAAAICRQAAAAAAAUINAAAAAAACAc0AAAAAAAAAYQAAAAAAAAAAAAAAAAAAACEAAAAAAAAAIQAAAAAAAAAAAAAAAAAAAAAAAAAAAAAAoQAAAAAAAIGxAAAAAAABIg0AAAAAAACCDQAAAAAAAQHpAAAAAAAAAAAAAAAAAAAAAAAAAAAAAAAAAAAAAAAAAAAAAAAAAAAAAAAAAAAAAAAAAAAAAAAAAAAAAAAAAAAAAAAAAAAAAAAAAAAAAAAAAAAAAAAAAAAAAAAAAAAAAAAAAAAAAAAAAAAAAAAAAAAAAAAAAAAAAAAAAAAAAAAAAAAAAAAAAAAAAAAAAAAAAAAAAAAAAAAAACEAAAAAAAAAoQAAAAAAAaIZAAAAAAADAXUAAAAAAAAAAAAAAAAAAADVAAAAAAABAbEAAAAAAAAAuQAAAAAAAABhAAAAAAAAAAAAAAAAAAAAAAAAAAAAAAAAAAAAAAAAAAAAAAAAAAAAYQAAAAAAAZJlAAAAAAADQj0AAAAAAAGCAQAAAAAAAQINAAAAAAAAQdEAAAAAAAAA7QAAAAAAAACJAAAAAAAAACEAAAAAAAAAAAAAAAAAAAAhAAAAAAAAAIkAAAAAAAIBbQAAAAAAAbJFAAAAAAAAok0AAAAAAAPiSQAAAAAAAAG1AAAAAAAAALkAAAAAAAAA4QAAAAAAAAAhAAAAAAAAAAAAAAAAAAAAIQAAAAAAAAAAAAAAAAAAACEAAAAAAAAAYQAAAAAAAIGtAAAAAAADIhkAAAAAAABSWQAAAAAAAdJFAAAAAAAAAakA=",
          "dtype": "f8"
         },
         "yaxis": "y"
        },
        {
         "hovertemplate": "Vårdform=Slutenvård<br>Datum=%{x}<br>DATA=%{y}<extra></extra>",
         "legendgroup": "Slutenvård",
         "line": {
          "color": "#EF553B",
          "dash": "solid",
          "width": 2
         },
         "marker": {
          "symbol": "circle"
         },
         "mode": "lines+markers",
         "name": "Slutenvård",
         "orientation": "v",
         "showlegend": true,
         "type": "scatter",
         "x": [
          "2015-07",
          "2015-08",
          "2015-09",
          "2015-10",
          "2015-11",
          "2015-12",
          "2016-01",
          "2016-02",
          "2016-03",
          "2016-04",
          "2016-05",
          "2016-06",
          "2016-07",
          "2016-08",
          "2016-09",
          "2016-10",
          "2016-11",
          "2016-12",
          "2017-01",
          "2017-02",
          "2017-03",
          "2017-04",
          "2017-05",
          "2017-06",
          "2017-07",
          "2017-08",
          "2017-09",
          "2017-10",
          "2017-11",
          "2017-12",
          "2018-01",
          "2018-02",
          "2018-03",
          "2018-04",
          "2018-05",
          "2018-06",
          "2018-07",
          "2018-08",
          "2018-09",
          "2018-10",
          "2018-11",
          "2018-12",
          "2019-01",
          "2019-02",
          "2019-03",
          "2019-04",
          "2019-05",
          "2019-06",
          "2019-07",
          "2019-08",
          "2019-09",
          "2019-10",
          "2019-11",
          "2019-12",
          "2020-01",
          "2020-02",
          "2020-03",
          "2020-04",
          "2020-05",
          "2020-06",
          "2020-07",
          "2020-08",
          "2020-09",
          "2020-10",
          "2020-11",
          "2020-12",
          "2021-01",
          "2021-02",
          "2021-03",
          "2021-04",
          "2021-05",
          "2021-06",
          "2021-07",
          "2021-08",
          "2021-09",
          "2021-10",
          "2021-11",
          "2021-12",
          "2022-01",
          "2022-02",
          "2022-03",
          "2022-04",
          "2022-05",
          "2022-06",
          "2022-07",
          "2022-08",
          "2022-09",
          "2022-10",
          "2022-11",
          "2022-12",
          "2023-01",
          "2023-02",
          "2023-03",
          "2023-04",
          "2023-05",
          "2023-06",
          "2023-07",
          "2023-08",
          "2023-09",
          "2023-10",
          "2023-11",
          "2023-12",
          "2024-01",
          "2024-02",
          "2024-03",
          "2024-04",
          "2024-05",
          "2024-06",
          "2024-07",
          "2024-08",
          "2024-09",
          "2024-10",
          "2024-11",
          "2024-12",
          "2025-01",
          "2025-02",
          "2025-03",
          "2025-04"
         ],
         "xaxis": "x",
         "y": {
          "bdata": "AAAAAAAAKEAAAAAAAAAuQAAAAAAAAAhAAAAAAABAX0AAAAAAAIB5QAAAAAAA3rBAAAAAAABZv0AAAAAAgHnPQAAAAACA+MNAAAAAAACIn0AAAAAAAACAQAAAAAAAADVAAAAAAAAALkAAAAAAAAAiQAAAAAAAAGBAAAAAAACAa0AAAAAAAIicQAAAAADAgdVAAAAAAEC20EAAAAAAwHbSQAAAAAAA6MVAAAAAAAC6o0AAAAAAADyWQAAAAAAAcHRAAAAAAACAW0AAAAAAAAAoQAAAAAAAADtAAAAAAAAAXUAAAAAAAMCUQAAAAAAA4blAAAAAAAC9zEAAAAAA4GriQAAAAABgauJAAAAAAID7wkAAAAAAAJiJQAAAAAAAAC5AAAAAAAAAMkAAAAAAAAAyQAAAAAAAADVAAAAAAAAALkAAAAAAAJiDQAAAAAAAKL5AAAAAAMB100AAAAAAADzUQAAAAACARsdAAAAAAAA0wUAAAAAAAHakQAAAAAAAgGpAAAAAAAAALkAAAAAAAGBqQAAAAAAAADJAAAAAAADAakAAAAAAAGiGQAAAAAAAfrBAAAAAAABFv0AAAAAAgFvEQAAAAAAA+7xAAAAAAADAeUAAAAAAAAAIQAAAAAAAAAhAAAAAAAAAGEAAAAAAAAAAAAAAAAAAAAAAAAAAAAAAGEAAAAAAAAAYQAAAAAAAABhAAAAAAAAALkAAAAAAAAAIQAAAAAAAAChAAAAAAAAAAAAAAAAAAAAYQAAAAAAAABhAAAAAAAAACEAAAAAAAAAoQAAAAAAAAChAAAAAAAAga0AAAAAAACSWQAAAAADAu9RAAAAAAAA4rEAAAAAAAFBzQAAAAAAAVJlAAAAAAACvuEAAAAAAALyqQAAAAAAAGJNAAAAAAABAX0AAAAAAANB/QAAAAAAAgGtAAAAAAADQeUAAAAAAALiMQAAAAAAAC9xAAAAAAACvzkAAAAAAABbHQAAAAAAARshAAAAAAABwskAAAAAAADyZQAAAAAAASIZAAAAAAADAXUAAAAAAAABFQAAAAAAAgF5AAAAAAACwekAAAAAAAN2yQAAAAACALtZAAAAAAAD/0UAAAAAAwMjRQAAAAAAAp7hAAAAAAAAUokAAAAAAAFicQAAAAAAAYHpAAAAAAAAAbUAAAAAAAMB6QAAAAAAAwF1AAAAAAABAg0AAAAAAAHiDQAAAAACAlsJAAAAAAADr1EAAAAAA4CDkQAAAAABAl95AAAAAAAAAAAA=",
          "dtype": "f8"
         },
         "yaxis": "y"
        }
       ],
       "layout": {
        "hovermode": "x unified",
        "legend": {
         "title": {
          "text": "Vårdform"
         },
         "tracegroupgap": 0
        },
        "margin": {
         "t": 60
        },
        "plot_bgcolor": "white",
        "template": {
         "data": {
          "bar": [
           {
            "error_x": {
             "color": "#2a3f5f"
            },
            "error_y": {
             "color": "#2a3f5f"
            },
            "marker": {
             "line": {
              "color": "#E5ECF6",
              "width": 0.5
             },
             "pattern": {
              "fillmode": "overlay",
              "size": 10,
              "solidity": 0.2
             }
            },
            "type": "bar"
           }
          ],
          "barpolar": [
           {
            "marker": {
             "line": {
              "color": "#E5ECF6",
              "width": 0.5
             },
             "pattern": {
              "fillmode": "overlay",
              "size": 10,
              "solidity": 0.2
             }
            },
            "type": "barpolar"
           }
          ],
          "carpet": [
           {
            "aaxis": {
             "endlinecolor": "#2a3f5f",
             "gridcolor": "white",
             "linecolor": "white",
             "minorgridcolor": "white",
             "startlinecolor": "#2a3f5f"
            },
            "baxis": {
             "endlinecolor": "#2a3f5f",
             "gridcolor": "white",
             "linecolor": "white",
             "minorgridcolor": "white",
             "startlinecolor": "#2a3f5f"
            },
            "type": "carpet"
           }
          ],
          "choropleth": [
           {
            "colorbar": {
             "outlinewidth": 0,
             "ticks": ""
            },
            "type": "choropleth"
           }
          ],
          "contour": [
           {
            "colorbar": {
             "outlinewidth": 0,
             "ticks": ""
            },
            "colorscale": [
             [
              0,
              "#0d0887"
             ],
             [
              0.1111111111111111,
              "#46039f"
             ],
             [
              0.2222222222222222,
              "#7201a8"
             ],
             [
              0.3333333333333333,
              "#9c179e"
             ],
             [
              0.4444444444444444,
              "#bd3786"
             ],
             [
              0.5555555555555556,
              "#d8576b"
             ],
             [
              0.6666666666666666,
              "#ed7953"
             ],
             [
              0.7777777777777778,
              "#fb9f3a"
             ],
             [
              0.8888888888888888,
              "#fdca26"
             ],
             [
              1,
              "#f0f921"
             ]
            ],
            "type": "contour"
           }
          ],
          "contourcarpet": [
           {
            "colorbar": {
             "outlinewidth": 0,
             "ticks": ""
            },
            "type": "contourcarpet"
           }
          ],
          "heatmap": [
           {
            "colorbar": {
             "outlinewidth": 0,
             "ticks": ""
            },
            "colorscale": [
             [
              0,
              "#0d0887"
             ],
             [
              0.1111111111111111,
              "#46039f"
             ],
             [
              0.2222222222222222,
              "#7201a8"
             ],
             [
              0.3333333333333333,
              "#9c179e"
             ],
             [
              0.4444444444444444,
              "#bd3786"
             ],
             [
              0.5555555555555556,
              "#d8576b"
             ],
             [
              0.6666666666666666,
              "#ed7953"
             ],
             [
              0.7777777777777778,
              "#fb9f3a"
             ],
             [
              0.8888888888888888,
              "#fdca26"
             ],
             [
              1,
              "#f0f921"
             ]
            ],
            "type": "heatmap"
           }
          ],
          "histogram": [
           {
            "marker": {
             "pattern": {
              "fillmode": "overlay",
              "size": 10,
              "solidity": 0.2
             }
            },
            "type": "histogram"
           }
          ],
          "histogram2d": [
           {
            "colorbar": {
             "outlinewidth": 0,
             "ticks": ""
            },
            "colorscale": [
             [
              0,
              "#0d0887"
             ],
             [
              0.1111111111111111,
              "#46039f"
             ],
             [
              0.2222222222222222,
              "#7201a8"
             ],
             [
              0.3333333333333333,
              "#9c179e"
             ],
             [
              0.4444444444444444,
              "#bd3786"
             ],
             [
              0.5555555555555556,
              "#d8576b"
             ],
             [
              0.6666666666666666,
              "#ed7953"
             ],
             [
              0.7777777777777778,
              "#fb9f3a"
             ],
             [
              0.8888888888888888,
              "#fdca26"
             ],
             [
              1,
              "#f0f921"
             ]
            ],
            "type": "histogram2d"
           }
          ],
          "histogram2dcontour": [
           {
            "colorbar": {
             "outlinewidth": 0,
             "ticks": ""
            },
            "colorscale": [
             [
              0,
              "#0d0887"
             ],
             [
              0.1111111111111111,
              "#46039f"
             ],
             [
              0.2222222222222222,
              "#7201a8"
             ],
             [
              0.3333333333333333,
              "#9c179e"
             ],
             [
              0.4444444444444444,
              "#bd3786"
             ],
             [
              0.5555555555555556,
              "#d8576b"
             ],
             [
              0.6666666666666666,
              "#ed7953"
             ],
             [
              0.7777777777777778,
              "#fb9f3a"
             ],
             [
              0.8888888888888888,
              "#fdca26"
             ],
             [
              1,
              "#f0f921"
             ]
            ],
            "type": "histogram2dcontour"
           }
          ],
          "mesh3d": [
           {
            "colorbar": {
             "outlinewidth": 0,
             "ticks": ""
            },
            "type": "mesh3d"
           }
          ],
          "parcoords": [
           {
            "line": {
             "colorbar": {
              "outlinewidth": 0,
              "ticks": ""
             }
            },
            "type": "parcoords"
           }
          ],
          "pie": [
           {
            "automargin": true,
            "type": "pie"
           }
          ],
          "scatter": [
           {
            "fillpattern": {
             "fillmode": "overlay",
             "size": 10,
             "solidity": 0.2
            },
            "type": "scatter"
           }
          ],
          "scatter3d": [
           {
            "line": {
             "colorbar": {
              "outlinewidth": 0,
              "ticks": ""
             }
            },
            "marker": {
             "colorbar": {
              "outlinewidth": 0,
              "ticks": ""
             }
            },
            "type": "scatter3d"
           }
          ],
          "scattercarpet": [
           {
            "marker": {
             "colorbar": {
              "outlinewidth": 0,
              "ticks": ""
             }
            },
            "type": "scattercarpet"
           }
          ],
          "scattergeo": [
           {
            "marker": {
             "colorbar": {
              "outlinewidth": 0,
              "ticks": ""
             }
            },
            "type": "scattergeo"
           }
          ],
          "scattergl": [
           {
            "marker": {
             "colorbar": {
              "outlinewidth": 0,
              "ticks": ""
             }
            },
            "type": "scattergl"
           }
          ],
          "scattermap": [
           {
            "marker": {
             "colorbar": {
              "outlinewidth": 0,
              "ticks": ""
             }
            },
            "type": "scattermap"
           }
          ],
          "scattermapbox": [
           {
            "marker": {
             "colorbar": {
              "outlinewidth": 0,
              "ticks": ""
             }
            },
            "type": "scattermapbox"
           }
          ],
          "scatterpolar": [
           {
            "marker": {
             "colorbar": {
              "outlinewidth": 0,
              "ticks": ""
             }
            },
            "type": "scatterpolar"
           }
          ],
          "scatterpolargl": [
           {
            "marker": {
             "colorbar": {
              "outlinewidth": 0,
              "ticks": ""
             }
            },
            "type": "scatterpolargl"
           }
          ],
          "scatterternary": [
           {
            "marker": {
             "colorbar": {
              "outlinewidth": 0,
              "ticks": ""
             }
            },
            "type": "scatterternary"
           }
          ],
          "surface": [
           {
            "colorbar": {
             "outlinewidth": 0,
             "ticks": ""
            },
            "colorscale": [
             [
              0,
              "#0d0887"
             ],
             [
              0.1111111111111111,
              "#46039f"
             ],
             [
              0.2222222222222222,
              "#7201a8"
             ],
             [
              0.3333333333333333,
              "#9c179e"
             ],
             [
              0.4444444444444444,
              "#bd3786"
             ],
             [
              0.5555555555555556,
              "#d8576b"
             ],
             [
              0.6666666666666666,
              "#ed7953"
             ],
             [
              0.7777777777777778,
              "#fb9f3a"
             ],
             [
              0.8888888888888888,
              "#fdca26"
             ],
             [
              1,
              "#f0f921"
             ]
            ],
            "type": "surface"
           }
          ],
          "table": [
           {
            "cells": {
             "fill": {
              "color": "#EBF0F8"
             },
             "line": {
              "color": "white"
             }
            },
            "header": {
             "fill": {
              "color": "#C8D4E3"
             },
             "line": {
              "color": "white"
             }
            },
            "type": "table"
           }
          ]
         },
         "layout": {
          "annotationdefaults": {
           "arrowcolor": "#2a3f5f",
           "arrowhead": 0,
           "arrowwidth": 1
          },
          "autotypenumbers": "strict",
          "coloraxis": {
           "colorbar": {
            "outlinewidth": 0,
            "ticks": ""
           }
          },
          "colorscale": {
           "diverging": [
            [
             0,
             "#8e0152"
            ],
            [
             0.1,
             "#c51b7d"
            ],
            [
             0.2,
             "#de77ae"
            ],
            [
             0.3,
             "#f1b6da"
            ],
            [
             0.4,
             "#fde0ef"
            ],
            [
             0.5,
             "#f7f7f7"
            ],
            [
             0.6,
             "#e6f5d0"
            ],
            [
             0.7,
             "#b8e186"
            ],
            [
             0.8,
             "#7fbc41"
            ],
            [
             0.9,
             "#4d9221"
            ],
            [
             1,
             "#276419"
            ]
           ],
           "sequential": [
            [
             0,
             "#0d0887"
            ],
            [
             0.1111111111111111,
             "#46039f"
            ],
            [
             0.2222222222222222,
             "#7201a8"
            ],
            [
             0.3333333333333333,
             "#9c179e"
            ],
            [
             0.4444444444444444,
             "#bd3786"
            ],
            [
             0.5555555555555556,
             "#d8576b"
            ],
            [
             0.6666666666666666,
             "#ed7953"
            ],
            [
             0.7777777777777778,
             "#fb9f3a"
            ],
            [
             0.8888888888888888,
             "#fdca26"
            ],
            [
             1,
             "#f0f921"
            ]
           ],
           "sequentialminus": [
            [
             0,
             "#0d0887"
            ],
            [
             0.1111111111111111,
             "#46039f"
            ],
            [
             0.2222222222222222,
             "#7201a8"
            ],
            [
             0.3333333333333333,
             "#9c179e"
            ],
            [
             0.4444444444444444,
             "#bd3786"
            ],
            [
             0.5555555555555556,
             "#d8576b"
            ],
            [
             0.6666666666666666,
             "#ed7953"
            ],
            [
             0.7777777777777778,
             "#fb9f3a"
            ],
            [
             0.8888888888888888,
             "#fdca26"
            ],
            [
             1,
             "#f0f921"
            ]
           ]
          },
          "colorway": [
           "#636efa",
           "#EF553B",
           "#00cc96",
           "#ab63fa",
           "#FFA15A",
           "#19d3f3",
           "#FF6692",
           "#B6E880",
           "#FF97FF",
           "#FECB52"
          ],
          "font": {
           "color": "#2a3f5f"
          },
          "geo": {
           "bgcolor": "white",
           "lakecolor": "white",
           "landcolor": "#E5ECF6",
           "showlakes": true,
           "showland": true,
           "subunitcolor": "white"
          },
          "hoverlabel": {
           "align": "left"
          },
          "hovermode": "closest",
          "mapbox": {
           "style": "light"
          },
          "paper_bgcolor": "white",
          "plot_bgcolor": "#E5ECF6",
          "polar": {
           "angularaxis": {
            "gridcolor": "white",
            "linecolor": "white",
            "ticks": ""
           },
           "bgcolor": "#E5ECF6",
           "radialaxis": {
            "gridcolor": "white",
            "linecolor": "white",
            "ticks": ""
           }
          },
          "scene": {
           "xaxis": {
            "backgroundcolor": "#E5ECF6",
            "gridcolor": "white",
            "gridwidth": 2,
            "linecolor": "white",
            "showbackground": true,
            "ticks": "",
            "zerolinecolor": "white"
           },
           "yaxis": {
            "backgroundcolor": "#E5ECF6",
            "gridcolor": "white",
            "gridwidth": 2,
            "linecolor": "white",
            "showbackground": true,
            "ticks": "",
            "zerolinecolor": "white"
           },
           "zaxis": {
            "backgroundcolor": "#E5ECF6",
            "gridcolor": "white",
            "gridwidth": 2,
            "linecolor": "white",
            "showbackground": true,
            "ticks": "",
            "zerolinecolor": "white"
           }
          },
          "shapedefaults": {
           "line": {
            "color": "#2a3f5f"
           }
          },
          "ternary": {
           "aaxis": {
            "gridcolor": "white",
            "linecolor": "white",
            "ticks": ""
           },
           "baxis": {
            "gridcolor": "white",
            "linecolor": "white",
            "ticks": ""
           },
           "bgcolor": "#E5ECF6",
           "caxis": {
            "gridcolor": "white",
            "linecolor": "white",
            "ticks": ""
           }
          },
          "title": {
           "x": 0.05
          },
          "xaxis": {
           "automargin": true,
           "gridcolor": "white",
           "linecolor": "white",
           "ticks": "",
           "title": {
            "standoff": 15
           },
           "zerolinecolor": "white",
           "zerolinewidth": 2
          },
          "yaxis": {
           "automargin": true,
           "gridcolor": "white",
           "linecolor": "white",
           "ticks": "",
           "title": {
            "standoff": 15
           },
           "zerolinecolor": "white",
           "zerolinewidth": 2
          }
         }
        },
        "xaxis": {
         "anchor": "y",
         "domain": [
          0,
          1
         ],
         "title": {
          "text": "Datum"
         }
        },
        "yaxis": {
         "anchor": "x",
         "domain": [
          0,
          1
         ],
         "title": {
          "text": "DATA"
         }
        }
       }
      }
     },
     "metadata": {},
     "output_type": "display_data"
    }
   ],
   "source": [
    "fig = px.line(df_summerad, x=\"Datum\", y=\"DATA\",markers=True,color=\"Vårdform\")\n",
    "\n",
    "fig.update_traces(line=dict(width= 2))\n",
    "fig.update_layout(plot_bgcolor=\"white\", hovermode=\"x unified\")\n",
    "\n",
    "fig.show()"
   ]
  },
  {
   "cell_type": "code",
   "execution_count": null,
   "id": "e5614069",
   "metadata": {},
   "outputs": [],
   "source": [
    "df_vård = db.query(\"\"\"--sql\n",
    "         SELECT År || '-' || LPAD(CAST(Månad AS VARCHAR),2,'0') AS Datum, Vårdform ,Data, Mått\n",
    "         FROM df\n",
    "         WHERE (Mått == 'Antal')\n",
    "         \"\"\").df()\n",
    "\n",
    "df_vård\n",
    "\n",
    "EXTRACT(YEAR FROM timestamp_column) AS year"
   ]
  },
  {
   "cell_type": "code",
   "execution_count": 225,
   "id": "8a57d2fb",
   "metadata": {},
   "outputs": [
    {
     "data": {
      "application/vnd.plotly.v1+json": {
       "config": {
        "plotlyServerURL": "https://plot.ly"
       },
       "data": [
        {
         "hovertemplate": "Vårdform=Intensivvård<br>Datum=%{x}<br>DATA=%{y}<extra></extra>",
         "legendgroup": "Intensivvård",
         "marker": {
          "color": "#636efa",
          "pattern": {
           "shape": ""
          }
         },
         "name": "Intensivvård",
         "orientation": "v",
         "showlegend": true,
         "textposition": "auto",
         "type": "bar",
         "x": [
          "2015-07",
          "2015-08",
          "2015-09",
          "2015-10",
          "2015-11",
          "2015-12",
          "2016-01",
          "2016-02",
          "2016-03",
          "2016-04",
          "2016-05",
          "2016-06",
          "2016-07",
          "2016-08",
          "2016-09",
          "2016-10",
          "2016-11",
          "2016-12",
          "2017-01",
          "2017-02",
          "2017-03",
          "2017-04",
          "2017-05",
          "2017-06",
          "2017-07",
          "2017-08",
          "2017-09",
          "2017-10",
          "2017-11",
          "2017-12",
          "2018-01",
          "2018-02",
          "2018-03",
          "2018-04",
          "2018-05",
          "2018-06",
          "2018-07",
          "2018-08",
          "2018-09",
          "2018-10",
          "2018-11",
          "2018-12",
          "2019-01",
          "2019-02",
          "2019-03",
          "2019-04",
          "2019-05",
          "2019-06",
          "2019-07",
          "2019-08",
          "2019-09",
          "2019-10",
          "2019-11",
          "2019-12",
          "2020-01",
          "2020-02",
          "2020-03",
          "2020-04",
          "2020-05",
          "2020-06",
          "2020-07",
          "2020-08",
          "2020-09",
          "2020-10",
          "2020-11",
          "2020-12",
          "2021-01",
          "2021-02",
          "2021-03",
          "2021-04",
          "2021-05",
          "2021-06",
          "2021-07",
          "2021-08",
          "2021-09",
          "2021-10",
          "2021-11",
          "2021-12",
          "2022-01",
          "2022-02",
          "2022-03",
          "2022-04",
          "2022-05",
          "2022-06",
          "2022-07",
          "2022-08",
          "2022-09",
          "2022-10",
          "2022-11",
          "2022-12",
          "2023-01",
          "2023-02",
          "2023-03",
          "2023-04",
          "2023-05",
          "2023-06",
          "2023-07",
          "2023-08",
          "2023-09",
          "2023-10",
          "2023-11",
          "2023-12",
          "2024-01",
          "2024-02",
          "2024-03",
          "2024-04",
          "2024-05",
          "2024-06",
          "2024-07",
          "2024-08",
          "2024-09",
          "2024-10",
          "2024-11",
          "2024-12",
          "2025-01",
          "2025-02",
          "2025-03",
          "2025-04"
         ],
         "xaxis": "x",
         "y": {
          "bdata": "AAAAAAAAAAAAAAAAAAAAAAAAAAAAAAAAAAAAAAAAAAAAAAAAAAAIQAAAAAAAcHRAAAAAAACoj0AAAAAAAAibQAAAAAAAeIBAAAAAAAAAIkAAAAAAAAAAAAAAAAAAAAAAAAAAAAAAAAAAAAAAAAAAAAAAAAAAAAhAAAAAAAAAAAAAAAAAAAAiQAAAAAAAmIlAAAAAAABAjEAAAAAAAIiJQAAAAAAAEIBAAAAAAAAAKEAAAAAAAAAIQAAAAAAAAAhAAAAAAAAAAAAAAAAAAAAAAAAAAAAAAAAAAAAAAAAACEAAAAAAAAAoQAAAAAAAAC5AAAAAAABgYEAAAAAAADiAQAAAAAAAgINAAAAAAACweUAAAAAAAAAIQAAAAAAAAAhAAAAAAAAAAAAAAAAAAAAIQAAAAAAAAAAAAAAAAAAAAAAAAAAAAAAoQAAAAAAAOIBAAAAAAABAlkAAAAAAAICRQAAAAAAAUINAAAAAAACAc0AAAAAAAAAYQAAAAAAAAAAAAAAAAAAACEAAAAAAAAAIQAAAAAAAAAAAAAAAAAAAAAAAAAAAAAAoQAAAAAAAIGxAAAAAAABIg0AAAAAAACCDQAAAAAAAQHpAAAAAAAAAAAAAAAAAAAAAAAAAAAAAAAAAAAAAAAAAAAAAAAAAAAAAAAAAAAAAAAAAAAAAAAAAAAAAAAAAAAAAAAAAAAAAAAAAAAAAAAAAAAAAAAAAAAAAAAAAAAAAAAAAAAAAAAAAAAAAAAAAAAAAAAAAAAAAAAAAAAAAAAAAAAAAAAAAAAAAAAAAAAAAAAAAAAAAAAAACEAAAAAAAAAoQAAAAAAAaIZAAAAAAADAXUAAAAAAAAAAAAAAAAAAADVAAAAAAABAbEAAAAAAAAAuQAAAAAAAABhAAAAAAAAAAAAAAAAAAAAAAAAAAAAAAAAAAAAAAAAAAAAAAAAAAAAYQAAAAAAAZJlAAAAAAADQj0AAAAAAAGCAQAAAAAAAQINAAAAAAAAQdEAAAAAAAAA7QAAAAAAAACJAAAAAAAAACEAAAAAAAAAAAAAAAAAAAAhAAAAAAAAAIkAAAAAAAIBbQAAAAAAAbJFAAAAAAAAok0AAAAAAAPiSQAAAAAAAAG1AAAAAAAAALkAAAAAAAAA4QAAAAAAAAAhAAAAAAAAAAAAAAAAAAAAIQAAAAAAAAAAAAAAAAAAACEAAAAAAAAAYQAAAAAAAIGtAAAAAAADIhkAAAAAAABSWQAAAAAAAdJFAAAAAAAAAakA=",
          "dtype": "f8"
         },
         "yaxis": "y"
        },
        {
         "hovertemplate": "Vårdform=Slutenvård<br>Datum=%{x}<br>DATA=%{y}<extra></extra>",
         "legendgroup": "Slutenvård",
         "marker": {
          "color": "#EF553B",
          "pattern": {
           "shape": ""
          }
         },
         "name": "Slutenvård",
         "orientation": "v",
         "showlegend": true,
         "textposition": "auto",
         "type": "bar",
         "x": [
          "2015-07",
          "2015-08",
          "2015-09",
          "2015-10",
          "2015-11",
          "2015-12",
          "2016-01",
          "2016-02",
          "2016-03",
          "2016-04",
          "2016-05",
          "2016-06",
          "2016-07",
          "2016-08",
          "2016-09",
          "2016-10",
          "2016-11",
          "2016-12",
          "2017-01",
          "2017-02",
          "2017-03",
          "2017-04",
          "2017-05",
          "2017-06",
          "2017-07",
          "2017-08",
          "2017-09",
          "2017-10",
          "2017-11",
          "2017-12",
          "2018-01",
          "2018-02",
          "2018-03",
          "2018-04",
          "2018-05",
          "2018-06",
          "2018-07",
          "2018-08",
          "2018-09",
          "2018-10",
          "2018-11",
          "2018-12",
          "2019-01",
          "2019-02",
          "2019-03",
          "2019-04",
          "2019-05",
          "2019-06",
          "2019-07",
          "2019-08",
          "2019-09",
          "2019-10",
          "2019-11",
          "2019-12",
          "2020-01",
          "2020-02",
          "2020-03",
          "2020-04",
          "2020-05",
          "2020-06",
          "2020-07",
          "2020-08",
          "2020-09",
          "2020-10",
          "2020-11",
          "2020-12",
          "2021-01",
          "2021-02",
          "2021-03",
          "2021-04",
          "2021-05",
          "2021-06",
          "2021-07",
          "2021-08",
          "2021-09",
          "2021-10",
          "2021-11",
          "2021-12",
          "2022-01",
          "2022-02",
          "2022-03",
          "2022-04",
          "2022-05",
          "2022-06",
          "2022-07",
          "2022-08",
          "2022-09",
          "2022-10",
          "2022-11",
          "2022-12",
          "2023-01",
          "2023-02",
          "2023-03",
          "2023-04",
          "2023-05",
          "2023-06",
          "2023-07",
          "2023-08",
          "2023-09",
          "2023-10",
          "2023-11",
          "2023-12",
          "2024-01",
          "2024-02",
          "2024-03",
          "2024-04",
          "2024-05",
          "2024-06",
          "2024-07",
          "2024-08",
          "2024-09",
          "2024-10",
          "2024-11",
          "2024-12",
          "2025-01",
          "2025-02",
          "2025-03",
          "2025-04"
         ],
         "xaxis": "x",
         "y": {
          "bdata": "AAAAAAAAKEAAAAAAAAAuQAAAAAAAAAhAAAAAAABAX0AAAAAAAIB5QAAAAAAA3rBAAAAAAABZv0AAAAAAgHnPQAAAAACA+MNAAAAAAACIn0AAAAAAAACAQAAAAAAAADVAAAAAAAAALkAAAAAAAAAiQAAAAAAAAGBAAAAAAACAa0AAAAAAAIicQAAAAADAgdVAAAAAAEC20EAAAAAAwHbSQAAAAAAA6MVAAAAAAAC6o0AAAAAAADyWQAAAAAAAcHRAAAAAAACAW0AAAAAAAAAoQAAAAAAAADtAAAAAAAAAXUAAAAAAAMCUQAAAAAAA4blAAAAAAAC9zEAAAAAA4GriQAAAAABgauJAAAAAAID7wkAAAAAAAJiJQAAAAAAAAC5AAAAAAAAAMkAAAAAAAAAyQAAAAAAAADVAAAAAAAAALkAAAAAAAJiDQAAAAAAAKL5AAAAAAMB100AAAAAAADzUQAAAAACARsdAAAAAAAA0wUAAAAAAAHakQAAAAAAAgGpAAAAAAAAALkAAAAAAAGBqQAAAAAAAADJAAAAAAADAakAAAAAAAGiGQAAAAAAAfrBAAAAAAABFv0AAAAAAgFvEQAAAAAAA+7xAAAAAAADAeUAAAAAAAAAIQAAAAAAAAAhAAAAAAAAAGEAAAAAAAAAAAAAAAAAAAAAAAAAAAAAAGEAAAAAAAAAYQAAAAAAAABhAAAAAAAAALkAAAAAAAAAIQAAAAAAAAChAAAAAAAAAAAAAAAAAAAAYQAAAAAAAABhAAAAAAAAACEAAAAAAAAAoQAAAAAAAAChAAAAAAAAga0AAAAAAACSWQAAAAADAu9RAAAAAAAA4rEAAAAAAAFBzQAAAAAAAVJlAAAAAAACvuEAAAAAAALyqQAAAAAAAGJNAAAAAAABAX0AAAAAAANB/QAAAAAAAgGtAAAAAAADQeUAAAAAAALiMQAAAAAAAC9xAAAAAAACvzkAAAAAAABbHQAAAAAAARshAAAAAAABwskAAAAAAADyZQAAAAAAASIZAAAAAAADAXUAAAAAAAABFQAAAAAAAgF5AAAAAAACwekAAAAAAAN2yQAAAAACALtZAAAAAAAD/0UAAAAAAwMjRQAAAAAAAp7hAAAAAAAAUokAAAAAAAFicQAAAAAAAYHpAAAAAAAAAbUAAAAAAAMB6QAAAAAAAwF1AAAAAAABAg0AAAAAAAHiDQAAAAACAlsJAAAAAAADr1EAAAAAA4CDkQAAAAABAl95AAAAAAAAAAAA=",
          "dtype": "f8"
         },
         "yaxis": "y"
        }
       ],
       "layout": {
        "barmode": "relative",
        "hovermode": "x unified",
        "legend": {
         "title": {
          "text": "Vårdform"
         },
         "tracegroupgap": 0
        },
        "margin": {
         "t": 60
        },
        "plot_bgcolor": "white",
        "template": {
         "data": {
          "bar": [
           {
            "error_x": {
             "color": "#2a3f5f"
            },
            "error_y": {
             "color": "#2a3f5f"
            },
            "marker": {
             "line": {
              "color": "#E5ECF6",
              "width": 0.5
             },
             "pattern": {
              "fillmode": "overlay",
              "size": 10,
              "solidity": 0.2
             }
            },
            "type": "bar"
           }
          ],
          "barpolar": [
           {
            "marker": {
             "line": {
              "color": "#E5ECF6",
              "width": 0.5
             },
             "pattern": {
              "fillmode": "overlay",
              "size": 10,
              "solidity": 0.2
             }
            },
            "type": "barpolar"
           }
          ],
          "carpet": [
           {
            "aaxis": {
             "endlinecolor": "#2a3f5f",
             "gridcolor": "white",
             "linecolor": "white",
             "minorgridcolor": "white",
             "startlinecolor": "#2a3f5f"
            },
            "baxis": {
             "endlinecolor": "#2a3f5f",
             "gridcolor": "white",
             "linecolor": "white",
             "minorgridcolor": "white",
             "startlinecolor": "#2a3f5f"
            },
            "type": "carpet"
           }
          ],
          "choropleth": [
           {
            "colorbar": {
             "outlinewidth": 0,
             "ticks": ""
            },
            "type": "choropleth"
           }
          ],
          "contour": [
           {
            "colorbar": {
             "outlinewidth": 0,
             "ticks": ""
            },
            "colorscale": [
             [
              0,
              "#0d0887"
             ],
             [
              0.1111111111111111,
              "#46039f"
             ],
             [
              0.2222222222222222,
              "#7201a8"
             ],
             [
              0.3333333333333333,
              "#9c179e"
             ],
             [
              0.4444444444444444,
              "#bd3786"
             ],
             [
              0.5555555555555556,
              "#d8576b"
             ],
             [
              0.6666666666666666,
              "#ed7953"
             ],
             [
              0.7777777777777778,
              "#fb9f3a"
             ],
             [
              0.8888888888888888,
              "#fdca26"
             ],
             [
              1,
              "#f0f921"
             ]
            ],
            "type": "contour"
           }
          ],
          "contourcarpet": [
           {
            "colorbar": {
             "outlinewidth": 0,
             "ticks": ""
            },
            "type": "contourcarpet"
           }
          ],
          "heatmap": [
           {
            "colorbar": {
             "outlinewidth": 0,
             "ticks": ""
            },
            "colorscale": [
             [
              0,
              "#0d0887"
             ],
             [
              0.1111111111111111,
              "#46039f"
             ],
             [
              0.2222222222222222,
              "#7201a8"
             ],
             [
              0.3333333333333333,
              "#9c179e"
             ],
             [
              0.4444444444444444,
              "#bd3786"
             ],
             [
              0.5555555555555556,
              "#d8576b"
             ],
             [
              0.6666666666666666,
              "#ed7953"
             ],
             [
              0.7777777777777778,
              "#fb9f3a"
             ],
             [
              0.8888888888888888,
              "#fdca26"
             ],
             [
              1,
              "#f0f921"
             ]
            ],
            "type": "heatmap"
           }
          ],
          "histogram": [
           {
            "marker": {
             "pattern": {
              "fillmode": "overlay",
              "size": 10,
              "solidity": 0.2
             }
            },
            "type": "histogram"
           }
          ],
          "histogram2d": [
           {
            "colorbar": {
             "outlinewidth": 0,
             "ticks": ""
            },
            "colorscale": [
             [
              0,
              "#0d0887"
             ],
             [
              0.1111111111111111,
              "#46039f"
             ],
             [
              0.2222222222222222,
              "#7201a8"
             ],
             [
              0.3333333333333333,
              "#9c179e"
             ],
             [
              0.4444444444444444,
              "#bd3786"
             ],
             [
              0.5555555555555556,
              "#d8576b"
             ],
             [
              0.6666666666666666,
              "#ed7953"
             ],
             [
              0.7777777777777778,
              "#fb9f3a"
             ],
             [
              0.8888888888888888,
              "#fdca26"
             ],
             [
              1,
              "#f0f921"
             ]
            ],
            "type": "histogram2d"
           }
          ],
          "histogram2dcontour": [
           {
            "colorbar": {
             "outlinewidth": 0,
             "ticks": ""
            },
            "colorscale": [
             [
              0,
              "#0d0887"
             ],
             [
              0.1111111111111111,
              "#46039f"
             ],
             [
              0.2222222222222222,
              "#7201a8"
             ],
             [
              0.3333333333333333,
              "#9c179e"
             ],
             [
              0.4444444444444444,
              "#bd3786"
             ],
             [
              0.5555555555555556,
              "#d8576b"
             ],
             [
              0.6666666666666666,
              "#ed7953"
             ],
             [
              0.7777777777777778,
              "#fb9f3a"
             ],
             [
              0.8888888888888888,
              "#fdca26"
             ],
             [
              1,
              "#f0f921"
             ]
            ],
            "type": "histogram2dcontour"
           }
          ],
          "mesh3d": [
           {
            "colorbar": {
             "outlinewidth": 0,
             "ticks": ""
            },
            "type": "mesh3d"
           }
          ],
          "parcoords": [
           {
            "line": {
             "colorbar": {
              "outlinewidth": 0,
              "ticks": ""
             }
            },
            "type": "parcoords"
           }
          ],
          "pie": [
           {
            "automargin": true,
            "type": "pie"
           }
          ],
          "scatter": [
           {
            "fillpattern": {
             "fillmode": "overlay",
             "size": 10,
             "solidity": 0.2
            },
            "type": "scatter"
           }
          ],
          "scatter3d": [
           {
            "line": {
             "colorbar": {
              "outlinewidth": 0,
              "ticks": ""
             }
            },
            "marker": {
             "colorbar": {
              "outlinewidth": 0,
              "ticks": ""
             }
            },
            "type": "scatter3d"
           }
          ],
          "scattercarpet": [
           {
            "marker": {
             "colorbar": {
              "outlinewidth": 0,
              "ticks": ""
             }
            },
            "type": "scattercarpet"
           }
          ],
          "scattergeo": [
           {
            "marker": {
             "colorbar": {
              "outlinewidth": 0,
              "ticks": ""
             }
            },
            "type": "scattergeo"
           }
          ],
          "scattergl": [
           {
            "marker": {
             "colorbar": {
              "outlinewidth": 0,
              "ticks": ""
             }
            },
            "type": "scattergl"
           }
          ],
          "scattermap": [
           {
            "marker": {
             "colorbar": {
              "outlinewidth": 0,
              "ticks": ""
             }
            },
            "type": "scattermap"
           }
          ],
          "scattermapbox": [
           {
            "marker": {
             "colorbar": {
              "outlinewidth": 0,
              "ticks": ""
             }
            },
            "type": "scattermapbox"
           }
          ],
          "scatterpolar": [
           {
            "marker": {
             "colorbar": {
              "outlinewidth": 0,
              "ticks": ""
             }
            },
            "type": "scatterpolar"
           }
          ],
          "scatterpolargl": [
           {
            "marker": {
             "colorbar": {
              "outlinewidth": 0,
              "ticks": ""
             }
            },
            "type": "scatterpolargl"
           }
          ],
          "scatterternary": [
           {
            "marker": {
             "colorbar": {
              "outlinewidth": 0,
              "ticks": ""
             }
            },
            "type": "scatterternary"
           }
          ],
          "surface": [
           {
            "colorbar": {
             "outlinewidth": 0,
             "ticks": ""
            },
            "colorscale": [
             [
              0,
              "#0d0887"
             ],
             [
              0.1111111111111111,
              "#46039f"
             ],
             [
              0.2222222222222222,
              "#7201a8"
             ],
             [
              0.3333333333333333,
              "#9c179e"
             ],
             [
              0.4444444444444444,
              "#bd3786"
             ],
             [
              0.5555555555555556,
              "#d8576b"
             ],
             [
              0.6666666666666666,
              "#ed7953"
             ],
             [
              0.7777777777777778,
              "#fb9f3a"
             ],
             [
              0.8888888888888888,
              "#fdca26"
             ],
             [
              1,
              "#f0f921"
             ]
            ],
            "type": "surface"
           }
          ],
          "table": [
           {
            "cells": {
             "fill": {
              "color": "#EBF0F8"
             },
             "line": {
              "color": "white"
             }
            },
            "header": {
             "fill": {
              "color": "#C8D4E3"
             },
             "line": {
              "color": "white"
             }
            },
            "type": "table"
           }
          ]
         },
         "layout": {
          "annotationdefaults": {
           "arrowcolor": "#2a3f5f",
           "arrowhead": 0,
           "arrowwidth": 1
          },
          "autotypenumbers": "strict",
          "coloraxis": {
           "colorbar": {
            "outlinewidth": 0,
            "ticks": ""
           }
          },
          "colorscale": {
           "diverging": [
            [
             0,
             "#8e0152"
            ],
            [
             0.1,
             "#c51b7d"
            ],
            [
             0.2,
             "#de77ae"
            ],
            [
             0.3,
             "#f1b6da"
            ],
            [
             0.4,
             "#fde0ef"
            ],
            [
             0.5,
             "#f7f7f7"
            ],
            [
             0.6,
             "#e6f5d0"
            ],
            [
             0.7,
             "#b8e186"
            ],
            [
             0.8,
             "#7fbc41"
            ],
            [
             0.9,
             "#4d9221"
            ],
            [
             1,
             "#276419"
            ]
           ],
           "sequential": [
            [
             0,
             "#0d0887"
            ],
            [
             0.1111111111111111,
             "#46039f"
            ],
            [
             0.2222222222222222,
             "#7201a8"
            ],
            [
             0.3333333333333333,
             "#9c179e"
            ],
            [
             0.4444444444444444,
             "#bd3786"
            ],
            [
             0.5555555555555556,
             "#d8576b"
            ],
            [
             0.6666666666666666,
             "#ed7953"
            ],
            [
             0.7777777777777778,
             "#fb9f3a"
            ],
            [
             0.8888888888888888,
             "#fdca26"
            ],
            [
             1,
             "#f0f921"
            ]
           ],
           "sequentialminus": [
            [
             0,
             "#0d0887"
            ],
            [
             0.1111111111111111,
             "#46039f"
            ],
            [
             0.2222222222222222,
             "#7201a8"
            ],
            [
             0.3333333333333333,
             "#9c179e"
            ],
            [
             0.4444444444444444,
             "#bd3786"
            ],
            [
             0.5555555555555556,
             "#d8576b"
            ],
            [
             0.6666666666666666,
             "#ed7953"
            ],
            [
             0.7777777777777778,
             "#fb9f3a"
            ],
            [
             0.8888888888888888,
             "#fdca26"
            ],
            [
             1,
             "#f0f921"
            ]
           ]
          },
          "colorway": [
           "#636efa",
           "#EF553B",
           "#00cc96",
           "#ab63fa",
           "#FFA15A",
           "#19d3f3",
           "#FF6692",
           "#B6E880",
           "#FF97FF",
           "#FECB52"
          ],
          "font": {
           "color": "#2a3f5f"
          },
          "geo": {
           "bgcolor": "white",
           "lakecolor": "white",
           "landcolor": "#E5ECF6",
           "showlakes": true,
           "showland": true,
           "subunitcolor": "white"
          },
          "hoverlabel": {
           "align": "left"
          },
          "hovermode": "closest",
          "mapbox": {
           "style": "light"
          },
          "paper_bgcolor": "white",
          "plot_bgcolor": "#E5ECF6",
          "polar": {
           "angularaxis": {
            "gridcolor": "white",
            "linecolor": "white",
            "ticks": ""
           },
           "bgcolor": "#E5ECF6",
           "radialaxis": {
            "gridcolor": "white",
            "linecolor": "white",
            "ticks": ""
           }
          },
          "scene": {
           "xaxis": {
            "backgroundcolor": "#E5ECF6",
            "gridcolor": "white",
            "gridwidth": 2,
            "linecolor": "white",
            "showbackground": true,
            "ticks": "",
            "zerolinecolor": "white"
           },
           "yaxis": {
            "backgroundcolor": "#E5ECF6",
            "gridcolor": "white",
            "gridwidth": 2,
            "linecolor": "white",
            "showbackground": true,
            "ticks": "",
            "zerolinecolor": "white"
           },
           "zaxis": {
            "backgroundcolor": "#E5ECF6",
            "gridcolor": "white",
            "gridwidth": 2,
            "linecolor": "white",
            "showbackground": true,
            "ticks": "",
            "zerolinecolor": "white"
           }
          },
          "shapedefaults": {
           "line": {
            "color": "#2a3f5f"
           }
          },
          "ternary": {
           "aaxis": {
            "gridcolor": "white",
            "linecolor": "white",
            "ticks": ""
           },
           "baxis": {
            "gridcolor": "white",
            "linecolor": "white",
            "ticks": ""
           },
           "bgcolor": "#E5ECF6",
           "caxis": {
            "gridcolor": "white",
            "linecolor": "white",
            "ticks": ""
           }
          },
          "title": {
           "x": 0.05
          },
          "xaxis": {
           "automargin": true,
           "gridcolor": "white",
           "linecolor": "white",
           "ticks": "",
           "title": {
            "standoff": 15
           },
           "zerolinecolor": "white",
           "zerolinewidth": 2
          },
          "yaxis": {
           "automargin": true,
           "gridcolor": "white",
           "linecolor": "white",
           "ticks": "",
           "title": {
            "standoff": 15
           },
           "zerolinecolor": "white",
           "zerolinewidth": 2
          }
         }
        },
        "xaxis": {
         "anchor": "y",
         "domain": [
          0,
          1
         ],
         "title": {
          "text": "Datum"
         }
        },
        "yaxis": {
         "anchor": "x",
         "domain": [
          0,
          1
         ],
         "title": {
          "text": "DATA"
         }
        }
       }
      }
     },
     "metadata": {},
     "output_type": "display_data"
    }
   ],
   "source": [
    "fig = px.bar(df_summerad, x=\"Datum\", y=\"DATA\",color=\"Vårdform\")\n",
    "\n",
    "fig.update_layout(plot_bgcolor=\"white\", hovermode=\"x unified\")\n",
    "\n",
    "fig.show()"
   ]
  },
  {
   "cell_type": "code",
   "execution_count": null,
   "id": "05900a15",
   "metadata": {},
   "outputs": [],
   "source": []
  }
 ],
 "metadata": {
  "kernelspec": {
   "display_name": ".venv",
   "language": "python",
   "name": "python3"
  },
  "language_info": {
   "codemirror_mode": {
    "name": "ipython",
    "version": 3
   },
   "file_extension": ".py",
   "mimetype": "text/x-python",
   "name": "python",
   "nbconvert_exporter": "python",
   "pygments_lexer": "ipython3",
   "version": "3.12.5"
  }
 },
 "nbformat": 4,
 "nbformat_minor": 5
}
